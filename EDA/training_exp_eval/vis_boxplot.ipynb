{
 "cells": [
  {
   "cell_type": "code",
   "execution_count": 1,
   "metadata": {},
   "outputs": [],
   "source": [
    "# visualize the boxplot of the training experiment\n",
    "import os.path as osp\n",
    "import os\n",
    "import numpy as np\n",
    "import pandas as pd\n",
    "import json\n",
    "import seaborn as sns\n",
    "import matplotlib.pyplot as plt"
   ]
  },
  {
   "cell_type": "code",
   "execution_count": null,
   "metadata": {},
   "outputs": [],
   "source": [
    "# 1. 5 models fine-tuned or trained on STF dataset\n",
    "# 2. 5 models trained on diff dataset without fine-tuning\n",
    "# 3. all models in comparisons"
   ]
  },
  {
   "cell_type": "code",
   "execution_count": 6,
   "metadata": {},
   "outputs": [],
   "source": [
    "# specify the model paths\n",
    "metrics_root = \"/labs/gevaertlab/users/yyhhli/code/vae/EDA/training_exp_eval/results\"\n",
    "prefix = \"TRAINING_EXPS_V2-\"\n",
    "# fine-tuned or trained on STF dataset\n",
    "model_paths_v1 = [\n",
    "    'lidc->stf_4e-6_step5000_version-4.json',\n",
    "    'lndb->stf_4e-6_step5000_version-1.json',\n",
    "    'lidc-lndb->stf_4e-6_step5000_version-2.json',\n",
    "    'stf-aug_8-32-128-512_1e-5_step65000_version-2.json',\n",
    "    ]\n",
    "# trained on diff dataset without fine-tuning\n",
    "model_paths_v2 = [\n",
    "    'lidcaug_8-32-128-512_1e-5_step65000_version-3.json',\n",
    "    'lndb->stf_4e-6_step5000_version-1.json',\n",
    "    'lidc-lndb-aug_8-32-128-512_1e-5_step65000_version-2.json',\n",
    "    'lidc-lndb-stf-aug_8-32-128-512_1e-5_step65000_version-1.json',\n",
    "    'stf-aug_8-32-128-512_1e-5_step65000_version-2.json',\n",
    "    ]\n",
    "# all models in comparisons\n",
    "# model_paths_v3 = [\n",
    "#     'TRAINING_EXPS_V2-lndb->stf_4e-6_step5000_version-1.json',\n",
    "#     'TRAINING_EXPS_V2-lidcaug_8-32-128-512_1e-5_step65000_version-3.json',\n",
    "#     'TRAINING_EXPS_V2-lidc-lndb-aug_8-32-128-512_1e-5_step65000_version-2.json',\n",
    "#     'TRAINING_EXPS_V2-stf-aug_8-32-128-512_1e-5_step65000_version-2.json',\n",
    "#     'TRAINING_EXPS_V2-lidc-lndb-stf-aug_8-32-128-512_1e-5_step65000_version-1.json',\n",
    "#     'TRAINING_EXPS_V2-lndb-aug_8-32-128-512_1e-5_step65000_version-1.json',\n",
    "#     'TRAINING_EXPS_V2-lidc->stf_4e-6_step5000_version-4.json',\n",
    "#     'TRAINING_EXPS_V2-lidc-lndb->stf_4e-6_step5000_version-2.json',\n",
    "#     'VAE3D32AUG_version-70.json'\n",
    "#     ]"
   ]
  },
  {
   "cell_type": "code",
   "execution_count": 8,
   "metadata": {},
   "outputs": [
    {
     "data": {
      "text/plain": [
       "['TRAINING_EXPS_V2-lndb->stf_4e-6_step5000_version-1.json',\n",
       " 'TRAINING_EXPS_V2-lidcaug_8-32-128-512_1e-5_step65000_version-3.json',\n",
       " 'TRAINING_EXPS_V2-lidc-lndb-aug_8-32-128-512_1e-5_step65000_version-2.json',\n",
       " 'TRAINING_EXPS_V2-stf-aug_8-32-128-512_1e-5_step65000_version-2.json',\n",
       " 'TRAINING_EXPS_V2-lidc-lndb-stf-aug_8-32-128-512_1e-5_step65000_version-1.json',\n",
       " 'TRAINING_EXPS_V2-lndb-aug_8-32-128-512_1e-5_step65000_version-1.json',\n",
       " 'TRAINING_EXPS_V2-lidc->stf_4e-6_step5000_version-4.json',\n",
       " 'TRAINING_EXPS_V2-lidc-lndb->stf_4e-6_step5000_version-2.json',\n",
       " 'VAE3D32AUG_version-70.json']"
      ]
     },
     "execution_count": 8,
     "metadata": {},
     "output_type": "execute_result"
    }
   ],
   "source": [
    "# draw the boxplot or violin plot"
   ]
  },
  {
   "cell_type": "code",
   "execution_count": null,
   "metadata": {},
   "outputs": [],
   "source": []
  }
 ],
 "metadata": {
  "kernelspec": {
   "display_name": "Python 3.8.13 ('lungvae38')",
   "language": "python",
   "name": "python3"
  },
  "language_info": {
   "codemirror_mode": {
    "name": "ipython",
    "version": 3
   },
   "file_extension": ".py",
   "mimetype": "text/x-python",
   "name": "python",
   "nbconvert_exporter": "python",
   "pygments_lexer": "ipython3",
   "version": "3.8.13"
  },
  "orig_nbformat": 4,
  "vscode": {
   "interpreter": {
    "hash": "69a9686b88574cea3f3be86d1b85294c5e5eb295dbbf26619c72ae656e929b42"
   }
  }
 },
 "nbformat": 4,
 "nbformat_minor": 2
}
