{
 "cells": [
  {
   "cell_type": "code",
   "execution_count": null,
   "metadata": {},
   "outputs": [],
   "source": [
    "# to check the sizes of the datasets\n",
    "# import patch datasets\n"
   ]
  },
  {
   "cell_type": "code",
   "execution_count": 1,
   "metadata": {},
   "outputs": [],
   "source": [
    "import sys\n",
    "import argparse\n",
    "import numpy as np\n",
    "import os\n",
    "import os.path as osp"
   ]
  },
  {
   "cell_type": "code",
   "execution_count": 2,
   "metadata": {},
   "outputs": [],
   "source": [
    "sys.path.insert(1, \"/labs/gevaertlab/users/yyhhli/code/vae/\")"
   ]
  },
  {
   "cell_type": "code",
   "execution_count": 3,
   "metadata": {},
   "outputs": [
    {
     "name": "stderr",
     "output_type": "stream",
     "text": [
      "/labs/gevaertlab/users/yyhhli/miniconda3/envs/lungvae38/lib/python3.8/site-packages/tqdm/auto.py:22: TqdmWarning: IProgress not found. Please update jupyter and ipywidgets. See https://ipywidgets.readthedocs.io/en/stable/user_install.html\n",
      "  from .autonotebook import tqdm as notebook_tqdm\n"
     ]
    }
   ],
   "source": [
    "from datasets import PATCH_DATASETS\n",
    "from datasets.utils import sitk2tensor\n",
    "from evaluations.evaluator import ReconEvaluator"
   ]
  },
  {
   "cell_type": "code",
   "execution_count": 7,
   "metadata": {},
   "outputs": [],
   "source": [
    "ds_dict = { # \"stf\": \"StanfordRadiogenomicsPatchDataset\",\n",
    "            \"lidc\": \"LIDCPatchDataset\",\n",
    "            \"lndb\": \"LNDbPatch32Dataset\"}\n",
    "split = [\"train\", \"test\", \"val\", \"all\"]\n",
    "\n"
   ]
  },
  {
   "cell_type": "code",
   "execution_count": 8,
   "metadata": {},
   "outputs": [
    {
     "name": "stderr",
     "output_type": "stream",
     "text": [
      "[08-04 15:39:27 | patch_ds:LIDCPatchDataset] patient split: train:445, val:56, test:56\n",
      "[08-04 15:39:27 | patch_ds:LIDCPatchDataset] patch split: train, 1771\n",
      "[08-04 15:39:27 | patch_ds:LIDCPatchDataset] patient split: train:445, val:56, test:56\n",
      "[08-04 15:39:27 | patch_ds:LIDCPatchDataset] patch split: test, 170\n",
      "[08-04 15:39:27 | patch_ds:LIDCPatchDataset] patient split: train:445, val:56, test:56\n",
      "[08-04 15:39:27 | patch_ds:LIDCPatchDataset] patch split: val, 188\n",
      "[08-04 15:39:27 | patch_ds:LNDbPatch32Dataset] patient split: train:168, val:22, test:22\n",
      "[08-04 15:39:27 | patch_ds:LNDbPatch32Dataset] patch split: train, 823\n",
      "[08-04 15:39:27 | patch_ds:LNDbPatch32Dataset] patient split: train:168, val:22, test:22\n",
      "[08-04 15:39:27 | patch_ds:LNDbPatch32Dataset] patch split: test, 116\n",
      "[08-04 15:39:27 | patch_ds:LNDbPatch32Dataset] patient split: train:168, val:22, test:22\n",
      "[08-04 15:39:27 | patch_ds:LNDbPatch32Dataset] patch split: val, 94\n"
     ]
    },
    {
     "name": "stdout",
     "output_type": "stream",
     "text": [
      "length of LIDCPatchDataset train dataset 1771\n",
      "length of LIDCPatchDataset test dataset 170\n",
      "length of LIDCPatchDataset val dataset 188\n",
      "length of LIDCPatchDataset all dataset 1779\n",
      "length of LNDbPatch32Dataset train dataset 823\n",
      "length of LNDbPatch32Dataset test dataset 116\n",
      "length of LNDbPatch32Dataset val dataset 94\n",
      "length of LNDbPatch32Dataset all dataset 1033\n"
     ]
    }
   ],
   "source": [
    "for name, ds in ds_dict.items():\n",
    "    for s in split:\n",
    "        patch_ds = PATCH_DATASETS[ds](root_dir=None,\n",
    "                                      transform=sitk2tensor,\n",
    "                                      split=s)\n",
    "        print(f\"length of {ds} {s} dataset\",\n",
    "              len(patch_ds))\n",
    "        pass"
   ]
  },
  {
   "cell_type": "code",
   "execution_count": 9,
   "metadata": {},
   "outputs": [
    {
     "data": {
      "text/plain": [
       "557"
      ]
     },
     "execution_count": 9,
     "metadata": {},
     "output_type": "execute_result"
    }
   ],
   "source": [
    "445 + 56 + 56"
   ]
  },
  {
   "cell_type": "code",
   "execution_count": 10,
   "metadata": {},
   "outputs": [
    {
     "data": {
      "text/plain": [
       "2129"
      ]
     },
     "execution_count": 10,
     "metadata": {},
     "output_type": "execute_result"
    }
   ],
   "source": [
    "1771 + 170 + 188"
   ]
  },
  {
   "cell_type": "code",
   "execution_count": 11,
   "metadata": {},
   "outputs": [
    {
     "data": {
      "text/plain": [
       "212"
      ]
     },
     "execution_count": 11,
     "metadata": {},
     "output_type": "execute_result"
    }
   ],
   "source": [
    "168 + 22 + 22"
   ]
  },
  {
   "cell_type": "code",
   "execution_count": 12,
   "metadata": {},
   "outputs": [
    {
     "data": {
      "text/plain": [
       "1033"
      ]
     },
     "execution_count": 12,
     "metadata": {},
     "output_type": "execute_result"
    }
   ],
   "source": [
    "823 + 116 + 94"
   ]
  },
  {
   "cell_type": "code",
   "execution_count": null,
   "metadata": {},
   "outputs": [],
   "source": []
  }
 ],
 "metadata": {
  "kernelspec": {
   "display_name": "Python 3.8.13 ('lungvae38')",
   "language": "python",
   "name": "python3"
  },
  "language_info": {
   "codemirror_mode": {
    "name": "ipython",
    "version": 3
   },
   "file_extension": ".py",
   "mimetype": "text/x-python",
   "name": "python",
   "nbconvert_exporter": "python",
   "pygments_lexer": "ipython3",
   "version": "3.8.13"
  },
  "orig_nbformat": 4,
  "vscode": {
   "interpreter": {
    "hash": "69a9686b88574cea3f3be86d1b85294c5e5eb295dbbf26619c72ae656e929b42"
   }
  }
 },
 "nbformat": 4,
 "nbformat_minor": 2
}
