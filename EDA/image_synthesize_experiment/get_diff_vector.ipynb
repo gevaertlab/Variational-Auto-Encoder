{
 "cells": [
  {
   "cell_type": "code",
   "execution_count": 1,
   "metadata": {},
   "outputs": [
    {
     "name": "stderr",
     "output_type": "stream",
     "text": [
      "/labs/gevaertlab/users/yyhhli/miniconda3/envs/lungvae38/lib/python3.8/site-packages/tqdm/auto.py:22: TqdmWarning: IProgress not found. Please update jupyter and ipywidgets. See https://ipywidgets.readthedocs.io/en/stable/user_install.html\n",
      "  from .autonotebook import tqdm as notebook_tqdm\n"
     ]
    }
   ],
   "source": [
    "# get diff vector using some really reasonable nodules\n",
    "# import things\n",
    "import os\n",
    "import os.path as osp\n",
    "import sys\n",
    "import torch\n",
    "import numpy as np"
   ]
  },
  {
   "cell_type": "code",
   "execution_count": 2,
   "metadata": {},
   "outputs": [],
   "source": [
    "sys.path.insert(1, '/labs/gevaertlab/users/yyhhli/code/vae/')"
   ]
  },
  {
   "cell_type": "code",
   "execution_count": 15,
   "metadata": {},
   "outputs": [
    {
     "name": "stderr",
     "output_type": "stream",
     "text": [
      "[06-02 14:49:14 | patch_ds:LIDCPatchAugDataset] patient split: train:699, val:88, test:88\n",
      "[06-02 14:49:14 | patch_ds:LIDCPatchAugDataset] patch split: train, 32694\n",
      "[06-02 14:49:15 | patch_ds:LIDCPatchAugDataset] patient split: train:699, val:88, test:88\n",
      "[06-02 14:49:15 | patch_ds:LIDCPatchAugDataset] patch split: val, 4194\n",
      "[06-02 14:49:15 | patch_ds:LNDbPatch32Dataset] patient split: train:168, val:22, test:22\n",
      "[06-02 14:49:15 | patch_ds:LNDbPatch32Dataset] patch split: train, 844\n",
      "[06-02 14:49:15 | patch_ds:LNDbPatch32Dataset] patient split: train:168, val:22, test:22\n",
      "[06-02 14:49:15 | patch_ds:LNDbPatch32Dataset] patch split: val, 97\n",
      "[06-02 14:49:15 | patch_stanfordradiogenomics:StanfordRadiogenomicsPatchDataset] patient split: train:100, test:43\n",
      "[06-02 14:49:15 | patch_stanfordradiogenomics:StanfordRadiogenomicsPatchDataset] this dataset only has train/test splits, setting val as test\n",
      "[06-02 14:49:15 | patch_stanfordradiogenomics:StanfordRadiogenomicsPatchDataset] patient split: train:100, test:43\n"
     ]
    }
   ],
   "source": [
    "# import datasets\n",
    "\n",
    "from datasets import PATCH_DATASETS\n",
    "from datasets.utils import sitk2tensor\n",
    "lidc_train = PATCH_DATASETS['LIDCPatchAugDataset'](\n",
    "    root_dir=None, transform=sitk2tensor, split='train')\n",
    "lidc_val = PATCH_DATASETS['LIDCPatchAugDataset'](\n",
    "    root_dir=None, transform=sitk2tensor, split='val')\n",
    "# get dataloaders\n",
    "from torch.utils.data.dataloader import DataLoader\n",
    "lidc_train_dataloader = DataLoader(\n",
    "    dataset=lidc_train, batch_size=36, shuffle=False, drop_last=False, num_workers=4, pin_memory=False)\n",
    "lidc_val_dataloader = DataLoader(\n",
    "    dataset=lidc_val, batch_size=36, shuffle=False, drop_last=False, num_workers=4, pin_memory=False)\n",
    "\n",
    "# import LNDB dataset\n",
    "lndb_train = PATCH_DATASETS['LNDbPatch32Dataset'](\n",
    "    root_dir=None, transform=sitk2tensor, split='train')\n",
    "lndb_val = PATCH_DATASETS['LNDbPatch32Dataset'](\n",
    "    root_dir=None, transform=sitk2tensor, split='val')\n",
    "# lndb dataloader\n",
    "lndb_train_dataloader = DataLoader(\n",
    "    dataset=lndb_train, batch_size=36, shuffle=False, drop_last=False, num_workers=4, pin_memory=False)\n",
    "lndb_val_dataloader = DataLoader(\n",
    "    dataset=lndb_val, batch_size=36, shuffle=False, drop_last=False, num_workers=4, pin_memory=False)\n",
    "\n",
    "# import stf dataset and dataloader\n",
    "stf_train = PATCH_DATASETS['StanfordRadiogenomicsPatchDataset'](\n",
    "    root_dir=None, transform=sitk2tensor, split='train')\n",
    "stf_val = PATCH_DATASETS['StanfordRadiogenomicsPatchDataset'](\n",
    "    root_dir=None, transform=sitk2tensor, split='val')\n",
    "# stf dataloader\n",
    "stf_train_dataloader = DataLoader(\n",
    "    dataset=stf_train, batch_size=36, shuffle=False, drop_last=False, num_workers=4, pin_memory=False)\n",
    "stf_val_dataloader = DataLoader(\n",
    "    dataset=stf_val, batch_size=36, shuffle=False, drop_last=False, num_workers=4, pin_memory=False)\n",
    "\n"
   ]
  },
  {
   "cell_type": "code",
   "execution_count": 5,
   "metadata": {},
   "outputs": [],
   "source": [
    "log_name=\"VAE3D32AUG\"\n",
    "version=70\n",
    "vis_dir=\"/labs/gevaertlab/users/yyhhli/code/vae/EDA/image_synthesize_experiment/results/\""
   ]
  },
  {
   "cell_type": "code",
   "execution_count": null,
   "metadata": {},
   "outputs": [],
   "source": [
    "# import exporter\n",
    "# from evaluations.export import Exporter\n",
    "# lidc_exporter = Exporter(log_name=log_name, version=version,\n",
    "#                     dataloaders={\"train\": lidc_train_dataloader,\n",
    "#                                     \"val\": lidc_val_dataloader},\n",
    "#                     task_names=[\"volume\"])\n",
    "# # get data\n",
    "# embeddings, data_names, label_dict = lidc_exporter.get_data()\n",
    "# embeddings_train = np.array(embeddings[\"train\"])"
   ]
  },
  {
   "cell_type": "code",
   "execution_count": 42,
   "metadata": {},
   "outputs": [
    {
     "name": "stderr",
     "output_type": "stream",
     "text": [
      "[06-02 15:04:37 | patch_ds:LIDCPatchAugDataset] patient split: train:699, val:88, test:88\n",
      "[06-02 15:04:37 | patch_ds:LIDCPatchAugDataset] patch split: train, 32694\n",
      "[06-02 15:04:37 | patch_ds:LNDbPatch32AugDataset] patient split: train:168, val:22, test:22\n",
      "[06-02 15:04:37 | patch_ds:LNDbPatch32AugDataset] patch split: train, 5064\n",
      "[06-02 15:04:37 | patch_stanfordradiogenomics:StanfordRadiogenomicsPatchAugDataset] patient split: train:100, test:43\n",
      "[06-02 15:04:37 | export:  Exporter] initializing embeddings\n",
      "[06-02 15:04:41 | patch_ds:LIDCPatchAugDataset] patient split: train:699, val:88, test:88\n",
      "[06-02 15:04:41 | patch_ds:LIDCPatchAugDataset] patch split: train, 32694\n",
      "[06-02 15:04:41 | patch_ds:LNDbPatch32AugDataset] patient split: train:168, val:22, test:22\n",
      "[06-02 15:04:41 | patch_ds:LNDbPatch32AugDataset] patch split: train, 5064\n",
      "[06-02 15:04:41 | patch_stanfordradiogenomics:StanfordRadiogenomicsPatchAugDataset] patient split: train:100, test:43\n"
     ]
    },
    {
     "name": "stdout",
     "output_type": "stream",
     "text": [
      " | 5.0 secs.\n"
     ]
    }
   ],
   "source": [
    "from evaluations.export import Exporter\n",
    "lndb_exporter = Exporter(log_name=log_name, version=version,\n",
    "                    dataloaders={\"train\": lndb_train_dataloader,\n",
    "                                    \"val\": lndb_val_dataloader},\n",
    "                    task_names=[\"LNDbTaskVolume\"])\n",
    "# get data\n",
    "lndb_embeddings, data_names, lndb_label_dict = lndb_exporter.get_data()\n",
    "lndb_embeddings_train = np.array(lndb_embeddings[\"train\"])"
   ]
  },
  {
   "cell_type": "code",
   "execution_count": 43,
   "metadata": {},
   "outputs": [],
   "source": [
    "lndb_volume = np.array(lndb_label_dict['LNDbTaskVolume']['train'])"
   ]
  },
  {
   "cell_type": "code",
   "execution_count": 13,
   "metadata": {},
   "outputs": [
    {
     "data": {
      "text/plain": [
       "216.8279484561208"
      ]
     },
     "execution_count": 13,
     "metadata": {},
     "output_type": "execute_result"
    }
   ],
   "source": [
    "np.median(lndb_volume)"
   ]
  },
  {
   "cell_type": "code",
   "execution_count": 19,
   "metadata": {},
   "outputs": [
    {
     "data": {
      "text/plain": [
       "Text(0.5, 1.0, 'LNDb Volume Histogram')"
      ]
     },
     "execution_count": 19,
     "metadata": {},
     "output_type": "execute_result"
    },
    {
     "data": {
      "image/png": "[encoded data removed]",
      "text/plain": [
       "<Figure size 432x288 with 1 Axes>"
      ]
     },
     "metadata": {
      "needs_background": "light"
     },
     "output_type": "display_data"
    }
   ],
   "source": [
    "import matplotlib.pyplot as plt\n",
    "%matplotlib inline\n",
    "plt.hist(lndb_volume)\n",
    "plt.title(\"LNDb Volume Histogram\")"
   ]
  },
  {
   "cell_type": "code",
   "execution_count": 16,
   "metadata": {},
   "outputs": [
    {
     "name": "stderr",
     "output_type": "stream",
     "text": [
      "[06-02 14:49:21 | patch_ds:LIDCPatchAugDataset] patient split: train:699, val:88, test:88\n",
      "[06-02 14:49:21 | patch_ds:LIDCPatchAugDataset] patch split: train, 32694\n",
      "[06-02 14:49:21 | patch_ds:LNDbPatch32AugDataset] patient split: train:168, val:22, test:22\n",
      "[06-02 14:49:21 | patch_ds:LNDbPatch32AugDataset] patch split: train, 5064\n",
      "[06-02 14:49:21 | patch_stanfordradiogenomics:StanfordRadiogenomicsPatchAugDataset] patient split: train:100, test:43\n",
      "[06-02 14:49:21 | export:  Exporter] initializing embeddings\n",
      "[06-02 14:49:25 | patch_ds:LIDCPatchAugDataset] patient split: train:699, val:88, test:88\n",
      "[06-02 14:49:25 | patch_ds:LIDCPatchAugDataset] patch split: train, 32694\n",
      "[06-02 14:49:26 | patch_ds:LNDbPatch32AugDataset] patient split: train:168, val:22, test:22\n",
      "[06-02 14:49:26 | patch_ds:LNDbPatch32AugDataset] patch split: train, 5064\n",
      "[06-02 14:49:26 | patch_stanfordradiogenomics:StanfordRadiogenomicsPatchAugDataset] patient split: train:100, test:43\n"
     ]
    },
    {
     "name": "stdout",
     "output_type": "stream",
     "text": [
      " | 42.0 secs.\n"
     ]
    }
   ],
   "source": [
    "lidc_exporter = Exporter(log_name=log_name, version=version,\n",
    "                    dataloaders={\"train\": lidc_train_dataloader,\n",
    "                                    \"val\": lidc_val_dataloader},\n",
    "                    task_names=[\"volume\"])\n",
    "# get data\n",
    "lidc_embeddings, data_names, lidc_label_dict = lidc_exporter.get_data()\n",
    "lidc_embeddings_train = np.array(lidc_embeddings[\"train\"])"
   ]
  },
  {
   "cell_type": "code",
   "execution_count": 17,
   "metadata": {},
   "outputs": [
    {
     "data": {
      "text/plain": [
       "158.7219238281249"
      ]
     },
     "execution_count": 17,
     "metadata": {},
     "output_type": "execute_result"
    }
   ],
   "source": [
    "lidc_volume = np.array(lidc_label_dict['volume']['train'])\n",
    "np.median(lidc_volume)"
   ]
  },
  {
   "cell_type": "code",
   "execution_count": 20,
   "metadata": {},
   "outputs": [
    {
     "data": {
      "text/plain": [
       "Text(0.5, 1.0, 'LIDC Volume Histogram')"
      ]
     },
     "execution_count": 20,
     "metadata": {},
     "output_type": "execute_result"
    },
    {
     "data": {
      "image/png": "[encoded data removed]",
      "text/plain": [
       "<Figure size 432x288 with 1 Axes>"
      ]
     },
     "metadata": {
      "needs_background": "light"
     },
     "output_type": "display_data"
    }
   ],
   "source": [
    "plt.hist(lidc_volume)\n",
    "plt.title(\"LIDC Volume Histogram\")"
   ]
  },
  {
   "cell_type": "code",
   "execution_count": 38,
   "metadata": {},
   "outputs": [
    {
     "data": {
      "image/png": "[encoded data removed]",
      "text/plain": [
       "<Figure size 432x288 with 1 Axes>"
      ]
     },
     "metadata": {
      "needs_background": "light"
     },
     "output_type": "display_data"
    }
   ],
   "source": [
    "data1 = lidc_volume\n",
    "# data2 = lndb_volume\n",
    "# data3 = stf_volume\n",
    "fig, ax = plt.subplots()\n",
    "\n",
    "\n",
    "ax.hist(data1, bins=50, color='blue', label='LIDC dataset',\n",
    "        alpha=0.5, histtype='stepfilled')\n",
    "# ax.hist(data2, color='green', label='Dataset 2',\n",
    "#         alpha=0.5, histtype='stepfilled')\n",
    "# ax.hist(data3, color='red', label='Dataset 3',\n",
    "#         alpha=0.5, histtype='stepfilled')\n",
    "\n",
    "ax.axvline(np.median(data1), color='blue', linewidth=2)\n",
    "# ax.axvline(data2.mean(), color='green', linewidth=2)\n",
    "# ax.axvline(data3.mean(), color='green', linewidth=2)\n",
    "\n",
    "# Add arrows annotating the means:\n",
    "for dat, xoff in zip([data1], [15]):\n",
    "    x0 = np.median(dat)\n",
    "    align = 'left' if xoff > 0 else 'right'\n",
    "    ax.annotate('Median: {:0.2f}'.format(x0), xy=(x0, 1), xytext=(xoff, 15),\n",
    "            xycoords=('data', 'axes fraction'), textcoords='offset points',\n",
    "            horizontalalignment=align, verticalalignment='center',\n",
    "            arrowprops=dict(arrowstyle='-|>', fc='black', shrinkA=0, shrinkB=0,\n",
    "                            connectionstyle='angle,angleA=0,angleB=90,rad=10'),\n",
    "            )\n",
    "\n",
    "ax.legend(loc='upper left')\n",
    "ax.margins(0.05)\n",
    "plt.show()"
   ]
  },
  {
   "cell_type": "code",
   "execution_count": 21,
   "metadata": {},
   "outputs": [
    {
     "name": "stderr",
     "output_type": "stream",
     "text": [
      "[06-02 14:53:07 | patch_ds:LIDCPatchAugDataset] patient split: train:699, val:88, test:88\n",
      "[06-02 14:53:07 | patch_ds:LIDCPatchAugDataset] patch split: train, 32694\n",
      "[06-02 14:53:07 | patch_ds:LNDbPatch32AugDataset] patient split: train:168, val:22, test:22\n",
      "[06-02 14:53:07 | patch_ds:LNDbPatch32AugDataset] patch split: train, 5064\n",
      "[06-02 14:53:07 | patch_stanfordradiogenomics:StanfordRadiogenomicsPatchAugDataset] patient split: train:100, test:43\n",
      "[06-02 14:53:07 | export:  Exporter] initializing embeddings\n",
      "[06-02 14:53:11 | patch_ds:LIDCPatchAugDataset] patient split: train:699, val:88, test:88\n",
      "[06-02 14:53:11 | patch_ds:LIDCPatchAugDataset] patch split: train, 32694\n",
      "[06-02 14:53:11 | patch_ds:LNDbPatch32AugDataset] patient split: train:168, val:22, test:22\n",
      "[06-02 14:53:11 | patch_ds:LNDbPatch32AugDataset] patch split: train, 5064\n",
      "[06-02 14:53:11 | patch_stanfordradiogenomics:StanfordRadiogenomicsPatchAugDataset] patient split: train:100, test:43\n"
     ]
    },
    {
     "name": "stdout",
     "output_type": "stream",
     "text": [
      " | 4.0 secs.\n"
     ]
    }
   ],
   "source": [
    "stf_exporter = Exporter(log_name=log_name, version=version,\n",
    "                    dataloaders={\"train\": stf_train_dataloader,\n",
    "                                    \"val\": stf_val_dataloader},\n",
    "                    task_names=[\"StfVolume\"])\n",
    "# get data\n",
    "stf_embeddings, data_names, stf_label_dict = stf_exporter.get_data()\n",
    "stf_embeddings_train = np.array(stf_embeddings[\"train\"])"
   ]
  },
  {
   "cell_type": "code",
   "execution_count": 22,
   "metadata": {},
   "outputs": [
    {
     "data": {
      "text/plain": [
       "12396.5"
      ]
     },
     "execution_count": 22,
     "metadata": {},
     "output_type": "execute_result"
    }
   ],
   "source": [
    "stf_volume = np.array(stf_label_dict['StfVolume']['train'])\n",
    "np.median(stf_volume)"
   ]
  },
  {
   "cell_type": "code",
   "execution_count": 40,
   "metadata": {},
   "outputs": [
    {
     "data": {
      "image/png": "[encoded data removed]",
      "text/plain": [
       "<Figure size 432x288 with 1 Axes>"
      ]
     },
     "metadata": {
      "needs_background": "light"
     },
     "output_type": "display_data"
    }
   ],
   "source": [
    "data1 = lndb_volume\n",
    "# data2 = lndb_volume\n",
    "# data3 = stf_volume\n",
    "fig, ax = plt.subplots()\n",
    "\n",
    "\n",
    "ax.hist(data1, bins=50, color='green', label='LNDb dataset',\n",
    "        alpha=0.5, histtype='stepfilled')\n",
    "# ax.hist(data2, color='green', label='Dataset 2',\n",
    "#         alpha=0.5, histtype='stepfilled')\n",
    "# ax.hist(data3, color='red', label='Dataset 3',\n",
    "#         alpha=0.5, histtype='stepfilled')\n",
    "\n",
    "ax.axvline(np.median(data1), color='green', linewidth=2)\n",
    "# ax.axvline(data2.mean(), color='green', linewidth=2)\n",
    "# ax.axvline(data3.mean(), color='green', linewidth=2)\n",
    "\n",
    "# Add arrows annotating the means:\n",
    "for dat, xoff in zip([data1], [15]):\n",
    "    x0 = np.median(dat)\n",
    "    align = 'left' if xoff > 0 else 'right'\n",
    "    ax.annotate('Median: {:0.2f}'.format(x0), xy=(x0, 1), xytext=(xoff, 15),\n",
    "            xycoords=('data', 'axes fraction'), textcoords='offset points',\n",
    "            horizontalalignment=align, verticalalignment='center',\n",
    "            arrowprops=dict(arrowstyle='-|>', fc='black', shrinkA=0, shrinkB=0,\n",
    "                            connectionstyle='angle,angleA=0,angleB=90,rad=10'),\n",
    "            )\n",
    "\n",
    "ax.legend(loc='upper left')\n",
    "ax.margins(0.05)\n",
    "plt.show()"
   ]
  },
  {
   "cell_type": "code",
   "execution_count": 41,
   "metadata": {},
   "outputs": [
    {
     "data": {
      "image/png": "[encoded data removed]",
      "text/plain": [
       "<Figure size 432x288 with 1 Axes>"
      ]
     },
     "metadata": {
      "needs_background": "light"
     },
     "output_type": "display_data"
    }
   ],
   "source": [
    "data1 = stf_volume\n",
    "# data2 = lndb_volume\n",
    "# data3 = stf_volume\n",
    "fig, ax = plt.subplots()\n",
    "\n",
    "\n",
    "ax.hist(data1, bins=50, color='red', label='Stf dataset',\n",
    "        alpha=0.5, histtype='stepfilled')\n",
    "# ax.hist(data2, color='green', label='Dataset 2',\n",
    "#         alpha=0.5, histtype='stepfilled')\n",
    "# ax.hist(data3, color='red', label='Dataset 3',\n",
    "#         alpha=0.5, histtype='stepfilled')\n",
    "\n",
    "ax.axvline(np.median(data1), color='red', linewidth=2)\n",
    "# ax.axvline(data2.mean(), color='green', linewidth=2)\n",
    "# ax.axvline(data3.mean(), color='green', linewidth=2)\n",
    "\n",
    "# Add arrows annotating the means:\n",
    "for dat, xoff in zip([data1], [15]):\n",
    "    x0 = np.median(dat)\n",
    "    align = 'left' if xoff > 0 else 'right'\n",
    "    ax.annotate('Median: {:0.2f}'.format(x0), xy=(x0, 1), xytext=(xoff, 15),\n",
    "            xycoords=('data', 'axes fraction'), textcoords='offset points',\n",
    "            horizontalalignment=align, verticalalignment='center',\n",
    "            arrowprops=dict(arrowstyle='-|>', fc='black', shrinkA=0, shrinkB=0,\n",
    "                            connectionstyle='angle,angleA=0,angleB=90,rad=10'),\n",
    "            )\n",
    "\n",
    "ax.legend(loc='upper left')\n",
    "ax.margins(0.05)\n",
    "plt.show()"
   ]
  },
  {
   "cell_type": "code",
   "execution_count": 48,
   "metadata": {},
   "outputs": [],
   "source": [
    "# select 36 nodules of lndb at the 75% volume and visualize\n",
    "lndb_idx = np.where(lndb_volume > np.percentile(lndb_volume, 75))[0][:36]\n",
    "# get images from dataset\n",
    "lndb_imgs = [lndb_train[i] for i in lndb_idx]"
   ]
  },
  {
   "cell_type": "code",
   "execution_count": 49,
   "metadata": {},
   "outputs": [
    {
     "data": {
      "text/plain": [
       "36"
      ]
     },
     "execution_count": 49,
     "metadata": {},
     "output_type": "execute_result"
    }
   ],
   "source": [
    "len(lndb_imgs)"
   ]
  },
  {
   "cell_type": "code",
   "execution_count": null,
   "metadata": {},
   "outputs": [],
   "source": []
  }
 ],
 "metadata": {
  "interpreter": {
   "hash": "69a9686b88574cea3f3be86d1b85294c5e5eb295dbbf26619c72ae656e929b42"
  },
  "kernelspec": {
   "display_name": "Python 3.8.13 ('lungvae38')",
   "language": "python",
   "name": "python3"
  },
  "language_info": {
   "codemirror_mode": {
    "name": "ipython",
    "version": 3
   },
   "file_extension": ".py",
   "mimetype": "text/x-python",
   "name": "python",
   "nbconvert_exporter": "python",
   "pygments_lexer": "ipython3",
   "version": "3.8.13"
  },
  "orig_nbformat": 4
 },
 "nbformat": 4,
 "nbformat_minor": 2
}
