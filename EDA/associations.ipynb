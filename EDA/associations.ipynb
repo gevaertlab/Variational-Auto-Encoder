{
 "cells": [
  {
   "cell_type": "code",
   "execution_count": 1,
   "metadata": {},
   "outputs": [],
   "source": [
    "import os\n",
    "os.chdir(path=\"/labs/gevaertlab/users/yyhhli/code/vae\")\n",
    "from applications.application import Application\n",
    "import scipy\n",
    "import pandas as pd\n",
    "from tqdm import tqdm\n",
    "from statsmodels.stats.multitest import fdrcorrection\n",
    "from IPython.display import display, HTML\n"
   ]
  },
  {
   "cell_type": "code",
   "execution_count": 3,
   "metadata": {},
   "outputs": [],
   "source": [
    "task_names = ['volume', 'malignancy', 'texture', 'spiculation', 'subtlety']"
   ]
  },
  {
   "cell_type": "code",
   "execution_count": 4,
   "metadata": {},
   "outputs": [
    {
     "name": "stdout",
     "output_type": "stream",
     "text": [
      "match labels | 0.0 secs.\n"
     ]
    }
   ],
   "source": [
    "app = Application(log_name='VAE3D32AUG',\n",
    "                  version=10,\n",
    "                  task_name='volume')"
   ]
  },
  {
   "cell_type": "code",
   "execution_count": 5,
   "metadata": {},
   "outputs": [],
   "source": [
    "# load data\n",
    "X, Y = app.preprocess_data()"
   ]
  },
  {
   "cell_type": "code",
   "execution_count": 6,
   "metadata": {},
   "outputs": [
    {
     "name": "stdout",
     "output_type": "stream",
     "text": [
      "(5505, 2048)\n",
      "(5505,)\n"
     ]
    }
   ],
   "source": [
    "print(X['train'].shape)\n",
    "print(Y['train'].shape)"
   ]
  },
  {
   "cell_type": "code",
   "execution_count": 7,
   "metadata": {},
   "outputs": [],
   "source": [
    "spmr = scipy.stats.spearmanr(X['train'][:,0], Y['train'], axis=0)"
   ]
  },
  {
   "cell_type": "code",
   "execution_count": 8,
   "metadata": {},
   "outputs": [
    {
     "data": {
      "text/plain": [
       "()"
      ]
     },
     "execution_count": 8,
     "metadata": {},
     "output_type": "execute_result"
    }
   ],
   "source": [
    "list(spmr)[1].shape"
   ]
  },
  {
   "cell_type": "code",
   "execution_count": 13,
   "metadata": {},
   "outputs": [],
   "source": [
    "def get_stats_results(X, Y, func):\n",
    "    results = []\n",
    "    for col in tqdm(range(X.shape[1])):\n",
    "        results.append(list(func(X[:,col], Y)))\n",
    "    return pd.DataFrame(results, columns=['correlation', 'pvalue'])"
   ]
  },
  {
   "cell_type": "code",
   "execution_count": 14,
   "metadata": {},
   "outputs": [
    {
     "name": "stderr",
     "output_type": "stream",
     "text": [
      "100%|██████████| 2048/2048 [00:03<00:00, 578.83it/s]\n"
     ]
    }
   ],
   "source": [
    "spm_df = get_stats_results(X['train'], Y['train'], scipy.stats.spearmanr)"
   ]
  },
  {
   "cell_type": "code",
   "execution_count": 15,
   "metadata": {},
   "outputs": [
    {
     "data": {
      "text/html": [
       "<div>\n",
       "<style scoped>\n",
       "    .dataframe tbody tr th:only-of-type {\n",
       "        vertical-align: middle;\n",
       "    }\n",
       "\n",
       "    .dataframe tbody tr th {\n",
       "        vertical-align: top;\n",
       "    }\n",
       "\n",
       "    .dataframe thead th {\n",
       "        text-align: right;\n",
       "    }\n",
       "</style>\n",
       "<table border=\"1\" class=\"dataframe\">\n",
       "  <thead>\n",
       "    <tr style=\"text-align: right;\">\n",
       "      <th></th>\n",
       "      <th>correlation</th>\n",
       "      <th>pvalue</th>\n",
       "    </tr>\n",
       "  </thead>\n",
       "  <tbody>\n",
       "    <tr>\n",
       "      <th>0</th>\n",
       "      <td>0.002649</td>\n",
       "      <td>8.442033e-01</td>\n",
       "    </tr>\n",
       "    <tr>\n",
       "      <th>1</th>\n",
       "      <td>0.007467</td>\n",
       "      <td>5.796621e-01</td>\n",
       "    </tr>\n",
       "    <tr>\n",
       "      <th>2</th>\n",
       "      <td>-0.063629</td>\n",
       "      <td>2.304361e-06</td>\n",
       "    </tr>\n",
       "    <tr>\n",
       "      <th>3</th>\n",
       "      <td>0.005750</td>\n",
       "      <td>6.697374e-01</td>\n",
       "    </tr>\n",
       "    <tr>\n",
       "      <th>4</th>\n",
       "      <td>-0.141261</td>\n",
       "      <td>6.191126e-26</td>\n",
       "    </tr>\n",
       "  </tbody>\n",
       "</table>\n",
       "</div>"
      ],
      "text/plain": [
       "   correlation        pvalue\n",
       "0     0.002649  8.442033e-01\n",
       "1     0.007467  5.796621e-01\n",
       "2    -0.063629  2.304361e-06\n",
       "3     0.005750  6.697374e-01\n",
       "4    -0.141261  6.191126e-26"
      ]
     },
     "execution_count": 15,
     "metadata": {},
     "output_type": "execute_result"
    }
   ],
   "source": [
    "spm_df.head()"
   ]
  },
  {
   "cell_type": "code",
   "execution_count": 20,
   "metadata": {},
   "outputs": [],
   "source": [
    "fdr_df = pd.DataFrame(fdrcorrection(pvals=list(spm_df['pvalue']))).transpose()"
   ]
  },
  {
   "cell_type": "code",
   "execution_count": 23,
   "metadata": {},
   "outputs": [],
   "source": [
    "fdr_df.columns = ['reject', 'adjusted']"
   ]
  },
  {
   "cell_type": "code",
   "execution_count": 24,
   "metadata": {},
   "outputs": [
    {
     "data": {
      "text/html": [
       "<div>\n",
       "<style scoped>\n",
       "    .dataframe tbody tr th:only-of-type {\n",
       "        vertical-align: middle;\n",
       "    }\n",
       "\n",
       "    .dataframe tbody tr th {\n",
       "        vertical-align: top;\n",
       "    }\n",
       "\n",
       "    .dataframe thead th {\n",
       "        text-align: right;\n",
       "    }\n",
       "</style>\n",
       "<table border=\"1\" class=\"dataframe\">\n",
       "  <thead>\n",
       "    <tr style=\"text-align: right;\">\n",
       "      <th></th>\n",
       "      <th>reject</th>\n",
       "      <th>adjusted</th>\n",
       "    </tr>\n",
       "  </thead>\n",
       "  <tbody>\n",
       "    <tr>\n",
       "      <th>0</th>\n",
       "      <td>False</td>\n",
       "      <td>0.875407</td>\n",
       "    </tr>\n",
       "    <tr>\n",
       "      <th>1</th>\n",
       "      <td>False</td>\n",
       "      <td>0.642049</td>\n",
       "    </tr>\n",
       "    <tr>\n",
       "      <th>2</th>\n",
       "      <td>True</td>\n",
       "      <td>1.03042e-05</td>\n",
       "    </tr>\n",
       "    <tr>\n",
       "      <th>3</th>\n",
       "      <td>False</td>\n",
       "      <td>0.72611</td>\n",
       "    </tr>\n",
       "    <tr>\n",
       "      <th>4</th>\n",
       "      <td>True</td>\n",
       "      <td>1.69059e-24</td>\n",
       "    </tr>\n",
       "    <tr>\n",
       "      <th>...</th>\n",
       "      <td>...</td>\n",
       "      <td>...</td>\n",
       "    </tr>\n",
       "    <tr>\n",
       "      <th>2043</th>\n",
       "      <td>True</td>\n",
       "      <td>0.000473252</td>\n",
       "    </tr>\n",
       "    <tr>\n",
       "      <th>2044</th>\n",
       "      <td>False</td>\n",
       "      <td>0.0638369</td>\n",
       "    </tr>\n",
       "    <tr>\n",
       "      <th>2045</th>\n",
       "      <td>False</td>\n",
       "      <td>0.0874867</td>\n",
       "    </tr>\n",
       "    <tr>\n",
       "      <th>2046</th>\n",
       "      <td>True</td>\n",
       "      <td>0.0186235</td>\n",
       "    </tr>\n",
       "    <tr>\n",
       "      <th>2047</th>\n",
       "      <td>False</td>\n",
       "      <td>0.265016</td>\n",
       "    </tr>\n",
       "  </tbody>\n",
       "</table>\n",
       "<p>2048 rows × 2 columns</p>\n",
       "</div>"
      ],
      "text/plain": [
       "     reject     adjusted\n",
       "0     False     0.875407\n",
       "1     False     0.642049\n",
       "2      True  1.03042e-05\n",
       "3     False      0.72611\n",
       "4      True  1.69059e-24\n",
       "...     ...          ...\n",
       "2043   True  0.000473252\n",
       "2044  False    0.0638369\n",
       "2045  False    0.0874867\n",
       "2046   True    0.0186235\n",
       "2047  False     0.265016\n",
       "\n",
       "[2048 rows x 2 columns]"
      ]
     },
     "execution_count": 24,
     "metadata": {},
     "output_type": "execute_result"
    }
   ],
   "source": [
    "fdr_df"
   ]
  },
  {
   "cell_type": "code",
   "execution_count": 25,
   "metadata": {},
   "outputs": [],
   "source": [
    "adj_spm_df = pd.concat([spm_df, fdr_df], axis=1)"
   ]
  },
  {
   "cell_type": "code",
   "execution_count": 26,
   "metadata": {},
   "outputs": [
    {
     "data": {
      "text/html": [
       "<div>\n",
       "<style scoped>\n",
       "    .dataframe tbody tr th:only-of-type {\n",
       "        vertical-align: middle;\n",
       "    }\n",
       "\n",
       "    .dataframe tbody tr th {\n",
       "        vertical-align: top;\n",
       "    }\n",
       "\n",
       "    .dataframe thead th {\n",
       "        text-align: right;\n",
       "    }\n",
       "</style>\n",
       "<table border=\"1\" class=\"dataframe\">\n",
       "  <thead>\n",
       "    <tr style=\"text-align: right;\">\n",
       "      <th></th>\n",
       "      <th>correlation</th>\n",
       "      <th>pvalue</th>\n",
       "      <th>reject</th>\n",
       "      <th>adjusted</th>\n",
       "    </tr>\n",
       "  </thead>\n",
       "  <tbody>\n",
       "    <tr>\n",
       "      <th>0</th>\n",
       "      <td>0.002649</td>\n",
       "      <td>8.442033e-01</td>\n",
       "      <td>False</td>\n",
       "      <td>0.875407</td>\n",
       "    </tr>\n",
       "    <tr>\n",
       "      <th>1</th>\n",
       "      <td>0.007467</td>\n",
       "      <td>5.796621e-01</td>\n",
       "      <td>False</td>\n",
       "      <td>0.642049</td>\n",
       "    </tr>\n",
       "    <tr>\n",
       "      <th>2</th>\n",
       "      <td>-0.063629</td>\n",
       "      <td>2.304361e-06</td>\n",
       "      <td>True</td>\n",
       "      <td>1.03042e-05</td>\n",
       "    </tr>\n",
       "    <tr>\n",
       "      <th>3</th>\n",
       "      <td>0.005750</td>\n",
       "      <td>6.697374e-01</td>\n",
       "      <td>False</td>\n",
       "      <td>0.72611</td>\n",
       "    </tr>\n",
       "    <tr>\n",
       "      <th>4</th>\n",
       "      <td>-0.141261</td>\n",
       "      <td>6.191126e-26</td>\n",
       "      <td>True</td>\n",
       "      <td>1.69059e-24</td>\n",
       "    </tr>\n",
       "    <tr>\n",
       "      <th>...</th>\n",
       "      <td>...</td>\n",
       "      <td>...</td>\n",
       "      <td>...</td>\n",
       "      <td>...</td>\n",
       "    </tr>\n",
       "    <tr>\n",
       "      <th>2043</th>\n",
       "      <td>-0.050816</td>\n",
       "      <td>1.619871e-04</td>\n",
       "      <td>True</td>\n",
       "      <td>0.000473252</td>\n",
       "    </tr>\n",
       "    <tr>\n",
       "      <th>2044</th>\n",
       "      <td>-0.027338</td>\n",
       "      <td>4.252909e-02</td>\n",
       "      <td>False</td>\n",
       "      <td>0.0638369</td>\n",
       "    </tr>\n",
       "    <tr>\n",
       "      <th>2045</th>\n",
       "      <td>-0.025273</td>\n",
       "      <td>6.078785e-02</td>\n",
       "      <td>False</td>\n",
       "      <td>0.0874867</td>\n",
       "    </tr>\n",
       "    <tr>\n",
       "      <th>2046</th>\n",
       "      <td>-0.034666</td>\n",
       "      <td>1.010286e-02</td>\n",
       "      <td>True</td>\n",
       "      <td>0.0186235</td>\n",
       "    </tr>\n",
       "    <tr>\n",
       "      <th>2047</th>\n",
       "      <td>-0.016869</td>\n",
       "      <td>2.107960e-01</td>\n",
       "      <td>False</td>\n",
       "      <td>0.265016</td>\n",
       "    </tr>\n",
       "  </tbody>\n",
       "</table>\n",
       "<p>2048 rows × 4 columns</p>\n",
       "</div>"
      ],
      "text/plain": [
       "      correlation        pvalue reject     adjusted\n",
       "0        0.002649  8.442033e-01  False     0.875407\n",
       "1        0.007467  5.796621e-01  False     0.642049\n",
       "2       -0.063629  2.304361e-06   True  1.03042e-05\n",
       "3        0.005750  6.697374e-01  False      0.72611\n",
       "4       -0.141261  6.191126e-26   True  1.69059e-24\n",
       "...           ...           ...    ...          ...\n",
       "2043    -0.050816  1.619871e-04   True  0.000473252\n",
       "2044    -0.027338  4.252909e-02  False    0.0638369\n",
       "2045    -0.025273  6.078785e-02  False    0.0874867\n",
       "2046    -0.034666  1.010286e-02   True    0.0186235\n",
       "2047    -0.016869  2.107960e-01  False     0.265016\n",
       "\n",
       "[2048 rows x 4 columns]"
      ]
     },
     "execution_count": 26,
     "metadata": {},
     "output_type": "execute_result"
    }
   ],
   "source": [
    "adj_spm_df"
   ]
  },
  {
   "cell_type": "code",
   "execution_count": 27,
   "metadata": {},
   "outputs": [],
   "source": [
    "associated_df = adj_spm_df[adj_spm_df['reject'] == True]"
   ]
  },
  {
   "cell_type": "code",
   "execution_count": 28,
   "metadata": {},
   "outputs": [
    {
     "data": {
      "text/html": [
       "<div>\n",
       "<style scoped>\n",
       "    .dataframe tbody tr th:only-of-type {\n",
       "        vertical-align: middle;\n",
       "    }\n",
       "\n",
       "    .dataframe tbody tr th {\n",
       "        vertical-align: top;\n",
       "    }\n",
       "\n",
       "    .dataframe thead th {\n",
       "        text-align: right;\n",
       "    }\n",
       "</style>\n",
       "<table border=\"1\" class=\"dataframe\">\n",
       "  <thead>\n",
       "    <tr style=\"text-align: right;\">\n",
       "      <th></th>\n",
       "      <th>correlation</th>\n",
       "      <th>pvalue</th>\n",
       "      <th>reject</th>\n",
       "      <th>adjusted</th>\n",
       "    </tr>\n",
       "  </thead>\n",
       "  <tbody>\n",
       "    <tr>\n",
       "      <th>2</th>\n",
       "      <td>-0.063629</td>\n",
       "      <td>2.304361e-06</td>\n",
       "      <td>True</td>\n",
       "      <td>1.03042e-05</td>\n",
       "    </tr>\n",
       "    <tr>\n",
       "      <th>4</th>\n",
       "      <td>-0.141261</td>\n",
       "      <td>6.191126e-26</td>\n",
       "      <td>True</td>\n",
       "      <td>1.69059e-24</td>\n",
       "    </tr>\n",
       "    <tr>\n",
       "      <th>5</th>\n",
       "      <td>0.115091</td>\n",
       "      <td>1.073420e-17</td>\n",
       "      <td>True</td>\n",
       "      <td>1.71747e-16</td>\n",
       "    </tr>\n",
       "    <tr>\n",
       "      <th>6</th>\n",
       "      <td>0.078188</td>\n",
       "      <td>6.292989e-09</td>\n",
       "      <td>True</td>\n",
       "      <td>4.06563e-08</td>\n",
       "    </tr>\n",
       "    <tr>\n",
       "      <th>7</th>\n",
       "      <td>0.085471</td>\n",
       "      <td>2.128383e-10</td>\n",
       "      <td>True</td>\n",
       "      <td>1.68298e-09</td>\n",
       "    </tr>\n",
       "    <tr>\n",
       "      <th>...</th>\n",
       "      <td>...</td>\n",
       "      <td>...</td>\n",
       "      <td>...</td>\n",
       "      <td>...</td>\n",
       "    </tr>\n",
       "    <tr>\n",
       "      <th>2033</th>\n",
       "      <td>-0.032193</td>\n",
       "      <td>1.691153e-02</td>\n",
       "      <td>True</td>\n",
       "      <td>0.0289589</td>\n",
       "    </tr>\n",
       "    <tr>\n",
       "      <th>2035</th>\n",
       "      <td>-0.032240</td>\n",
       "      <td>1.674877e-02</td>\n",
       "      <td>True</td>\n",
       "      <td>0.0287322</td>\n",
       "    </tr>\n",
       "    <tr>\n",
       "      <th>2042</th>\n",
       "      <td>-0.089355</td>\n",
       "      <td>3.104901e-11</td>\n",
       "      <td>True</td>\n",
       "      <td>2.69442e-10</td>\n",
       "    </tr>\n",
       "    <tr>\n",
       "      <th>2043</th>\n",
       "      <td>-0.050816</td>\n",
       "      <td>1.619871e-04</td>\n",
       "      <td>True</td>\n",
       "      <td>0.000473252</td>\n",
       "    </tr>\n",
       "    <tr>\n",
       "      <th>2046</th>\n",
       "      <td>-0.034666</td>\n",
       "      <td>1.010286e-02</td>\n",
       "      <td>True</td>\n",
       "      <td>0.0186235</td>\n",
       "    </tr>\n",
       "  </tbody>\n",
       "</table>\n",
       "<p>1321 rows × 4 columns</p>\n",
       "</div>"
      ],
      "text/plain": [
       "      correlation        pvalue reject     adjusted\n",
       "2       -0.063629  2.304361e-06   True  1.03042e-05\n",
       "4       -0.141261  6.191126e-26   True  1.69059e-24\n",
       "5        0.115091  1.073420e-17   True  1.71747e-16\n",
       "6        0.078188  6.292989e-09   True  4.06563e-08\n",
       "7        0.085471  2.128383e-10   True  1.68298e-09\n",
       "...           ...           ...    ...          ...\n",
       "2033    -0.032193  1.691153e-02   True    0.0289589\n",
       "2035    -0.032240  1.674877e-02   True    0.0287322\n",
       "2042    -0.089355  3.104901e-11   True  2.69442e-10\n",
       "2043    -0.050816  1.619871e-04   True  0.000473252\n",
       "2046    -0.034666  1.010286e-02   True    0.0186235\n",
       "\n",
       "[1321 rows x 4 columns]"
      ]
     },
     "execution_count": 28,
     "metadata": {},
     "output_type": "execute_result"
    }
   ],
   "source": [
    "associated_df"
   ]
  },
  {
   "cell_type": "markdown",
   "metadata": {},
   "source": [
    "## Associations"
   ]
  },
  {
   "cell_type": "code",
   "execution_count": 45,
   "metadata": {},
   "outputs": [],
   "source": [
    "task_names = ['volume', 'malignancy', 'texture', 'spiculation', 'subtlety']\n",
    "def get_associated_features(task_names, func):\n",
    "    sig_dict = {}\n",
    "    for task_name in task_names:\n",
    "        print(f\"---start task {task_name}---\")\n",
    "        app = Application(log_name='VAE3D32AUG',\n",
    "                    version=10,\n",
    "                    task_name=task_name)\n",
    "        X, Y = app.preprocess_data()\n",
    "        print(X['train'].shape, len(Y['train']))\n",
    "        stats_df = get_stats_results(X['train'], Y['train'], func)\n",
    "        # correction\n",
    "        fdr_df = pd.DataFrame(fdrcorrection(pvals=list(stats_df['pvalue']))).transpose()\n",
    "        fdr_df.columns = ['reject', 'adjusted']\n",
    "        adj_stats_df = pd.concat([stats_df, fdr_df], axis=1)\n",
    "        sig_df = adj_stats_df[adj_stats_df['reject'] == True]\n",
    "        sig_dict[task_name] = sig_df\n",
    "    return sig_dict"
   ]
  },
  {
   "cell_type": "code",
   "execution_count": null,
   "metadata": {},
   "outputs": [],
   "source": [
    "task_names = ['volume', 'malignancy', 'texture', 'spiculation', 'subtlety']\n",
    "def get_associated_features(task_names, func):\n",
    "    sig_dict = {}\n",
    "    for task_name in task_names:\n",
    "        print(f\"---start task {task_name}---\")\n",
    "        app = Application(log_name='VAE3D32AUG',\n",
    "                    version=10,\n",
    "                    task_name=task_name)\n",
    "        X, Y = app.preprocess_data()\n",
    "        print(X['train'].shape, len(Y['train']))\n",
    "        stats_df = get_stats_results(X['train'], Y['train'], func)\n",
    "        # correction\n",
    "        fdr_df = pd.DataFrame(fdrcorrection(pvals=list(stats_df['pvalue']))).transpose()\n",
    "        fdr_df.columns = ['reject', 'adjusted']\n",
    "        adj_stats_df = pd.concat([stats_df, fdr_df], axis=1)\n",
    "        sig_df = adj_stats_df[adj_stats_df['reject'] == True]\n",
    "        sig_dict[task_name] = sig_df\n",
    "    return sig_dict"
   ]
  },
  {
   "cell_type": "code",
   "execution_count": 44,
   "metadata": {},
   "outputs": [
    {
     "name": "stdout",
     "output_type": "stream",
     "text": [
      "---start task volume---\n",
      "match labels | 0.0 secs.\n"
     ]
    },
    {
     "name": "stderr",
     "output_type": "stream",
     "text": [
      "  3%|▎         | 62/2048 [00:00<00:03, 617.00it/s]"
     ]
    },
    {
     "name": "stdout",
     "output_type": "stream",
     "text": [
      "(5505, 2048) 5505\n"
     ]
    },
    {
     "name": "stderr",
     "output_type": "stream",
     "text": [
      "100%|██████████| 2048/2048 [00:03<00:00, 619.15it/s]\n"
     ]
    },
    {
     "name": "stdout",
     "output_type": "stream",
     "text": [
      "---start task malignancy---\n",
      "match labels | 0.0 secs.\n"
     ]
    },
    {
     "name": "stderr",
     "output_type": "stream",
     "text": [
      "  3%|▎         | 60/2048 [00:00<00:03, 590.98it/s]"
     ]
    },
    {
     "name": "stdout",
     "output_type": "stream",
     "text": [
      "(5505, 2048) 5505\n"
     ]
    },
    {
     "name": "stderr",
     "output_type": "stream",
     "text": [
      " 59%|█████▊    | 1200/2048 [00:02<00:01, 586.40it/s]\n"
     ]
    },
    {
     "ename": "KeyboardInterrupt",
     "evalue": "",
     "output_type": "error",
     "traceback": [
      "\u001b[0;31m---------------------------------------------------------------------------\u001b[0m",
      "\u001b[0;31mKeyboardInterrupt\u001b[0m                         Traceback (most recent call last)",
      "\u001b[0;32m<ipython-input-44-1daeda1128bf>\u001b[0m in \u001b[0;36m<module>\u001b[0;34m\u001b[0m\n\u001b[1;32m      7\u001b[0m     \u001b[0mX\u001b[0m\u001b[0;34m,\u001b[0m \u001b[0mY\u001b[0m \u001b[0;34m=\u001b[0m \u001b[0mapp\u001b[0m\u001b[0;34m.\u001b[0m\u001b[0mpreprocess_data\u001b[0m\u001b[0;34m(\u001b[0m\u001b[0;34m)\u001b[0m\u001b[0;34m\u001b[0m\u001b[0;34m\u001b[0m\u001b[0m\n\u001b[1;32m      8\u001b[0m     \u001b[0mprint\u001b[0m\u001b[0;34m(\u001b[0m\u001b[0mX\u001b[0m\u001b[0;34m[\u001b[0m\u001b[0;34m'train'\u001b[0m\u001b[0;34m]\u001b[0m\u001b[0;34m.\u001b[0m\u001b[0mshape\u001b[0m\u001b[0;34m,\u001b[0m \u001b[0mlen\u001b[0m\u001b[0;34m(\u001b[0m\u001b[0mY\u001b[0m\u001b[0;34m[\u001b[0m\u001b[0;34m'train'\u001b[0m\u001b[0;34m]\u001b[0m\u001b[0;34m)\u001b[0m\u001b[0;34m)\u001b[0m\u001b[0;34m\u001b[0m\u001b[0;34m\u001b[0m\u001b[0m\n\u001b[0;32m----> 9\u001b[0;31m     \u001b[0mstats_df\u001b[0m \u001b[0;34m=\u001b[0m \u001b[0mget_stats_results\u001b[0m\u001b[0;34m(\u001b[0m\u001b[0mX\u001b[0m\u001b[0;34m[\u001b[0m\u001b[0;34m'train'\u001b[0m\u001b[0;34m]\u001b[0m\u001b[0;34m,\u001b[0m \u001b[0mY\u001b[0m\u001b[0;34m[\u001b[0m\u001b[0;34m'train'\u001b[0m\u001b[0;34m]\u001b[0m\u001b[0;34m,\u001b[0m \u001b[0mfunc\u001b[0m\u001b[0;34m)\u001b[0m\u001b[0;34m\u001b[0m\u001b[0;34m\u001b[0m\u001b[0m\n\u001b[0m\u001b[1;32m     10\u001b[0m     \u001b[0;31m# correction\u001b[0m\u001b[0;34m\u001b[0m\u001b[0;34m\u001b[0m\u001b[0;34m\u001b[0m\u001b[0m\n\u001b[1;32m     11\u001b[0m     \u001b[0mfdr_df\u001b[0m \u001b[0;34m=\u001b[0m \u001b[0mpd\u001b[0m\u001b[0;34m.\u001b[0m\u001b[0mDataFrame\u001b[0m\u001b[0;34m(\u001b[0m\u001b[0mfdrcorrection\u001b[0m\u001b[0;34m(\u001b[0m\u001b[0mpvals\u001b[0m\u001b[0;34m=\u001b[0m\u001b[0mlist\u001b[0m\u001b[0;34m(\u001b[0m\u001b[0mstats_df\u001b[0m\u001b[0;34m[\u001b[0m\u001b[0;34m'pvalue'\u001b[0m\u001b[0;34m]\u001b[0m\u001b[0;34m)\u001b[0m\u001b[0;34m)\u001b[0m\u001b[0;34m)\u001b[0m\u001b[0;34m.\u001b[0m\u001b[0mtranspose\u001b[0m\u001b[0;34m(\u001b[0m\u001b[0;34m)\u001b[0m\u001b[0;34m\u001b[0m\u001b[0;34m\u001b[0m\u001b[0m\n",
      "\u001b[0;32m<ipython-input-13-9fc52a544123>\u001b[0m in \u001b[0;36mget_stats_results\u001b[0;34m(X, Y, func)\u001b[0m\n\u001b[1;32m      2\u001b[0m     \u001b[0mresults\u001b[0m \u001b[0;34m=\u001b[0m \u001b[0;34m[\u001b[0m\u001b[0;34m]\u001b[0m\u001b[0;34m\u001b[0m\u001b[0;34m\u001b[0m\u001b[0m\n\u001b[1;32m      3\u001b[0m     \u001b[0;32mfor\u001b[0m \u001b[0mcol\u001b[0m \u001b[0;32min\u001b[0m \u001b[0mtqdm\u001b[0m\u001b[0;34m(\u001b[0m\u001b[0mrange\u001b[0m\u001b[0;34m(\u001b[0m\u001b[0mX\u001b[0m\u001b[0;34m.\u001b[0m\u001b[0mshape\u001b[0m\u001b[0;34m[\u001b[0m\u001b[0;36m1\u001b[0m\u001b[0;34m]\u001b[0m\u001b[0;34m)\u001b[0m\u001b[0;34m)\u001b[0m\u001b[0;34m:\u001b[0m\u001b[0;34m\u001b[0m\u001b[0;34m\u001b[0m\u001b[0m\n\u001b[0;32m----> 4\u001b[0;31m         \u001b[0mresults\u001b[0m\u001b[0;34m.\u001b[0m\u001b[0mappend\u001b[0m\u001b[0;34m(\u001b[0m\u001b[0mlist\u001b[0m\u001b[0;34m(\u001b[0m\u001b[0mfunc\u001b[0m\u001b[0;34m(\u001b[0m\u001b[0mX\u001b[0m\u001b[0;34m[\u001b[0m\u001b[0;34m:\u001b[0m\u001b[0;34m,\u001b[0m\u001b[0mcol\u001b[0m\u001b[0;34m]\u001b[0m\u001b[0;34m,\u001b[0m \u001b[0mY\u001b[0m\u001b[0;34m)\u001b[0m\u001b[0;34m)\u001b[0m\u001b[0;34m)\u001b[0m\u001b[0;34m\u001b[0m\u001b[0;34m\u001b[0m\u001b[0m\n\u001b[0m\u001b[1;32m      5\u001b[0m     \u001b[0;32mreturn\u001b[0m \u001b[0mpd\u001b[0m\u001b[0;34m.\u001b[0m\u001b[0mDataFrame\u001b[0m\u001b[0;34m(\u001b[0m\u001b[0mresults\u001b[0m\u001b[0;34m,\u001b[0m \u001b[0mcolumns\u001b[0m\u001b[0;34m=\u001b[0m\u001b[0;34m[\u001b[0m\u001b[0;34m'correlation'\u001b[0m\u001b[0;34m,\u001b[0m \u001b[0;34m'pvalue'\u001b[0m\u001b[0;34m]\u001b[0m\u001b[0;34m)\u001b[0m\u001b[0;34m\u001b[0m\u001b[0;34m\u001b[0m\u001b[0m\n",
      "\u001b[0;32m~/miniconda3/envs/lungvae/lib/python3.6/site-packages/scipy/stats/stats.py\u001b[0m in \u001b[0;36mspearmanr\u001b[0;34m(a, b, axis, nan_policy)\u001b[0m\n\u001b[1;32m   4215\u001b[0m                 \u001b[0mvariable_has_nan\u001b[0m \u001b[0;34m=\u001b[0m \u001b[0mnp\u001b[0m\u001b[0;34m.\u001b[0m\u001b[0misnan\u001b[0m\u001b[0;34m(\u001b[0m\u001b[0ma\u001b[0m\u001b[0;34m)\u001b[0m\u001b[0;34m.\u001b[0m\u001b[0msum\u001b[0m\u001b[0;34m(\u001b[0m\u001b[0maxis\u001b[0m\u001b[0;34m=\u001b[0m\u001b[0maxisout\u001b[0m\u001b[0;34m)\u001b[0m\u001b[0;34m\u001b[0m\u001b[0;34m\u001b[0m\u001b[0m\n\u001b[1;32m   4216\u001b[0m \u001b[0;34m\u001b[0m\u001b[0m\n\u001b[0;32m-> 4217\u001b[0;31m     \u001b[0ma_ranked\u001b[0m \u001b[0;34m=\u001b[0m \u001b[0mnp\u001b[0m\u001b[0;34m.\u001b[0m\u001b[0mapply_along_axis\u001b[0m\u001b[0;34m(\u001b[0m\u001b[0mrankdata\u001b[0m\u001b[0;34m,\u001b[0m \u001b[0maxisout\u001b[0m\u001b[0;34m,\u001b[0m \u001b[0ma\u001b[0m\u001b[0;34m)\u001b[0m\u001b[0;34m\u001b[0m\u001b[0;34m\u001b[0m\u001b[0m\n\u001b[0m\u001b[1;32m   4218\u001b[0m     \u001b[0mrs\u001b[0m \u001b[0;34m=\u001b[0m \u001b[0mnp\u001b[0m\u001b[0;34m.\u001b[0m\u001b[0mcorrcoef\u001b[0m\u001b[0;34m(\u001b[0m\u001b[0ma_ranked\u001b[0m\u001b[0;34m,\u001b[0m \u001b[0mrowvar\u001b[0m\u001b[0;34m=\u001b[0m\u001b[0maxisout\u001b[0m\u001b[0;34m)\u001b[0m\u001b[0;34m\u001b[0m\u001b[0;34m\u001b[0m\u001b[0m\n\u001b[1;32m   4219\u001b[0m     \u001b[0mdof\u001b[0m \u001b[0;34m=\u001b[0m \u001b[0mn_obs\u001b[0m \u001b[0;34m-\u001b[0m \u001b[0;36m2\u001b[0m  \u001b[0;31m# degrees of freedom\u001b[0m\u001b[0;34m\u001b[0m\u001b[0;34m\u001b[0m\u001b[0m\n",
      "\u001b[0;32m<__array_function__ internals>\u001b[0m in \u001b[0;36mapply_along_axis\u001b[0;34m(*args, **kwargs)\u001b[0m\n",
      "\u001b[0;32m~/miniconda3/envs/lungvae/lib/python3.6/site-packages/numpy/lib/shape_base.py\u001b[0m in \u001b[0;36mapply_along_axis\u001b[0;34m(func1d, axis, arr, *args, **kwargs)\u001b[0m\n\u001b[1;32m    400\u001b[0m     \u001b[0mbuff\u001b[0m\u001b[0;34m[\u001b[0m\u001b[0mind0\u001b[0m\u001b[0;34m]\u001b[0m \u001b[0;34m=\u001b[0m \u001b[0mres\u001b[0m\u001b[0;34m\u001b[0m\u001b[0;34m\u001b[0m\u001b[0m\n\u001b[1;32m    401\u001b[0m     \u001b[0;32mfor\u001b[0m \u001b[0mind\u001b[0m \u001b[0;32min\u001b[0m \u001b[0minds\u001b[0m\u001b[0;34m:\u001b[0m\u001b[0;34m\u001b[0m\u001b[0;34m\u001b[0m\u001b[0m\n\u001b[0;32m--> 402\u001b[0;31m         \u001b[0mbuff\u001b[0m\u001b[0;34m[\u001b[0m\u001b[0mind\u001b[0m\u001b[0;34m]\u001b[0m \u001b[0;34m=\u001b[0m \u001b[0masanyarray\u001b[0m\u001b[0;34m(\u001b[0m\u001b[0mfunc1d\u001b[0m\u001b[0;34m(\u001b[0m\u001b[0minarr_view\u001b[0m\u001b[0;34m[\u001b[0m\u001b[0mind\u001b[0m\u001b[0;34m]\u001b[0m\u001b[0;34m,\u001b[0m \u001b[0;34m*\u001b[0m\u001b[0margs\u001b[0m\u001b[0;34m,\u001b[0m \u001b[0;34m**\u001b[0m\u001b[0mkwargs\u001b[0m\u001b[0;34m)\u001b[0m\u001b[0;34m)\u001b[0m\u001b[0;34m\u001b[0m\u001b[0;34m\u001b[0m\u001b[0m\n\u001b[0m\u001b[1;32m    403\u001b[0m \u001b[0;34m\u001b[0m\u001b[0m\n\u001b[1;32m    404\u001b[0m     \u001b[0;32mif\u001b[0m \u001b[0;32mnot\u001b[0m \u001b[0misinstance\u001b[0m\u001b[0;34m(\u001b[0m\u001b[0mres\u001b[0m\u001b[0;34m,\u001b[0m \u001b[0mmatrix\u001b[0m\u001b[0;34m)\u001b[0m\u001b[0;34m:\u001b[0m\u001b[0;34m\u001b[0m\u001b[0;34m\u001b[0m\u001b[0m\n",
      "\u001b[0;32m~/miniconda3/envs/lungvae/lib/python3.6/site-packages/scipy/stats/stats.py\u001b[0m in \u001b[0;36mrankdata\u001b[0;34m(a, method, axis)\u001b[0m\n\u001b[1;32m   8040\u001b[0m         \u001b[0;32mreturn\u001b[0m \u001b[0minv\u001b[0m \u001b[0;34m+\u001b[0m \u001b[0;36m1\u001b[0m\u001b[0;34m\u001b[0m\u001b[0;34m\u001b[0m\u001b[0m\n\u001b[1;32m   8041\u001b[0m \u001b[0;34m\u001b[0m\u001b[0m\n\u001b[0;32m-> 8042\u001b[0;31m     \u001b[0marr\u001b[0m \u001b[0;34m=\u001b[0m \u001b[0marr\u001b[0m\u001b[0;34m[\u001b[0m\u001b[0msorter\u001b[0m\u001b[0;34m]\u001b[0m\u001b[0;34m\u001b[0m\u001b[0;34m\u001b[0m\u001b[0m\n\u001b[0m\u001b[1;32m   8043\u001b[0m     \u001b[0mobs\u001b[0m \u001b[0;34m=\u001b[0m \u001b[0mnp\u001b[0m\u001b[0;34m.\u001b[0m\u001b[0mr_\u001b[0m\u001b[0;34m[\u001b[0m\u001b[0;32mTrue\u001b[0m\u001b[0;34m,\u001b[0m \u001b[0marr\u001b[0m\u001b[0;34m[\u001b[0m\u001b[0;36m1\u001b[0m\u001b[0;34m:\u001b[0m\u001b[0;34m]\u001b[0m \u001b[0;34m!=\u001b[0m \u001b[0marr\u001b[0m\u001b[0;34m[\u001b[0m\u001b[0;34m:\u001b[0m\u001b[0;34m-\u001b[0m\u001b[0;36m1\u001b[0m\u001b[0;34m]\u001b[0m\u001b[0;34m]\u001b[0m\u001b[0;34m\u001b[0m\u001b[0;34m\u001b[0m\u001b[0m\n\u001b[1;32m   8044\u001b[0m     \u001b[0mdense\u001b[0m \u001b[0;34m=\u001b[0m \u001b[0mobs\u001b[0m\u001b[0;34m.\u001b[0m\u001b[0mcumsum\u001b[0m\u001b[0;34m(\u001b[0m\u001b[0;34m)\u001b[0m\u001b[0;34m[\u001b[0m\u001b[0minv\u001b[0m\u001b[0;34m]\u001b[0m\u001b[0;34m\u001b[0m\u001b[0;34m\u001b[0m\u001b[0m\n",
      "\u001b[0;31mKeyboardInterrupt\u001b[0m: "
     ]
    }
   ],
   "source": [
    "func = scipy.stats.spearmanr\n",
    "for task_name in task_names:\n",
    "    print(f\"---start task {task_name}---\")\n",
    "    app = Application(log_name='VAE3D32AUG',\n",
    "                version=10,\n",
    "                task_name=task_name)\n",
    "    X, Y = app.preprocess_data()\n",
    "    print(X['train'].shape, len(Y['train']))\n",
    "    stats_df = get_stats_results(X['train'], Y['train'], func)\n",
    "    # correction\n",
    "    fdr_df = pd.DataFrame(fdrcorrection(pvals=list(stats_df['pvalue']))).transpose()\n",
    "    fdr_df.columns = ['reject', 'adjusted']\n",
    "    adj_stats_df = pd.concat([stats_df, fdr_df], axis=1)\n",
    "    sig_df = adj_stats_df[adj_stats_df['reject'] == True]"
   ]
  },
  {
   "cell_type": "code",
   "execution_count": 47,
   "metadata": {},
   "outputs": [
    {
     "name": "stdout",
     "output_type": "stream",
     "text": [
      "---start task volume---\n",
      "match labels | 0.0 secs.\n"
     ]
    },
    {
     "name": "stderr",
     "output_type": "stream",
     "text": [
      "  3%|▎         | 62/2048 [00:00<00:03, 617.93it/s]"
     ]
    },
    {
     "name": "stdout",
     "output_type": "stream",
     "text": [
      "(5505, 2048) 5505\n"
     ]
    },
    {
     "name": "stderr",
     "output_type": "stream",
     "text": [
      "100%|██████████| 2048/2048 [00:03<00:00, 621.90it/s]\n"
     ]
    },
    {
     "name": "stdout",
     "output_type": "stream",
     "text": [
      "---start task malignancy---\n",
      "match labels | 0.0 secs.\n"
     ]
    },
    {
     "name": "stderr",
     "output_type": "stream",
     "text": [
      "  3%|▎         | 56/2048 [00:00<00:03, 550.23it/s]"
     ]
    },
    {
     "name": "stdout",
     "output_type": "stream",
     "text": [
      "(5505, 2048) 5505\n"
     ]
    },
    {
     "name": "stderr",
     "output_type": "stream",
     "text": [
      "100%|██████████| 2048/2048 [00:03<00:00, 570.82it/s]\n"
     ]
    },
    {
     "name": "stdout",
     "output_type": "stream",
     "text": [
      "---start task texture---\n",
      "match labels | 0.0 secs.\n"
     ]
    },
    {
     "name": "stderr",
     "output_type": "stream",
     "text": [
      "  3%|▎         | 60/2048 [00:00<00:03, 598.58it/s]"
     ]
    },
    {
     "name": "stdout",
     "output_type": "stream",
     "text": [
      "(5505, 2048) 5505\n"
     ]
    },
    {
     "name": "stderr",
     "output_type": "stream",
     "text": [
      "100%|██████████| 2048/2048 [00:03<00:00, 601.86it/s]\n"
     ]
    },
    {
     "name": "stdout",
     "output_type": "stream",
     "text": [
      "---start task spiculation---\n",
      "match labels | 0.0 secs.\n"
     ]
    },
    {
     "name": "stderr",
     "output_type": "stream",
     "text": [
      "  3%|▎         | 60/2048 [00:00<00:03, 598.63it/s]"
     ]
    },
    {
     "name": "stdout",
     "output_type": "stream",
     "text": [
      "(5505, 2048) 5505\n"
     ]
    },
    {
     "name": "stderr",
     "output_type": "stream",
     "text": [
      "100%|██████████| 2048/2048 [00:03<00:00, 586.04it/s]\n"
     ]
    },
    {
     "name": "stdout",
     "output_type": "stream",
     "text": [
      "---start task subtlety---\n",
      "match labels | 0.0 secs.\n"
     ]
    },
    {
     "name": "stderr",
     "output_type": "stream",
     "text": [
      "  2%|▏         | 38/2048 [00:00<00:05, 376.53it/s]"
     ]
    },
    {
     "name": "stdout",
     "output_type": "stream",
     "text": [
      "(5505, 2048) 5505\n"
     ]
    },
    {
     "name": "stderr",
     "output_type": "stream",
     "text": [
      "100%|██████████| 2048/2048 [00:04<00:00, 442.59it/s]\n"
     ]
    }
   ],
   "source": [
    "d = get_associated_features(task_names, func)"
   ]
  },
  {
   "cell_type": "code",
   "execution_count": 55,
   "metadata": {},
   "outputs": [
    {
     "data": {
      "text/html": [
       "<div>\n",
       "<style scoped>\n",
       "    .dataframe tbody tr th:only-of-type {\n",
       "        vertical-align: middle;\n",
       "    }\n",
       "\n",
       "    .dataframe tbody tr th {\n",
       "        vertical-align: top;\n",
       "    }\n",
       "\n",
       "    .dataframe thead th {\n",
       "        text-align: right;\n",
       "    }\n",
       "</style>\n",
       "<table border=\"1\" class=\"dataframe\">\n",
       "  <thead>\n",
       "    <tr style=\"text-align: right;\">\n",
       "      <th></th>\n",
       "      <th>correlation</th>\n",
       "      <th>pvalue</th>\n",
       "      <th>reject</th>\n",
       "      <th>adjusted</th>\n",
       "    </tr>\n",
       "  </thead>\n",
       "  <tbody>\n",
       "    <tr>\n",
       "      <th>2</th>\n",
       "      <td>-0.063629</td>\n",
       "      <td>2.304361e-06</td>\n",
       "      <td>True</td>\n",
       "      <td>1.03042e-05</td>\n",
       "    </tr>\n",
       "    <tr>\n",
       "      <th>4</th>\n",
       "      <td>-0.141261</td>\n",
       "      <td>6.191126e-26</td>\n",
       "      <td>True</td>\n",
       "      <td>1.69059e-24</td>\n",
       "    </tr>\n",
       "    <tr>\n",
       "      <th>5</th>\n",
       "      <td>0.115091</td>\n",
       "      <td>1.073420e-17</td>\n",
       "      <td>True</td>\n",
       "      <td>1.71747e-16</td>\n",
       "    </tr>\n",
       "    <tr>\n",
       "      <th>6</th>\n",
       "      <td>0.078188</td>\n",
       "      <td>6.292989e-09</td>\n",
       "      <td>True</td>\n",
       "      <td>4.06563e-08</td>\n",
       "    </tr>\n",
       "    <tr>\n",
       "      <th>7</th>\n",
       "      <td>0.085471</td>\n",
       "      <td>2.128383e-10</td>\n",
       "      <td>True</td>\n",
       "      <td>1.68298e-09</td>\n",
       "    </tr>\n",
       "    <tr>\n",
       "      <th>...</th>\n",
       "      <td>...</td>\n",
       "      <td>...</td>\n",
       "      <td>...</td>\n",
       "      <td>...</td>\n",
       "    </tr>\n",
       "    <tr>\n",
       "      <th>2033</th>\n",
       "      <td>-0.032193</td>\n",
       "      <td>1.691153e-02</td>\n",
       "      <td>True</td>\n",
       "      <td>0.0289589</td>\n",
       "    </tr>\n",
       "    <tr>\n",
       "      <th>2035</th>\n",
       "      <td>-0.032240</td>\n",
       "      <td>1.674877e-02</td>\n",
       "      <td>True</td>\n",
       "      <td>0.0287322</td>\n",
       "    </tr>\n",
       "    <tr>\n",
       "      <th>2042</th>\n",
       "      <td>-0.089355</td>\n",
       "      <td>3.104901e-11</td>\n",
       "      <td>True</td>\n",
       "      <td>2.69442e-10</td>\n",
       "    </tr>\n",
       "    <tr>\n",
       "      <th>2043</th>\n",
       "      <td>-0.050816</td>\n",
       "      <td>1.619871e-04</td>\n",
       "      <td>True</td>\n",
       "      <td>0.000473252</td>\n",
       "    </tr>\n",
       "    <tr>\n",
       "      <th>2046</th>\n",
       "      <td>-0.034666</td>\n",
       "      <td>1.010286e-02</td>\n",
       "      <td>True</td>\n",
       "      <td>0.0186235</td>\n",
       "    </tr>\n",
       "  </tbody>\n",
       "</table>\n",
       "<p>1321 rows × 4 columns</p>\n",
       "</div>"
      ],
      "text/plain": [
       "      correlation        pvalue reject     adjusted\n",
       "2       -0.063629  2.304361e-06   True  1.03042e-05\n",
       "4       -0.141261  6.191126e-26   True  1.69059e-24\n",
       "5        0.115091  1.073420e-17   True  1.71747e-16\n",
       "6        0.078188  6.292989e-09   True  4.06563e-08\n",
       "7        0.085471  2.128383e-10   True  1.68298e-09\n",
       "...           ...           ...    ...          ...\n",
       "2033    -0.032193  1.691153e-02   True    0.0289589\n",
       "2035    -0.032240  1.674877e-02   True    0.0287322\n",
       "2042    -0.089355  3.104901e-11   True  2.69442e-10\n",
       "2043    -0.050816  1.619871e-04   True  0.000473252\n",
       "2046    -0.034666  1.010286e-02   True    0.0186235\n",
       "\n",
       "[1321 rows x 4 columns]"
      ]
     },
     "metadata": {},
     "output_type": "display_data"
    },
    {
     "name": "stdout",
     "output_type": "stream",
     "text": [
      "volume: 1321\n"
     ]
    },
    {
     "data": {
      "text/html": [
       "<div>\n",
       "<style scoped>\n",
       "    .dataframe tbody tr th:only-of-type {\n",
       "        vertical-align: middle;\n",
       "    }\n",
       "\n",
       "    .dataframe tbody tr th {\n",
       "        vertical-align: top;\n",
       "    }\n",
       "\n",
       "    .dataframe thead th {\n",
       "        text-align: right;\n",
       "    }\n",
       "</style>\n",
       "<table border=\"1\" class=\"dataframe\">\n",
       "  <thead>\n",
       "    <tr style=\"text-align: right;\">\n",
       "      <th></th>\n",
       "      <th>correlation</th>\n",
       "      <th>pvalue</th>\n",
       "      <th>reject</th>\n",
       "      <th>adjusted</th>\n",
       "    </tr>\n",
       "  </thead>\n",
       "  <tbody>\n",
       "    <tr>\n",
       "      <th>0</th>\n",
       "      <td>-0.034244</td>\n",
       "      <td>1.105637e-02</td>\n",
       "      <td>True</td>\n",
       "      <td>0.0405509</td>\n",
       "    </tr>\n",
       "    <tr>\n",
       "      <th>1</th>\n",
       "      <td>0.067450</td>\n",
       "      <td>5.470046e-07</td>\n",
       "      <td>True</td>\n",
       "      <td>6.0884e-06</td>\n",
       "    </tr>\n",
       "    <tr>\n",
       "      <th>4</th>\n",
       "      <td>-0.117590</td>\n",
       "      <td>2.076766e-18</td>\n",
       "      <td>True</td>\n",
       "      <td>1.25095e-16</td>\n",
       "    </tr>\n",
       "    <tr>\n",
       "      <th>5</th>\n",
       "      <td>0.048106</td>\n",
       "      <td>3.562555e-04</td>\n",
       "      <td>True</td>\n",
       "      <td>0.00203452</td>\n",
       "    </tr>\n",
       "    <tr>\n",
       "      <th>6</th>\n",
       "      <td>0.074475</td>\n",
       "      <td>3.163171e-08</td>\n",
       "      <td>True</td>\n",
       "      <td>4.83446e-07</td>\n",
       "    </tr>\n",
       "    <tr>\n",
       "      <th>...</th>\n",
       "      <td>...</td>\n",
       "      <td>...</td>\n",
       "      <td>...</td>\n",
       "      <td>...</td>\n",
       "    </tr>\n",
       "    <tr>\n",
       "      <th>1970</th>\n",
       "      <td>-0.034322</td>\n",
       "      <td>1.087417e-02</td>\n",
       "      <td>True</td>\n",
       "      <td>0.0400545</td>\n",
       "    </tr>\n",
       "    <tr>\n",
       "      <th>1997</th>\n",
       "      <td>-0.060135</td>\n",
       "      <td>8.014726e-06</td>\n",
       "      <td>True</td>\n",
       "      <td>6.89671e-05</td>\n",
       "    </tr>\n",
       "    <tr>\n",
       "      <th>2005</th>\n",
       "      <td>-0.034769</td>\n",
       "      <td>9.882709e-03</td>\n",
       "      <td>True</td>\n",
       "      <td>0.0370014</td>\n",
       "    </tr>\n",
       "    <tr>\n",
       "      <th>2011</th>\n",
       "      <td>-0.041934</td>\n",
       "      <td>1.858243e-03</td>\n",
       "      <td>True</td>\n",
       "      <td>0.00874869</td>\n",
       "    </tr>\n",
       "    <tr>\n",
       "      <th>2042</th>\n",
       "      <td>-0.050535</td>\n",
       "      <td>1.761127e-04</td>\n",
       "      <td>True</td>\n",
       "      <td>0.00108312</td>\n",
       "    </tr>\n",
       "  </tbody>\n",
       "</table>\n",
       "<p>582 rows × 4 columns</p>\n",
       "</div>"
      ],
      "text/plain": [
       "      correlation        pvalue reject     adjusted\n",
       "0       -0.034244  1.105637e-02   True    0.0405509\n",
       "1        0.067450  5.470046e-07   True   6.0884e-06\n",
       "4       -0.117590  2.076766e-18   True  1.25095e-16\n",
       "5        0.048106  3.562555e-04   True   0.00203452\n",
       "6        0.074475  3.163171e-08   True  4.83446e-07\n",
       "...           ...           ...    ...          ...\n",
       "1970    -0.034322  1.087417e-02   True    0.0400545\n",
       "1997    -0.060135  8.014726e-06   True  6.89671e-05\n",
       "2005    -0.034769  9.882709e-03   True    0.0370014\n",
       "2011    -0.041934  1.858243e-03   True   0.00874869\n",
       "2042    -0.050535  1.761127e-04   True   0.00108312\n",
       "\n",
       "[582 rows x 4 columns]"
      ]
     },
     "metadata": {},
     "output_type": "display_data"
    },
    {
     "name": "stdout",
     "output_type": "stream",
     "text": [
      "malignancy: 582\n"
     ]
    },
    {
     "data": {
      "text/html": [
       "<div>\n",
       "<style scoped>\n",
       "    .dataframe tbody tr th:only-of-type {\n",
       "        vertical-align: middle;\n",
       "    }\n",
       "\n",
       "    .dataframe tbody tr th {\n",
       "        vertical-align: top;\n",
       "    }\n",
       "\n",
       "    .dataframe thead th {\n",
       "        text-align: right;\n",
       "    }\n",
       "</style>\n",
       "<table border=\"1\" class=\"dataframe\">\n",
       "  <thead>\n",
       "    <tr style=\"text-align: right;\">\n",
       "      <th></th>\n",
       "      <th>correlation</th>\n",
       "      <th>pvalue</th>\n",
       "      <th>reject</th>\n",
       "      <th>adjusted</th>\n",
       "    </tr>\n",
       "  </thead>\n",
       "  <tbody>\n",
       "    <tr>\n",
       "      <th>1</th>\n",
       "      <td>-0.047618</td>\n",
       "      <td>4.089390e-04</td>\n",
       "      <td>True</td>\n",
       "      <td>0.000749112</td>\n",
       "    </tr>\n",
       "    <tr>\n",
       "      <th>5</th>\n",
       "      <td>0.049493</td>\n",
       "      <td>2.391940e-04</td>\n",
       "      <td>True</td>\n",
       "      <td>0.00044252</td>\n",
       "    </tr>\n",
       "    <tr>\n",
       "      <th>9</th>\n",
       "      <td>-0.050341</td>\n",
       "      <td>1.865325e-04</td>\n",
       "      <td>True</td>\n",
       "      <td>0.000347922</td>\n",
       "    </tr>\n",
       "    <tr>\n",
       "      <th>11</th>\n",
       "      <td>-0.030785</td>\n",
       "      <td>2.236356e-02</td>\n",
       "      <td>True</td>\n",
       "      <td>0.0353399</td>\n",
       "    </tr>\n",
       "    <tr>\n",
       "      <th>14</th>\n",
       "      <td>-0.083719</td>\n",
       "      <td>4.935731e-10</td>\n",
       "      <td>True</td>\n",
       "      <td>1.34778e-08</td>\n",
       "    </tr>\n",
       "    <tr>\n",
       "      <th>...</th>\n",
       "      <td>...</td>\n",
       "      <td>...</td>\n",
       "      <td>...</td>\n",
       "      <td>...</td>\n",
       "    </tr>\n",
       "    <tr>\n",
       "      <th>2043</th>\n",
       "      <td>-0.056203</td>\n",
       "      <td>3.014541e-05</td>\n",
       "      <td>True</td>\n",
       "      <td>5.93633e-05</td>\n",
       "    </tr>\n",
       "    <tr>\n",
       "      <th>2044</th>\n",
       "      <td>-0.040585</td>\n",
       "      <td>2.597299e-03</td>\n",
       "      <td>True</td>\n",
       "      <td>0.00451551</td>\n",
       "    </tr>\n",
       "    <tr>\n",
       "      <th>2045</th>\n",
       "      <td>-0.071259</td>\n",
       "      <td>1.205646e-07</td>\n",
       "      <td>True</td>\n",
       "      <td>5.00844e-07</td>\n",
       "    </tr>\n",
       "    <tr>\n",
       "      <th>2046</th>\n",
       "      <td>-0.070442</td>\n",
       "      <td>1.678635e-07</td>\n",
       "      <td>True</td>\n",
       "      <td>6.22798e-07</td>\n",
       "    </tr>\n",
       "    <tr>\n",
       "      <th>2047</th>\n",
       "      <td>-0.064895</td>\n",
       "      <td>1.443632e-06</td>\n",
       "      <td>True</td>\n",
       "      <td>3.45796e-06</td>\n",
       "    </tr>\n",
       "  </tbody>\n",
       "</table>\n",
       "<p>1327 rows × 4 columns</p>\n",
       "</div>"
      ],
      "text/plain": [
       "      correlation        pvalue reject     adjusted\n",
       "1       -0.047618  4.089390e-04   True  0.000749112\n",
       "5        0.049493  2.391940e-04   True   0.00044252\n",
       "9       -0.050341  1.865325e-04   True  0.000347922\n",
       "11      -0.030785  2.236356e-02   True    0.0353399\n",
       "14      -0.083719  4.935731e-10   True  1.34778e-08\n",
       "...           ...           ...    ...          ...\n",
       "2043    -0.056203  3.014541e-05   True  5.93633e-05\n",
       "2044    -0.040585  2.597299e-03   True   0.00451551\n",
       "2045    -0.071259  1.205646e-07   True  5.00844e-07\n",
       "2046    -0.070442  1.678635e-07   True  6.22798e-07\n",
       "2047    -0.064895  1.443632e-06   True  3.45796e-06\n",
       "\n",
       "[1327 rows x 4 columns]"
      ]
     },
     "metadata": {},
     "output_type": "display_data"
    },
    {
     "name": "stdout",
     "output_type": "stream",
     "text": [
      "texture: 1327\n"
     ]
    },
    {
     "data": {
      "text/html": [
       "<div>\n",
       "<style scoped>\n",
       "    .dataframe tbody tr th:only-of-type {\n",
       "        vertical-align: middle;\n",
       "    }\n",
       "\n",
       "    .dataframe tbody tr th {\n",
       "        vertical-align: top;\n",
       "    }\n",
       "\n",
       "    .dataframe thead th {\n",
       "        text-align: right;\n",
       "    }\n",
       "</style>\n",
       "<table border=\"1\" class=\"dataframe\">\n",
       "  <thead>\n",
       "    <tr style=\"text-align: right;\">\n",
       "      <th></th>\n",
       "      <th>correlation</th>\n",
       "      <th>pvalue</th>\n",
       "      <th>reject</th>\n",
       "      <th>adjusted</th>\n",
       "    </tr>\n",
       "  </thead>\n",
       "  <tbody>\n",
       "    <tr>\n",
       "      <th>4</th>\n",
       "      <td>-0.101165</td>\n",
       "      <td>5.329240e-14</td>\n",
       "      <td>True</td>\n",
       "      <td>3.76355e-12</td>\n",
       "    </tr>\n",
       "    <tr>\n",
       "      <th>7</th>\n",
       "      <td>0.034967</td>\n",
       "      <td>9.469459e-03</td>\n",
       "      <td>True</td>\n",
       "      <td>0.0423803</td>\n",
       "    </tr>\n",
       "    <tr>\n",
       "      <th>8</th>\n",
       "      <td>-0.065282</td>\n",
       "      <td>1.248687e-06</td>\n",
       "      <td>True</td>\n",
       "      <td>2.69191e-05</td>\n",
       "    </tr>\n",
       "    <tr>\n",
       "      <th>9</th>\n",
       "      <td>0.084700</td>\n",
       "      <td>3.088177e-10</td>\n",
       "      <td>True</td>\n",
       "      <td>1.47083e-08</td>\n",
       "    </tr>\n",
       "    <tr>\n",
       "      <th>11</th>\n",
       "      <td>-0.069143</td>\n",
       "      <td>2.820378e-07</td>\n",
       "      <td>True</td>\n",
       "      <td>7.4053e-06</td>\n",
       "    </tr>\n",
       "    <tr>\n",
       "      <th>...</th>\n",
       "      <td>...</td>\n",
       "      <td>...</td>\n",
       "      <td>...</td>\n",
       "      <td>...</td>\n",
       "    </tr>\n",
       "    <tr>\n",
       "      <th>1984</th>\n",
       "      <td>0.040026</td>\n",
       "      <td>2.975246e-03</td>\n",
       "      <td>True</td>\n",
       "      <td>0.0185207</td>\n",
       "    </tr>\n",
       "    <tr>\n",
       "      <th>1989</th>\n",
       "      <td>0.036286</td>\n",
       "      <td>7.091784e-03</td>\n",
       "      <td>True</td>\n",
       "      <td>0.0347463</td>\n",
       "    </tr>\n",
       "    <tr>\n",
       "      <th>1991</th>\n",
       "      <td>0.039684</td>\n",
       "      <td>3.231006e-03</td>\n",
       "      <td>True</td>\n",
       "      <td>0.0198445</td>\n",
       "    </tr>\n",
       "    <tr>\n",
       "      <th>2009</th>\n",
       "      <td>0.034669</td>\n",
       "      <td>1.009781e-02</td>\n",
       "      <td>True</td>\n",
       "      <td>0.0446659</td>\n",
       "    </tr>\n",
       "    <tr>\n",
       "      <th>2040</th>\n",
       "      <td>0.035741</td>\n",
       "      <td>7.999268e-03</td>\n",
       "      <td>True</td>\n",
       "      <td>0.0376609</td>\n",
       "    </tr>\n",
       "  </tbody>\n",
       "</table>\n",
       "<p>490 rows × 4 columns</p>\n",
       "</div>"
      ],
      "text/plain": [
       "      correlation        pvalue reject     adjusted\n",
       "4       -0.101165  5.329240e-14   True  3.76355e-12\n",
       "7        0.034967  9.469459e-03   True    0.0423803\n",
       "8       -0.065282  1.248687e-06   True  2.69191e-05\n",
       "9        0.084700  3.088177e-10   True  1.47083e-08\n",
       "11      -0.069143  2.820378e-07   True   7.4053e-06\n",
       "...           ...           ...    ...          ...\n",
       "1984     0.040026  2.975246e-03   True    0.0185207\n",
       "1989     0.036286  7.091784e-03   True    0.0347463\n",
       "1991     0.039684  3.231006e-03   True    0.0198445\n",
       "2009     0.034669  1.009781e-02   True    0.0446659\n",
       "2040     0.035741  7.999268e-03   True    0.0376609\n",
       "\n",
       "[490 rows x 4 columns]"
      ]
     },
     "metadata": {},
     "output_type": "display_data"
    },
    {
     "name": "stdout",
     "output_type": "stream",
     "text": [
      "spiculation: 490\n"
     ]
    },
    {
     "data": {
      "text/html": [
       "<div>\n",
       "<style scoped>\n",
       "    .dataframe tbody tr th:only-of-type {\n",
       "        vertical-align: middle;\n",
       "    }\n",
       "\n",
       "    .dataframe tbody tr th {\n",
       "        vertical-align: top;\n",
       "    }\n",
       "\n",
       "    .dataframe thead th {\n",
       "        text-align: right;\n",
       "    }\n",
       "</style>\n",
       "<table border=\"1\" class=\"dataframe\">\n",
       "  <thead>\n",
       "    <tr style=\"text-align: right;\">\n",
       "      <th></th>\n",
       "      <th>correlation</th>\n",
       "      <th>pvalue</th>\n",
       "      <th>reject</th>\n",
       "      <th>adjusted</th>\n",
       "    </tr>\n",
       "  </thead>\n",
       "  <tbody>\n",
       "    <tr>\n",
       "      <th>2</th>\n",
       "      <td>-0.034106</td>\n",
       "      <td>1.138342e-02</td>\n",
       "      <td>True</td>\n",
       "      <td>0.0175287</td>\n",
       "    </tr>\n",
       "    <tr>\n",
       "      <th>4</th>\n",
       "      <td>-0.059376</td>\n",
       "      <td>1.041649e-05</td>\n",
       "      <td>True</td>\n",
       "      <td>5.77132e-05</td>\n",
       "    </tr>\n",
       "    <tr>\n",
       "      <th>5</th>\n",
       "      <td>0.067968</td>\n",
       "      <td>4.473277e-07</td>\n",
       "      <td>True</td>\n",
       "      <td>5.14678e-06</td>\n",
       "    </tr>\n",
       "    <tr>\n",
       "      <th>8</th>\n",
       "      <td>-0.028687</td>\n",
       "      <td>3.330227e-02</td>\n",
       "      <td>True</td>\n",
       "      <td>0.0474952</td>\n",
       "    </tr>\n",
       "    <tr>\n",
       "      <th>11</th>\n",
       "      <td>-0.101275</td>\n",
       "      <td>5.003264e-14</td>\n",
       "      <td>True</td>\n",
       "      <td>2.49919e-12</td>\n",
       "    </tr>\n",
       "    <tr>\n",
       "      <th>...</th>\n",
       "      <td>...</td>\n",
       "      <td>...</td>\n",
       "      <td>...</td>\n",
       "      <td>...</td>\n",
       "    </tr>\n",
       "    <tr>\n",
       "      <th>2043</th>\n",
       "      <td>-0.046263</td>\n",
       "      <td>5.956883e-04</td>\n",
       "      <td>True</td>\n",
       "      <td>0.0013421</td>\n",
       "    </tr>\n",
       "    <tr>\n",
       "      <th>2044</th>\n",
       "      <td>-0.041563</td>\n",
       "      <td>2.039562e-03</td>\n",
       "      <td>True</td>\n",
       "      <td>0.00383565</td>\n",
       "    </tr>\n",
       "    <tr>\n",
       "      <th>2045</th>\n",
       "      <td>-0.044538</td>\n",
       "      <td>9.483533e-04</td>\n",
       "      <td>True</td>\n",
       "      <td>0.00200023</td>\n",
       "    </tr>\n",
       "    <tr>\n",
       "      <th>2046</th>\n",
       "      <td>-0.047991</td>\n",
       "      <td>3.681199e-04</td>\n",
       "      <td>True</td>\n",
       "      <td>0.000907232</td>\n",
       "    </tr>\n",
       "    <tr>\n",
       "      <th>2047</th>\n",
       "      <td>-0.040676</td>\n",
       "      <td>2.539671e-03</td>\n",
       "      <td>True</td>\n",
       "      <td>0.00462333</td>\n",
       "    </tr>\n",
       "  </tbody>\n",
       "</table>\n",
       "<p>1444 rows × 4 columns</p>\n",
       "</div>"
      ],
      "text/plain": [
       "      correlation        pvalue reject     adjusted\n",
       "2       -0.034106  1.138342e-02   True    0.0175287\n",
       "4       -0.059376  1.041649e-05   True  5.77132e-05\n",
       "5        0.067968  4.473277e-07   True  5.14678e-06\n",
       "8       -0.028687  3.330227e-02   True    0.0474952\n",
       "11      -0.101275  5.003264e-14   True  2.49919e-12\n",
       "...           ...           ...    ...          ...\n",
       "2043    -0.046263  5.956883e-04   True    0.0013421\n",
       "2044    -0.041563  2.039562e-03   True   0.00383565\n",
       "2045    -0.044538  9.483533e-04   True   0.00200023\n",
       "2046    -0.047991  3.681199e-04   True  0.000907232\n",
       "2047    -0.040676  2.539671e-03   True   0.00462333\n",
       "\n",
       "[1444 rows x 4 columns]"
      ]
     },
     "metadata": {},
     "output_type": "display_data"
    },
    {
     "name": "stdout",
     "output_type": "stream",
     "text": [
      "subtlety: 1444\n"
     ]
    }
   ],
   "source": [
    "for k, df in d.items():\n",
    "    display(df)\n",
    "    print(f\"{k}: {len(df)}\")"
   ]
  },
  {
   "cell_type": "code",
   "execution_count": null,
   "metadata": {},
   "outputs": [],
   "source": []
  }
 ],
 "metadata": {
  "interpreter": {
   "hash": "21c857bfaea304fb46543346e36a53a586262518187fe5c78885c0f9b3f70be2"
  },
  "kernelspec": {
   "display_name": "Python 3.6.12 64-bit ('lungvae': conda)",
   "name": "python3"
  },
  "language_info": {
   "codemirror_mode": {
    "name": "ipython",
    "version": 3
   },
   "file_extension": ".py",
   "mimetype": "text/x-python",
   "name": "python",
   "nbconvert_exporter": "python",
   "pygments_lexer": "ipython3",
   "version": "3.6.12"
  },
  "orig_nbformat": 4
 },
 "nbformat": 4,
 "nbformat_minor": 2
}
