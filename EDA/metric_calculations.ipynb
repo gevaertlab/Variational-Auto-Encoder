{
 "cells": [
  {
   "cell_type": "code",
   "execution_count": 6,
   "metadata": {},
   "outputs": [],
   "source": [
    "import os\n",
    "os.chdir(\"/labs/gevaertlab/users/yyhhli/code/vae\")\n",
    "from evaluations.evaluator import MetricEvaluator\n",
    "import numpy as np"
   ]
  },
  {
   "cell_type": "code",
   "execution_count": 2,
   "metadata": {},
   "outputs": [
    {
     "name": "stderr",
     "output_type": "stream",
     "text": [
      "100%|██████████| 115/115 [00:26<00:00,  4.26it/s]\n"
     ]
    }
   ],
   "source": [
    "me = MetricEvaluator(metrics=['SSIM', 'MSE', 'PSNR'],\n",
    "                         log_name='VAE3D32AUG',\n",
    "                         version=10,\n",
    "                         base_model_name='VAE3D')\n",
    "metrics_dict = me.calc_metrics()"
   ]
  },
  {
   "cell_type": "code",
   "execution_count": 4,
   "metadata": {},
   "outputs": [
    {
     "data": {
      "text/plain": [
       "dict_keys(['SSIM', 'MSE', 'PSNR'])"
      ]
     },
     "execution_count": 4,
     "metadata": {},
     "output_type": "execute_result"
    }
   ],
   "source": [
    "metrics_dict.keys()"
   ]
  },
  {
   "cell_type": "code",
   "execution_count": 7,
   "metadata": {},
   "outputs": [
    {
     "name": "stdout",
     "output_type": "stream",
     "text": [
      "SSIM: mean value = 0.6878304263982226\n",
      "MSE: mean value = 0.0008180605946108699\n",
      "PSNR: mean value = 25.760953235652437\n"
     ]
    }
   ],
   "source": [
    "for k, v in metrics_dict.items():\n",
    "    print(f\"{k}: mean value = {np.mean(v)}\")"
   ]
  },
  {
   "cell_type": "code",
   "execution_count": 9,
   "metadata": {},
   "outputs": [
    {
     "data": {
      "text/plain": [
       "19.275249131909355"
      ]
     },
     "execution_count": 9,
     "metadata": {},
     "output_type": "execute_result"
    }
   ],
   "source": [
    "10 ** (25.7 / 20)"
   ]
  },
  {
   "cell_type": "code",
   "execution_count": null,
   "metadata": {},
   "outputs": [],
   "source": [
    "# def PSNR(orig, recon):  # peak signal to noise ratio\n",
    "#     orig = ensure_numpy(orig)\n",
    "#     recon = ensure_numpy(recon)\n",
    "#     mse = MSE(orig, recon)\n",
    "#     if(mse == 0):  # MSE is zero means no noise is present in the signal .\n",
    "#         # Therefore PSNR have no importance.\n",
    "#         return 100\n",
    "#     max_pixel = max(orig.max(), recon.max())\n",
    "#     psnr = 20 * math.log10(max_pixel / math.sqrt(mse))\n",
    "#     return psnr"
   ]
  }
 ],
 "metadata": {
  "interpreter": {
   "hash": "21c857bfaea304fb46543346e36a53a586262518187fe5c78885c0f9b3f70be2"
  },
  "kernelspec": {
   "display_name": "Python 3.6.12 64-bit ('lungvae': conda)",
   "name": "python3"
  },
  "language_info": {
   "codemirror_mode": {
    "name": "ipython",
    "version": 3
   },
   "file_extension": ".py",
   "mimetype": "text/x-python",
   "name": "python",
   "nbconvert_exporter": "python",
   "pygments_lexer": "ipython3",
   "version": "3.6.12"
  },
  "orig_nbformat": 4
 },
 "nbformat": 4,
 "nbformat_minor": 2
}
