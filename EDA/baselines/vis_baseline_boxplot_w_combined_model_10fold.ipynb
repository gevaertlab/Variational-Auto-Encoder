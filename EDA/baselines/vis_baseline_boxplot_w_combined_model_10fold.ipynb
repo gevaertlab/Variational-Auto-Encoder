{
 "cells": [
  {
   "cell_type": "code",
   "execution_count": 1,
   "metadata": {},
   "outputs": [],
   "source": [
    "# import libraries\n",
    "import os\n",
    "import os.path as osp\n",
    "import sys\n",
    "import numpy as np\n",
    "import pandas as pd\n",
    "import json\n",
    "import matplotlib.pyplot as plt\n",
    "import seaborn as sns\n",
    "%matplotlib inline"
   ]
  },
  {
   "cell_type": "code",
   "execution_count": 2,
   "metadata": {},
   "outputs": [],
   "source": [
    "# load results\n",
    "baseline_root = \"/labs/gevaertlab/users/yyhhli/code/vae/baselines\"\n",
    "pyradiomics_result = osp.join(baseline_root, \"pyradiomics\", \"results\")\n",
    "cnn_result = osp.join(baseline_root, \"cnn\", \"results\")\n",
    "combined_result = osp.join(baseline_root, \"combined_model\", \"results\")\n",
    "# load vae result\n",
    "vae_result_dir = \"/labs/gevaertlab/users/yyhhli/code/vae/applications/results/VAE3D32AUG_70\""
   ]
  },
  {
   "cell_type": "code",
   "execution_count": 3,
   "metadata": {},
   "outputs": [
    {
     "name": "stderr",
     "output_type": "stream",
     "text": [
      "/labs/gevaertlab/users/yyhhli/miniconda3/envs/lungvae38/lib/python3.8/site-packages/tqdm/auto.py:22: TqdmWarning: IProgress not found. Please update jupyter and ipywidgets. See https://ipywidgets.readthedocs.io/en/stable/user_install.html\n",
      "  from .autonotebook import tqdm as notebook_tqdm\n"
     ]
    }
   ],
   "source": [
    "sys.path.insert(1, \"/labs/gevaertlab/users/yyhhli/code/vae\")\n",
    "from datasets.label.label_stanfordradiogenomics import (\n",
    "    LabelStfAJCC, LabelStfEGFRMutation, LabelStfHisGrade, LabelStfKRASMutation,\n",
    "    LabelStfNStage, LabelStfReGroup, LabelStfRGLymphInvasion,\n",
    "    LabelStfRGPleuralInvasion, LabelStfTStage)\n",
    "label_list = [LabelStfTStage, LabelStfNStage, LabelStfAJCC, LabelStfHisGrade,\n",
    "                  LabelStfRGLymphInvasion, LabelStfEGFRMutation, LabelStfKRASMutation, LabelStfRGPleuralInvasion]\n",
    "\n",
    "from utils.visualization import vis_result_boxplot"
   ]
  },
  {
   "cell_type": "code",
   "execution_count": 4,
   "metadata": {},
   "outputs": [
    {
     "data": {
      "text/plain": [
       "['Pathological T stage',\n",
       " 'Pathological N stage',\n",
       " 'AJCC Staging (Version 7)',\n",
       " 'Histopathological Grade',\n",
       " 'Lymphovascular invasion',\n",
       " 'EGFR mutation status',\n",
       " 'KRAS mutation status',\n",
       " 'Pleural invasion (elastic, visceral, or parietal)']"
      ]
     },
     "execution_count": 4,
     "metadata": {},
     "output_type": "execute_result"
    }
   ],
   "source": [
    "label_names = [label_list[i]().name for i in range(len(label_list))]\n",
    "label_names"
   ]
  },
  {
   "cell_type": "code",
   "execution_count": 5,
   "metadata": {},
   "outputs": [],
   "source": [
    "# read json file into a dictionary\n",
    "def read_json(file_path):\n",
    "    with open(file_path, 'r') as f:\n",
    "        data = json.load(f)\n",
    "    return data"
   ]
  },
  {
   "cell_type": "code",
   "execution_count": 33,
   "metadata": {},
   "outputs": [],
   "source": [
    "# for testing\n",
    "label_name = 'Pathological T stage'"
   ]
  },
  {
   "cell_type": "code",
   "execution_count": 34,
   "metadata": {},
   "outputs": [],
   "source": [
    "pyra_metrics = pd.read_csv(osp.join(pyradiomics_result, f\"results_xgboost_{label_name}.csv\"))\n",
    "cnn_metrics = pd.DataFrame(read_json(osp.join(cnn_result, f\"{label_name}.json\")))\n",
    "combined_metrics = pd.DataFrame(read_json(osp.join(combined_result, f\"{label_name}_results.json\")))"
   ]
  },
  {
   "cell_type": "code",
   "execution_count": 35,
   "metadata": {},
   "outputs": [
    {
     "data": {
      "text/plain": [
       "'StfTStage'"
      ]
     },
     "execution_count": 35,
     "metadata": {},
     "output_type": "execute_result"
    }
   ],
   "source": [
    "vae_label_name = LabelStfTStage.__name__.split(\"Label\")[1]\n",
    "vae_label_name"
   ]
  },
  {
   "cell_type": "code",
   "execution_count": 36,
   "metadata": {},
   "outputs": [],
   "source": [
    "vae_metrics = read_json(osp.join(vae_result_dir, f\"{vae_label_name}.cv_result_dict.json\"))[\"xgboost\"]"
   ]
  },
  {
   "cell_type": "code",
   "execution_count": 37,
   "metadata": {},
   "outputs": [
    {
     "data": {
      "text/html": [
       "<div>\n",
       "<style scoped>\n",
       "    .dataframe tbody tr th:only-of-type {\n",
       "        vertical-align: middle;\n",
       "    }\n",
       "\n",
       "    .dataframe tbody tr th {\n",
       "        vertical-align: top;\n",
       "    }\n",
       "\n",
       "    .dataframe thead th {\n",
       "        text-align: right;\n",
       "    }\n",
       "</style>\n",
       "<table border=\"1\" class=\"dataframe\">\n",
       "  <thead>\n",
       "    <tr style=\"text-align: right;\">\n",
       "      <th></th>\n",
       "      <th>Radiomics\\nFeatures</th>\n",
       "      <th>CNN</th>\n",
       "      <th>VAE</th>\n",
       "      <th>Radiomics\\n+ VAE</th>\n",
       "    </tr>\n",
       "  </thead>\n",
       "  <tbody>\n",
       "    <tr>\n",
       "      <th>0</th>\n",
       "      <td>0.712821</td>\n",
       "      <td>0.601063</td>\n",
       "      <td>0.606641</td>\n",
       "      <td>0.821201</td>\n",
       "    </tr>\n",
       "    <tr>\n",
       "      <th>1</th>\n",
       "      <td>0.747097</td>\n",
       "      <td>0.631141</td>\n",
       "      <td>0.497436</td>\n",
       "      <td>0.594203</td>\n",
       "    </tr>\n",
       "    <tr>\n",
       "      <th>2</th>\n",
       "      <td>0.698765</td>\n",
       "      <td>0.660559</td>\n",
       "      <td>0.591469</td>\n",
       "      <td>0.691077</td>\n",
       "    </tr>\n",
       "    <tr>\n",
       "      <th>3</th>\n",
       "      <td>0.814304</td>\n",
       "      <td>0.546516</td>\n",
       "      <td>0.657317</td>\n",
       "      <td>0.738595</td>\n",
       "    </tr>\n",
       "    <tr>\n",
       "      <th>4</th>\n",
       "      <td>0.703704</td>\n",
       "      <td>0.690886</td>\n",
       "      <td>0.666667</td>\n",
       "      <td>0.813282</td>\n",
       "    </tr>\n",
       "  </tbody>\n",
       "</table>\n",
       "</div>"
      ],
      "text/plain": [
       "   Radiomics\\nFeatures       CNN       VAE  Radiomics\\n+ VAE\n",
       "0             0.712821  0.601063  0.606641          0.821201\n",
       "1             0.747097  0.631141  0.497436          0.594203\n",
       "2             0.698765  0.660559  0.591469          0.691077\n",
       "3             0.814304  0.546516  0.657317          0.738595\n",
       "4             0.703704  0.690886  0.666667          0.813282"
      ]
     },
     "execution_count": 37,
     "metadata": {},
     "output_type": "execute_result"
    }
   ],
   "source": [
    "data = pd.DataFrame({\"Radiomics\\nFeatures\": pyra_metrics[\"F1\"], \"CNN\": cnn_metrics[\"F1\"], \"VAE\": vae_metrics[\"F1\"], \"Radiomics\\n+ VAE\": combined_metrics[\"F1\"]})\n",
    "data"
   ]
  },
  {
   "cell_type": "code",
   "execution_count": 39,
   "metadata": {},
   "outputs": [
    {
     "name": "stdout",
     "output_type": "stream",
     "text": [
      "p-value annotation legend:\n",
      "ns: 5.00e-02 < p <= 1.00e+00\n",
      "*: 1.00e-02 < p <= 5.00e-02\n",
      "**: 1.00e-03 < p <= 1.00e-02\n",
      "***: 1.00e-04 < p <= 1.00e-03\n",
      "****: p <= 1.00e-04\n",
      "\n",
      "CNN v.s. VAE: t-test independent samples with Bonferroni correction, P_val=1.000e+00 stat=5.651e-01\n",
      "VAE v.s. Radiomics\n",
      "+ VAE: t-test independent samples with Bonferroni correction, P_val=1.551e-01 stat=-2.469e+00\n",
      "Radiomics\n",
      "Features v.s. VAE: t-test independent samples with Bonferroni correction, P_val=3.031e-02 stat=3.544e+00\n",
      "Radiomics\n",
      "Features v.s. Radiomics\n",
      "+ VAE: t-test independent samples with Bonferroni correction, P_val=1.000e+00 stat=7.774e-02\n",
      "saved to /labs/gevaertlab/users/yyhhli/code/vae/EDA/downstream_tasks/vis_results/boxplot.baseline_w_combined_Pathological T stage.pdf\n"
     ]
    },
    {
     "data": {
      "image/png": "[encoded data removed]",
      "text/plain": [
       "<Figure size 288x360 with 1 Axes>"
      ]
     },
     "metadata": {},
     "output_type": "display_data"
    },
    {
     "data": {
      "text/plain": [
       "<AxesSubplot:xlabel='Models', ylabel='F1 Score (Pathological T stage)'>"
      ]
     },
     "execution_count": 39,
     "metadata": {},
     "output_type": "execute_result"
    }
   ],
   "source": [
    "box_pairs = [(\"VAE\", \"CNN\"), \n",
    "                            (\"VAE\", \"Radiomics\\nFeatures\"), \n",
    "                            (\"Radiomics\\n+ VAE\", \"VAE\"), \n",
    "                            (\"Radiomics\\n+ VAE\", \"Radiomics\\nFeatures\")]\n",
    "vis_result_boxplot(data, box_pairs=box_pairs, \n",
    "                        ylim=(0.2, 1),\n",
    "    save_path=f\"/labs/gevaertlab/users/yyhhli/code/vae/EDA/downstream_tasks/vis_results/boxplot.baseline_w_combined_{label_name}.pdf\", \n",
    "    xlabel=\"Models\", ylabel=f\"F1 Score ({label_name})\")"
   ]
  },
  {
   "cell_type": "code",
   "execution_count": 8,
   "metadata": {},
   "outputs": [],
   "source": [
    "box_pairs = [(\"VAE\", \"CNN\"), \n",
    "            (\"VAE\", \"Radiomics\\nFeatures\"), \n",
    "            (\"Radiomics\\n+ VAE\", \"VAE\"), \n",
    "            (\"Radiomics\\n+ VAE\", \"Radiomics\\nFeatures\")]"
   ]
  },
  {
   "cell_type": "code",
   "execution_count": 10,
   "metadata": {},
   "outputs": [
    {
     "name": "stdout",
     "output_type": "stream",
     "text": [
      "p-value annotation legend:\n",
      "ns: 5.00e-02 < p <= 1.00e+00\n",
      "*: 1.00e-02 < p <= 5.00e-02\n",
      "**: 1.00e-03 < p <= 1.00e-02\n",
      "***: 1.00e-04 < p <= 1.00e-03\n",
      "****: p <= 1.00e-04\n",
      "\n",
      "CNN v.s. VAE: t-test independent samples with Bonferroni correction, P_val=1.000e+00 stat=-4.444e-01\n",
      "VAE v.s. Radiomics\n",
      "+ VAE: t-test independent samples with Bonferroni correction, P_val=8.237e-01 stat=-1.331e+00\n",
      "Radiomics\n",
      "Features v.s. VAE: t-test independent samples with Bonferroni correction, P_val=1.000e+00 stat=3.308e-01\n",
      "Radiomics\n",
      "Features v.s. Radiomics\n",
      "+ VAE: t-test independent samples with Bonferroni correction, P_val=9.424e-01 stat=-1.244e+00\n",
      "saved to /labs/gevaertlab/users/yyhhli/code/vae/EDA/baselines/vis_results/boxplot.baseline_w_combined_Pathological T stage_fold10.jpeg\n",
      "p-value annotation legend:\n",
      "ns: 5.00e-02 < p <= 1.00e+00\n",
      "*: 1.00e-02 < p <= 5.00e-02\n",
      "**: 1.00e-03 < p <= 1.00e-02\n",
      "***: 1.00e-04 < p <= 1.00e-03\n",
      "****: p <= 1.00e-04\n",
      "\n",
      "CNN v.s. VAE: t-test independent samples with Bonferroni correction, P_val=1.000e+00 stat=0.000e+00\n",
      "VAE v.s. Radiomics\n",
      "+ VAE: t-test independent samples with Bonferroni correction, P_val=1.000e+00 stat=-1.244e-03\n",
      "Radiomics\n",
      "Features v.s. VAE: t-test independent samples with Bonferroni correction, P_val=1.785e-01 stat=2.159e+00\n",
      "Radiomics\n",
      "Features v.s. Radiomics\n",
      "+ VAE: t-test independent samples with Bonferroni correction, P_val=5.021e-01 stat=1.637e+00\n",
      "saved to /labs/gevaertlab/users/yyhhli/code/vae/EDA/baselines/vis_results/boxplot.baseline_w_combined_Pathological N stage_fold10.jpeg\n",
      "p-value annotation legend:\n",
      "ns: 5.00e-02 < p <= 1.00e+00\n",
      "*: 1.00e-02 < p <= 5.00e-02\n",
      "**: 1.00e-03 < p <= 1.00e-02\n",
      "***: 1.00e-04 < p <= 1.00e-03\n",
      "****: p <= 1.00e-04\n",
      "\n",
      "CNN v.s. VAE: t-test independent samples with Bonferroni correction, P_val=1.000e+00 stat=-3.321e-01\n",
      "VAE v.s. Radiomics\n",
      "+ VAE: t-test independent samples with Bonferroni correction, P_val=1.000e+00 stat=-1.192e+00\n",
      "Radiomics\n",
      "Features v.s. VAE: t-test independent samples with Bonferroni correction, P_val=3.516e-01 stat=1.805e+00\n",
      "Radiomics\n",
      "Features v.s. Radiomics\n",
      "+ VAE: t-test independent samples with Bonferroni correction, P_val=1.000e+00 stat=4.605e-02\n",
      "saved to /labs/gevaertlab/users/yyhhli/code/vae/EDA/baselines/vis_results/boxplot.baseline_w_combined_AJCC Staging (Version 7)_fold10.jpeg\n",
      "p-value annotation legend:\n",
      "ns: 5.00e-02 < p <= 1.00e+00\n",
      "*: 1.00e-02 < p <= 5.00e-02\n",
      "**: 1.00e-03 < p <= 1.00e-02\n",
      "***: 1.00e-04 < p <= 1.00e-03\n",
      "****: p <= 1.00e-04\n",
      "\n",
      "CNN v.s. VAE: t-test independent samples with Bonferroni correction, P_val=7.560e-01 stat=1.365e+00\n",
      "VAE v.s. Radiomics\n",
      "+ VAE: t-test independent samples with Bonferroni correction, P_val=1.000e+00 stat=-6.565e-01\n",
      "Radiomics\n",
      "Features v.s. VAE: t-test independent samples with Bonferroni correction, P_val=1.569e-01 stat=2.224e+00\n",
      "Radiomics\n",
      "Features v.s. Radiomics\n",
      "+ VAE: t-test independent samples with Bonferroni correction, P_val=7.508e-01 stat=1.391e+00\n",
      "saved to /labs/gevaertlab/users/yyhhli/code/vae/EDA/baselines/vis_results/boxplot.baseline_w_combined_Histopathological Grade_fold10.jpeg\n",
      "p-value annotation legend:\n",
      "ns: 5.00e-02 < p <= 1.00e+00\n",
      "*: 1.00e-02 < p <= 5.00e-02\n",
      "**: 1.00e-03 < p <= 1.00e-02\n",
      "***: 1.00e-04 < p <= 1.00e-03\n",
      "****: p <= 1.00e-04\n",
      "\n",
      "CNN v.s. VAE: t-test independent samples with Bonferroni correction, P_val=1.000e+00 stat=0.000e+00\n",
      "VAE v.s. Radiomics\n",
      "+ VAE: t-test independent samples with Bonferroni correction, P_val=1.000e+00 stat=3.959e-02\n",
      "Radiomics\n",
      "Features v.s. VAE: t-test independent samples with Bonferroni correction, P_val=1.000e+00 stat=4.940e-02\n",
      "Radiomics\n",
      "Features v.s. Radiomics\n",
      "+ VAE: t-test independent samples with Bonferroni correction, P_val=1.000e+00 stat=6.835e-02\n",
      "saved to /labs/gevaertlab/users/yyhhli/code/vae/EDA/baselines/vis_results/boxplot.baseline_w_combined_Lymphovascular invasion_fold10.jpeg\n",
      "p-value annotation legend:\n",
      "ns: 5.00e-02 < p <= 1.00e+00\n",
      "*: 1.00e-02 < p <= 5.00e-02\n",
      "**: 1.00e-03 < p <= 1.00e-02\n",
      "***: 1.00e-04 < p <= 1.00e-03\n",
      "****: p <= 1.00e-04\n",
      "\n",
      "CNN v.s. VAE: t-test independent samples with Bonferroni correction, P_val=1.000e+00 stat=0.000e+00\n",
      "VAE v.s. Radiomics\n",
      "+ VAE: t-test independent samples with Bonferroni correction, P_val=1.000e+00 stat=3.864e-01\n",
      "Radiomics\n",
      "Features v.s. VAE: t-test independent samples with Bonferroni correction, P_val=1.000e+00 stat=4.206e-01\n",
      "Radiomics\n",
      "Features v.s. Radiomics\n",
      "+ VAE: t-test independent samples with Bonferroni correction, P_val=1.000e+00 stat=5.132e-01\n",
      "saved to /labs/gevaertlab/users/yyhhli/code/vae/EDA/baselines/vis_results/boxplot.baseline_w_combined_EGFR mutation status_fold10.jpeg\n",
      "p-value annotation legend:\n",
      "ns: 5.00e-02 < p <= 1.00e+00\n",
      "*: 1.00e-02 < p <= 5.00e-02\n",
      "**: 1.00e-03 < p <= 1.00e-02\n",
      "***: 1.00e-04 < p <= 1.00e-03\n",
      "****: p <= 1.00e-04\n",
      "\n",
      "CNN v.s. VAE: t-test independent samples with Bonferroni correction, P_val=1.000e+00 stat=-3.038e-01\n",
      "VAE v.s. Radiomics\n",
      "+ VAE: t-test independent samples with Bonferroni correction, P_val=1.000e+00 stat=2.948e-01\n",
      "Radiomics\n",
      "Features v.s. VAE: t-test independent samples with Bonferroni correction, P_val=1.000e+00 stat=-9.877e-03\n",
      "Radiomics\n",
      "Features v.s. Radiomics\n",
      "+ VAE: t-test independent samples with Bonferroni correction, P_val=1.000e+00 stat=2.431e-01\n",
      "saved to /labs/gevaertlab/users/yyhhli/code/vae/EDA/baselines/vis_results/boxplot.baseline_w_combined_KRAS mutation status_fold10.jpeg\n",
      "p-value annotation legend:\n",
      "ns: 5.00e-02 < p <= 1.00e+00\n",
      "*: 1.00e-02 < p <= 5.00e-02\n",
      "**: 1.00e-03 < p <= 1.00e-02\n",
      "***: 1.00e-04 < p <= 1.00e-03\n",
      "****: p <= 1.00e-04\n",
      "\n",
      "CNN v.s. VAE: t-test independent samples with Bonferroni correction, P_val=1.000e+00 stat=-3.585e-01\n",
      "VAE v.s. Radiomics\n",
      "+ VAE: t-test independent samples with Bonferroni correction, P_val=1.000e+00 stat=3.207e-01\n",
      "Radiomics\n",
      "Features v.s. VAE: t-test independent samples with Bonferroni correction, P_val=1.000e+00 stat=7.836e-01\n",
      "Radiomics\n",
      "Features v.s. Radiomics\n",
      "+ VAE: t-test independent samples with Bonferroni correction, P_val=1.000e+00 stat=6.511e-01\n",
      "saved to /labs/gevaertlab/users/yyhhli/code/vae/EDA/baselines/vis_results/boxplot.baseline_w_combined_Pleural invasion (elastic, visceral, or parietal)_fold10.jpeg\n"
     ]
    }
   ],
   "source": [
    "for label in label_list:\n",
    "    label_name = label().name\n",
    "    vae_label_name = label.__name__.split(\"Label\")[1]\n",
    "    # if vae_label_name == \"StfRGLymphInvasion\":\n",
    "    #     vae_label_name = \"StfLymphInvasion\"\n",
    "    # if vae_label_name == \"StfRGPleuralInvasion\":\n",
    "    #     vae_label_name = \"StfPleuralInvasion\"\n",
    "    pyra_metrics = pd.read_csv(osp.join(pyradiomics_result, f\"pyradiomics_default_results_xgboost_{label_name}_fold10.csv\"))\n",
    "    cnn_metrics = pd.DataFrame(read_json(osp.join(cnn_result, f\"{label_name}_fold10.json\")))\n",
    "    vae_metrics = read_json(osp.join(vae_result_dir, f\"{vae_label_name}.cv_result_dict.fold_10.json\"))[\"xgboost\"]\n",
    "    combined_metrics = pd.DataFrame(read_json(osp.join(combined_result, f\"{label_name}_results.json\")))\n",
    "    data = pd.DataFrame({\"Radiomics\\nFeatures\": pyra_metrics[\"F1\"], \"CNN\": cnn_metrics[\"F1\"], \"VAE\": vae_metrics[\"F1\"], \"Radiomics\\n+ VAE\": combined_metrics[\"F1\"]})\n",
    "    vis_result_boxplot(data, save_path=f\"/labs/gevaertlab/users/yyhhli/code/vae/EDA/baselines/vis_results/boxplot.baseline_w_combined_{label_name}_fold10.jpeg\", \n",
    "                    xlabel=\"Models\", ylabel=f\"F1 Score ({label_name})\", \n",
    "                    box_pairs=box_pairs, ylim=(0.2, 1),)"
   ]
  },
  {
   "cell_type": "code",
   "execution_count": null,
   "metadata": {},
   "outputs": [],
   "source": [
    "## 10 Fold version\n",
    "f = 10\n",
    "\n",
    "for label in label_list:\n",
    "    label_name = label().name\n",
    "    vae_label_name = label.__name__.split(\"Label\")[1]\n",
    "    # if vae_label_name == \"StfRGLymphInvasion\":\n",
    "    #     vae_label_name = \"StfLymphInvasion\"\n",
    "    # if vae_label_name == \"StfRGPleuralInvasion\":\n",
    "    #     vae_label_name = \"StfPleuralInvasion\"\n",
    "    pyra_metrics = pd.read_csv(osp.join(pyradiomics_result, f\"results_xgboost_{label_name}.csv\"))\n",
    "    cnn_metrics = pd.DataFrame(read_json(osp.join(cnn_result, f\"{label_name}.json\")))\n",
    "    vae_metrics = read_json(osp.join(vae_result_dir, f\"{vae_label_name}.cv_result_dict.json\"))[\"xgboost\"]\n",
    "    combined_metrics = pd.DataFrame(read_json(osp.join(combined_result, f\"{label_name}_results.json\")))\n",
    "    data = pd.DataFrame({\"Radiomics\\nFeatures\": pyra_metrics[\"F1\"], \"CNN\": cnn_metrics[\"F1\"], \"VAE\": vae_metrics[\"F1\"], \"Radiomics\\n+ VAE\": combined_metrics[\"F1\"]})\n",
    "    vis_result_boxplot(data, save_path=f\"/labs/gevaertlab/users/yyhhli/code/vae/EDA/baselines/vis_results/boxplot.baseline_w_combined_{label_name}.jpeg\", \n",
    "                    xlabel=\"Models\", ylabel=f\"F1 Score ({label_name})\", \n",
    "                    box_pairs=box_pairs, ylim=(0.2, 1),)"
   ]
  }
 ],
 "metadata": {
  "kernelspec": {
   "display_name": "Python 3.8.13 ('lungvae38')",
   "language": "python",
   "name": "python3"
  },
  "language_info": {
   "codemirror_mode": {
    "name": "ipython",
    "version": 3
   },
   "file_extension": ".py",
   "mimetype": "text/x-python",
   "name": "python",
   "nbconvert_exporter": "python",
   "pygments_lexer": "ipython3",
   "version": "3.8.13"
  },
  "orig_nbformat": 4,
  "vscode": {
   "interpreter": {
    "hash": "69a9686b88574cea3f3be86d1b85294c5e5eb295dbbf26619c72ae656e929b42"
   }
  }
 },
 "nbformat": 4,
 "nbformat_minor": 2
}
