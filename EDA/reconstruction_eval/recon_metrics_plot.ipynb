{
 "cells": [
  {
   "cell_type": "code",
   "execution_count": null,
   "metadata": {},
   "outputs": [],
   "source": [
    "import sys\n",
    "import argparse\n",
    "import numpy as np\n",
    "from torch.utils.data.dataloader import DataLoader\n",
    "\n",
    "sys.path.insert(1, \"/labs/gevaertlab/users/yyhhli/code/vae/\")\n",
    "\n",
    "\n",
    "def reconstruction_eval(version, log_name, ds_name):\n",
    "\n",
    "    from datasets import PATCH_DATASETS\n",
    "    from datasets.utils import sitk2tensor\n",
    "    from evaluations.evaluator import MetricEvaluator\n",
    "    ds_dict = {\"stf\": \"StanfordRadiogenomicsPatchDataset\", \n",
    "                \"lidc\": \"LIDCPatchAugDataset\",\n",
    "                \"lndb\": \"LNDbPatch32Dataset\"}\n",
    "\n",
    "    patch_ds = PATCH_DATASETS[ds_dict[ds_name]](root_dir=None,\n",
    "                                                       transform=sitk2tensor,\n",
    "                                                       split='val')\n",
    "    print(f\"length of {ds_dict[ds_name]} dataset\",\n",
    "          len(patch_ds))\n",
    "    lndb_dl = DataLoader(dataset=patch_ds,\n",
    "                         batch_size=36,\n",
    "                         shuffle=False,\n",
    "                         drop_last=False,\n",
    "                         num_workers=4,\n",
    "                         pin_memory=True)\n",
    "    me = MetricEvaluator(metrics=['SSIM', 'MSE', 'PSNR'],\n",
    "                         log_name=log_name,\n",
    "                         version=version,\n",
    "                         base_model_name='VAE3D')\n",
    "    metrics_dict = me.calc_metrics(dataloader=lndb_dl)\n",
    "    result_dict = {}\n",
    "    for k, v in metrics_dict.items():\n",
    "        print(f\"{k}: mean value = {np.mean(v)}\")\n",
    "        result_dict[k] = np.mean(v)\n",
    "    return metrics_dict"
   ]
  }
 ],
 "metadata": {
  "language_info": {
   "name": "python"
  },
  "orig_nbformat": 4
 },
 "nbformat": 4,
 "nbformat_minor": 2
}
