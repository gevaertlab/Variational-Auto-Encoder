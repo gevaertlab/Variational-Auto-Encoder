{
 "cells": [
  {
   "cell_type": "code",
   "execution_count": 6,
   "metadata": {},
   "outputs": [],
   "source": [
    "import sys\n",
    "import argparse\n",
    "import numpy as np\n",
    "import os\n",
    "import os.path as osp\n",
    "from torch.utils.data.dataloader import DataLoader\n",
    "import matplotlib.pyplot as plt\n",
    "\n",
    "%matplotlib inline\n",
    "sys.path.insert(1, \"/labs/gevaertlab/users/yyhhli/code/vae/\")"
   ]
  },
  {
   "cell_type": "code",
   "execution_count": 14,
   "metadata": {},
   "outputs": [],
   "source": [
    "\n",
    "def recon_vis_eval(vis_dir=None, indices=list(range(36))):\n",
    "\n",
    "    log_name = \"VAE3D32AUG\"\n",
    "    version = 70\n",
    "\n",
    "    from datasets import PATCH_DATASETS\n",
    "    from datasets.utils import sitk2tensor\n",
    "    from evaluations.evaluator import ReconSelectEvaluater\n",
    "\n",
    "    stanford_radiogenomics = PATCH_DATASETS[\"StanfordRadiogenomicsPatchDataset\"](root_dir=None,\n",
    "                                                                                 transform=sitk2tensor,\n",
    "                                                                                 split='test')\n",
    "    print(\"length of stanford_radiogenomics dataset\",\n",
    "          len(stanford_radiogenomics))\n",
    "#     stf_dl = DataLoader(dataset=stanford_radiogenomics,\n",
    "#                         batch_size=36,\n",
    "#                         shuffle=False,\n",
    "#                         drop_last=False,\n",
    "#                         num_workers=4,\n",
    "#                         pin_memory=True)\n",
    "    re = ReconSelectEvaluater(vis_dir=vis_dir, # osp.join(os.getcwd(), \"vis_results/\"),\n",
    "                        log_name=log_name,\n",
    "                        version=version)\n",
    "\n",
    "    re(dataset=stanford_radiogenomics, indices=indices)\n",
    "    pass"
   ]
  },
  {
   "cell_type": "code",
   "execution_count": 9,
   "metadata": {},
   "outputs": [
    {
     "name": "stdout",
     "output_type": "stream",
     "text": [
      "[0, 1, 2, 3, 4, 5, 6, 7, 9, 10, 11, 12, 13, 14, 15, 16, 17, 18, 19, 20, 21, 22, 23, 24, 25, 26, 27, 28, 29, 30, 31, 32, 33, 34, 36, 37]\n"
     ]
    }
   ],
   "source": [
    "indices = list(range(38))\n",
    "indices.remove(8)\n",
    "indices.remove(35)\n",
    "print(indices)"
   ]
  },
  {
   "cell_type": "code",
   "execution_count": 15,
   "metadata": {},
   "outputs": [
    {
     "name": "stderr",
     "output_type": "stream",
     "text": [
      "[06-14 22:50:44 | patch_stanfordradiogenomics:StanfordRadiogenomicsPatchDataset] patient split: train:100, test:43\n"
     ]
    },
    {
     "name": "stdout",
     "output_type": "stream",
     "text": [
      "length of stanford_radiogenomics dataset 43\n"
     ]
    },
    {
     "name": "stderr",
     "output_type": "stream",
     "text": [
      "[06-14 22:50:48 | patch_ds:LIDCPatchAugDataset] patient split: train:699, val:88, test:88\n",
      "[06-14 22:50:48 | patch_ds:LIDCPatchAugDataset] patch split: train, 33108\n",
      "[06-14 22:50:48 | patch_ds:LNDbPatch32AugDataset] patient split: train:168, val:22, test:22\n",
      "[06-14 22:50:48 | patch_ds:LNDbPatch32AugDataset] patch split: train, 5022\n",
      "[06-14 22:50:48 | patch_stanfordradiogenomics:StanfordRadiogenomicsPatchAugDataset] patient split: train:100, test:43\n",
      "[06-14 22:50:52 | visualization:vis3d_tensor] save image to /labs/gevaertlab/users/yyhhli/code/vae/EDA/reconstruction_eval/vis_results/VAE3D32AUG.70._35_image.jpeg\n",
      "[06-14 22:50:56 | visualization:vis3d_tensor] save image to /labs/gevaertlab/users/yyhhli/code/vae/EDA/reconstruction_eval/vis_results/VAE3D32AUG.70._35_recon.jpeg\n"
     ]
    }
   ],
   "source": [
    "recon_vis_eval(vis_dir = osp.join(os.getcwd(), \"vis_results/\"), indices=indices) # vis_dir = osp.join(os.getcwd(), \"vis_results/\")"
   ]
  },
  {
   "cell_type": "code",
   "execution_count": null,
   "metadata": {},
   "outputs": [],
   "source": []
  }
 ],
 "metadata": {
  "kernelspec": {
   "display_name": "Python 3.8.13 ('lungvae38')",
   "language": "python",
   "name": "python3"
  },
  "language_info": {
   "codemirror_mode": {
    "name": "ipython",
    "version": 3
   },
   "file_extension": ".py",
   "mimetype": "text/x-python",
   "name": "python",
   "nbconvert_exporter": "python",
   "pygments_lexer": "ipython3",
   "version": "3.8.13"
  },
  "orig_nbformat": 4,
  "vscode": {
   "interpreter": {
    "hash": "69a9686b88574cea3f3be86d1b85294c5e5eb295dbbf26619c72ae656e929b42"
   }
  }
 },
 "nbformat": 4,
 "nbformat_minor": 2
}
