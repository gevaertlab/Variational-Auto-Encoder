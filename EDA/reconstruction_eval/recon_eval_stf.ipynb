{
 "cells": [
  {
   "cell_type": "code",
   "execution_count": 1,
   "metadata": {},
   "outputs": [
    {
     "name": "stderr",
     "output_type": "stream",
     "text": [
      "/labs/gevaertlab/users/yyhhli/miniconda3/envs/lungvae38/lib/python3.8/site-packages/tqdm/auto.py:22: TqdmWarning: IProgress not found. Please update jupyter and ipywidgets. See https://ipywidgets.readthedocs.io/en/stable/user_install.html\n",
      "  from .autonotebook import tqdm as notebook_tqdm\n"
     ]
    }
   ],
   "source": [
    "import sys\n",
    "import argparse\n",
    "import numpy as np\n",
    "import os\n",
    "import os.path as osp\n",
    "from torch.utils.data.dataloader import DataLoader"
   ]
  },
  {
   "cell_type": "code",
   "execution_count": 2,
   "metadata": {},
   "outputs": [],
   "source": [
    "sys.path.insert(1, \"/labs/gevaertlab/users/yyhhli/code/vae/\")\n"
   ]
  },
  {
   "cell_type": "code",
   "execution_count": 3,
   "metadata": {},
   "outputs": [],
   "source": [
    "\n",
    "from datasets import PATCH_DATASETS\n",
    "from datasets.utils import sitk2tensor\n",
    "from evaluations.evaluator import MetricEvaluator\n",
    "ds_dict = {\"stf\": \"StanfordRadiogenomicsPatchDataset\",\n",
    "            \"lidc\": \"LIDCPatchAugDataset\",\n",
    "            \"lndb\": \"LNDbPatch32Dataset\"}"
   ]
  },
  {
   "cell_type": "code",
   "execution_count": 4,
   "metadata": {},
   "outputs": [],
   "source": [
    "ds_name = \"stf\"\n",
    "log_name = \"VAE3D32AUG\"\n",
    "version = 70\n",
    "base_model_name = \"VAE3D\""
   ]
  },
  {
   "cell_type": "code",
   "execution_count": 7,
   "metadata": {},
   "outputs": [
    {
     "name": "stderr",
     "output_type": "stream",
     "text": [
      "[05-18 23:05:48 | patch_stanfordradiogenomics:StanfordRadiogenomicsPatchDataset] this dataset only has train/test splits, setting val as test\n",
      "[05-18 23:05:48 | patch_stanfordradiogenomics:StanfordRadiogenomicsPatchDataset] patient split: train:100, test:43\n"
     ]
    },
    {
     "name": "stdout",
     "output_type": "stream",
     "text": [
      "length of StanfordRadiogenomicsPatchDataset dataset 43\n"
     ]
    },
    {
     "name": "stderr",
     "output_type": "stream",
     "text": [
      "[05-18 23:05:49 | instantiator:  <module>] Created a temporary directory at /tmp/tmp8g7uy8ez\n",
      "[05-18 23:05:49 | instantiator:    _write] Writing /tmp/tmp8g7uy8ez/_remote_module_non_sriptable.py\n",
      "[05-18 23:05:52 | patch_ds:LIDCPatchAugDataset] patient split: train:699, val:88, test:88\n",
      "[05-18 23:05:52 | patch_ds:LNDbPatch32AugDataset] patient split: train:168, val:22, test:22\n",
      "[05-18 23:05:52 | patch_stanfordradiogenomics:StanfordRadiogenomicsPatchAugDataset] patient split: train:100, test:43\n"
     ]
    }
   ],
   "source": [
    "\n",
    "patch_ds = PATCH_DATASETS[ds_dict[ds_name]](root_dir=None,\n",
    "                                                    transform=sitk2tensor,\n",
    "                                                    split='val')\n",
    "print(f\"length of {ds_dict[ds_name]} dataset\",\n",
    "        len(patch_ds))\n",
    "dataloader = DataLoader(dataset=patch_ds,\n",
    "                        batch_size=36,\n",
    "                        shuffle=False,\n",
    "                        drop_last=False,\n",
    "                        num_workers=4,\n",
    "                        pin_memory=True)\n",
    "me = MetricEvaluator(metrics=['SSIM', 'MSE', 'PSNR'],\n",
    "                        log_name=log_name,\n",
    "                        version=version,\n",
    "                        base_model_name=base_model_name)"
   ]
  },
  {
   "cell_type": "code",
   "execution_count": 8,
   "metadata": {},
   "outputs": [
    {
     "name": "stderr",
     "output_type": "stream",
     "text": [
      "100%|██████████| 2/2 [00:05<00:00,  2.51s/it]\n"
     ]
    }
   ],
   "source": [
    "metrics_dict = me.calc_metrics(dataloader=dataloader)"
   ]
  },
  {
   "cell_type": "code",
   "execution_count": 14,
   "metadata": {},
   "outputs": [
    {
     "name": "stdout",
     "output_type": "stream",
     "text": [
      "SSIM: mean value = 0.774303738910123\n",
      "SSIM: std value = 0.13022071491440224\n",
      "MSE: mean value = 0.0007962964591570199\n",
      "MSE: std value = 0.00047017462202347815\n",
      "PSNR: mean value = 26.098697852955056\n",
      "PSNR: std value = 2.914049404601926\n"
     ]
    }
   ],
   "source": [
    "# print mean and std of metrics\n",
    "result_dict = {}\n",
    "for k, v in metrics_dict.items():\n",
    "    print(f\"{k}: mean value = {np.mean(v)}\")\n",
    "    print(f\"{k}: std value = {np.std(v)}\")\n",
    "    result_dict[k] = np.mean(v)\n"
   ]
  },
  {
   "cell_type": "code",
   "execution_count": null,
   "metadata": {},
   "outputs": [],
   "source": [
    "result_dict = {}\n",
    "for k, v in metrics_dict.items():\n",
    "    print(f\"{k}: mean value = {np.mean(v)}\")\n",
    "    result_dict[k] = np.mean(v)"
   ]
  }
 ],
 "metadata": {
  "interpreter": {
   "hash": "69a9686b88574cea3f3be86d1b85294c5e5eb295dbbf26619c72ae656e929b42"
  },
  "kernelspec": {
   "display_name": "Python 3.8.13 ('lungvae38')",
   "language": "python",
   "name": "python3"
  },
  "language_info": {
   "codemirror_mode": {
    "name": "ipython",
    "version": 3
   },
   "file_extension": ".py",
   "mimetype": "text/x-python",
   "name": "python",
   "nbconvert_exporter": "python",
   "pygments_lexer": "ipython3",
   "version": "3.8.13"
  },
  "orig_nbformat": 4
 },
 "nbformat": 4,
 "nbformat_minor": 2
}
