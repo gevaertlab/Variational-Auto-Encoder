{
 "cells": [
  {
   "cell_type": "code",
   "execution_count": 9,
   "metadata": {},
   "outputs": [],
   "source": [
    "import sys\n",
    "import os\n",
    "import os.path as osp\n",
    "\n",
    "from torch.utils.data.dataloader import DataLoader\n",
    "import matplotlib.pyplot as plt\n",
    "import numpy as np"
   ]
  },
  {
   "cell_type": "code",
   "execution_count": 7,
   "metadata": {},
   "outputs": [
    {
     "data": {
      "text/plain": [
       "'/labs/gevaertlab/users/yyhhli/code/vae'"
      ]
     },
     "execution_count": 7,
     "metadata": {},
     "output_type": "execute_result"
    }
   ],
   "source": [
    "osp.dirname(os.getcwd())"
   ]
  },
  {
   "cell_type": "code",
   "execution_count": 14,
   "metadata": {},
   "outputs": [],
   "source": [
    "sys.path.insert(1, osp.dirname(os.getcwd()))"
   ]
  },
  {
   "cell_type": "code",
   "execution_count": 13,
   "metadata": {},
   "outputs": [],
   "source": [
    "from datasets import PATCH_DATASETS\n",
    "import numpy as np\n",
    "from datasets.utils import sitk2tensor\n",
    "from evaluations.evaluator import MetricEvaluator"
   ]
  },
  {
   "cell_type": "markdown",
   "metadata": {},
   "source": [
    "## LNDb Validatoin Set"
   ]
  },
  {
   "cell_type": "code",
   "execution_count": 11,
   "metadata": {},
   "outputs": [
    {
     "name": "stderr",
     "output_type": "stream",
     "text": [
      "[02-01 21:28:38 | patch_ds:LNDbPatch32Dataset] patient split: train:168, val:22, test:22\n"
     ]
    },
    {
     "name": "stdout",
     "output_type": "stream",
     "text": [
      "length of lndb_patch dataset 109\n"
     ]
    }
   ],
   "source": [
    "lndb_patch = PATCH_DATASETS[\"LNDbPatch32Dataset\"](root_dir=None,\n",
    "                                                      transform=sitk2tensor,\n",
    "                                                      split='val')\n",
    "print(\"length of lndb_patch dataset\", len(lndb_patch))\n",
    "lndb_dl = DataLoader(dataset=lndb_patch,\n",
    "                    batch_size=40,\n",
    "                    shuffle=False,\n",
    "                    drop_last=False,\n",
    "                    num_workers=4,\n",
    "                    pin_memory=True)"
   ]
  },
  {
   "cell_type": "code",
   "execution_count": 15,
   "metadata": {},
   "outputs": [
    {
     "name": "stderr",
     "output_type": "stream",
     "text": [
      "100%|██████████| 3/3 [00:07<00:00,  2.64s/it]"
     ]
    },
    {
     "name": "stdout",
     "output_type": "stream",
     "text": [
      "SSIM: mean value = 0.701853109732127\n",
      "MSE: mean value = 0.00080424192128703\n",
      "PSNR: mean value = 26.752968079960155\n"
     ]
    },
    {
     "name": "stderr",
     "output_type": "stream",
     "text": [
      "\n"
     ]
    }
   ],
   "source": [
    "me = MetricEvaluator(metrics=[\"SSIM\", \"MSE\", \"PSNR\"],\n",
    "                         log_name='VAE3D32AUG',\n",
    "                         version=49)\n",
    "metrics_dict = me.calc_metrics(dataloader=lndb_dl)\n",
    "for k, v in metrics_dict.items():\n",
    "    print(f\"{k}: mean value = {np.mean(v)}\")"
   ]
  },
  {
   "cell_type": "code",
   "execution_count": 16,
   "metadata": {},
   "outputs": [
    {
     "name": "stderr",
     "output_type": "stream",
     "text": [
      "100%|██████████| 3/3 [00:02<00:00,  1.49it/s]"
     ]
    },
    {
     "name": "stdout",
     "output_type": "stream",
     "text": [
      "SSIM: mean value = 0.731178250540385\n",
      "MSE: mean value = 0.0005689655663445592\n",
      "PSNR: mean value = 28.016349996044866\n"
     ]
    },
    {
     "name": "stderr",
     "output_type": "stream",
     "text": [
      "\n"
     ]
    }
   ],
   "source": [
    "me = MetricEvaluator(metrics=[\"SSIM\", \"MSE\", \"PSNR\"],\n",
    "                         log_name='VAE3D32AUG',\n",
    "                         version=51)\n",
    "metrics_dict = me.calc_metrics(dataloader=lndb_dl)\n",
    "for k, v in metrics_dict.items():\n",
    "    print(f\"{k}: mean value = {np.mean(v)}\")"
   ]
  },
  {
   "cell_type": "code",
   "execution_count": 17,
   "metadata": {},
   "outputs": [
    {
     "name": "stderr",
     "output_type": "stream",
     "text": [
      "100%|██████████| 3/3 [00:02<00:00,  1.44it/s]"
     ]
    },
    {
     "name": "stdout",
     "output_type": "stream",
     "text": [
      "SSIM: mean value = 0.6954380127964794\n",
      "MSE: mean value = 0.0007115198532119393\n",
      "PSNR: mean value = 27.107873419005234\n"
     ]
    },
    {
     "name": "stderr",
     "output_type": "stream",
     "text": [
      "\n"
     ]
    }
   ],
   "source": [
    "me = MetricEvaluator(metrics=[\"SSIM\", \"MSE\", \"PSNR\"],\n",
    "                         log_name='VAE3D32AUG',\n",
    "                         version=53)\n",
    "metrics_dict = me.calc_metrics(dataloader=lndb_dl)\n",
    "for k, v in metrics_dict.items():\n",
    "    print(f\"{k}: mean value = {np.mean(v)}\")"
   ]
  },
  {
   "cell_type": "code",
   "execution_count": 24,
   "metadata": {},
   "outputs": [
    {
     "name": "stderr",
     "output_type": "stream",
     "text": [
      "100%|██████████| 3/3 [00:02<00:00,  1.10it/s]"
     ]
    },
    {
     "name": "stdout",
     "output_type": "stream",
     "text": [
      "SSIM: mean value = 0.5541669077138974\n",
      "MSE: mean value = 0.0012837962713092566\n",
      "PSNR: mean value = 24.416875853556906\n"
     ]
    },
    {
     "name": "stderr",
     "output_type": "stream",
     "text": [
      "\n"
     ]
    }
   ],
   "source": [
    "me = MetricEvaluator(metrics=[\"SSIM\", \"MSE\", \"PSNR\"],\n",
    "                         log_name='VAE3D32AUG',\n",
    "                         version=57)\n",
    "metrics_dict = me.calc_metrics(dataloader=lndb_dl)\n",
    "for k, v in metrics_dict.items():\n",
    "    print(f\"{k}: mean value = {np.mean(v)}\")"
   ]
  },
  {
   "cell_type": "code",
   "execution_count": 25,
   "metadata": {},
   "outputs": [
    {
     "name": "stderr",
     "output_type": "stream",
     "text": [
      "100%|██████████| 3/3 [00:02<00:00,  1.06it/s]"
     ]
    },
    {
     "name": "stdout",
     "output_type": "stream",
     "text": [
      "SSIM: mean value = 0.5548690998192309\n",
      "MSE: mean value = 0.0012664074311032891\n",
      "PSNR: mean value = 24.47645509948343\n"
     ]
    },
    {
     "name": "stderr",
     "output_type": "stream",
     "text": [
      "\n"
     ]
    }
   ],
   "source": [
    "me = MetricEvaluator(metrics=[\"SSIM\", \"MSE\", \"PSNR\"],\n",
    "                         log_name='VAE3D32AUG',\n",
    "                         version=58)\n",
    "metrics_dict = me.calc_metrics(dataloader=lndb_dl)\n",
    "for k, v in metrics_dict.items():\n",
    "    print(f\"{k}: mean value = {np.mean(v)}\")"
   ]
  },
  {
   "cell_type": "code",
   "execution_count": 27,
   "metadata": {},
   "outputs": [
    {
     "name": "stderr",
     "output_type": "stream",
     "text": [
      "100%|██████████| 3/3 [00:02<00:00,  1.01it/s]"
     ]
    },
    {
     "name": "stdout",
     "output_type": "stream",
     "text": [
      "SSIM: mean value = 0.5567966702294221\n",
      "MSE: mean value = 0.0012503622565418482\n",
      "PSNR: mean value = 24.53638911873991\n"
     ]
    },
    {
     "name": "stderr",
     "output_type": "stream",
     "text": [
      "\n"
     ]
    }
   ],
   "source": [
    "me = MetricEvaluator(metrics=[\"SSIM\", \"MSE\", \"PSNR\"],\n",
    "                     log_name='VAE3D32AUG',\n",
    "                     version=59)\n",
    "metrics_dict = me.calc_metrics(dataloader=lndb_dl)\n",
    "for k, v in metrics_dict.items():\n",
    "    print(f\"{k}: mean value = {np.mean(v)}\")"
   ]
  },
  {
   "cell_type": "markdown",
   "metadata": {},
   "source": [
    "## STF Validation Set"
   ]
  },
  {
   "cell_type": "code",
   "execution_count": 20,
   "metadata": {},
   "outputs": [
    {
     "name": "stderr",
     "output_type": "stream",
     "text": [
      "[02-01 21:44:24 | patch_stanfordradiogenomics:StanfordRadiogenomicsPatchDataset] patient split: train:100, test:43\n"
     ]
    },
    {
     "name": "stdout",
     "output_type": "stream",
     "text": [
      "length of stanford_radiogenomics dataset 43\n"
     ]
    }
   ],
   "source": [
    "stanford_radiogenomics = PATCH_DATASETS[\"StanfordRadiogenomicsPatchDataset\"](root_dir=None,\n",
    "                                                                            transform=sitk2tensor,\n",
    "                                                                            split='test')\n",
    "print(\"length of stanford_radiogenomics dataset\",\n",
    "        len(stanford_radiogenomics))\n",
    "stf_dl = DataLoader(dataset=stanford_radiogenomics,\n",
    "                        batch_size=36,\n",
    "                        shuffle=False,\n",
    "                        drop_last=False,\n",
    "                        num_workers=4,\n",
    "                        pin_memory=True)"
   ]
  },
  {
   "cell_type": "code",
   "execution_count": 21,
   "metadata": {},
   "outputs": [
    {
     "name": "stderr",
     "output_type": "stream",
     "text": [
      "100%|██████████| 2/2 [00:01<00:00,  1.18it/s]"
     ]
    },
    {
     "name": "stdout",
     "output_type": "stream",
     "text": [
      "SSIM: mean value = 0.6751321425797318\n",
      "MSE: mean value = 0.0013133204774931073\n",
      "PSNR: mean value = 23.34597630437346\n"
     ]
    },
    {
     "name": "stderr",
     "output_type": "stream",
     "text": [
      "\n"
     ]
    }
   ],
   "source": [
    "me = MetricEvaluator(metrics=[\"SSIM\", \"MSE\", \"PSNR\"],\n",
    "                    log_name='VAE3D32AUG',\n",
    "                    version=49)\n",
    "metrics_dict = me.calc_metrics(dataloader=stf_dl)\n",
    "for k, v in metrics_dict.items():\n",
    "    print(f\"{k}: mean value = {np.mean(v)}\")"
   ]
  },
  {
   "cell_type": "code",
   "execution_count": 22,
   "metadata": {},
   "outputs": [
    {
     "name": "stderr",
     "output_type": "stream",
     "text": [
      "100%|██████████| 2/2 [00:01<00:00,  1.27it/s]"
     ]
    },
    {
     "name": "stdout",
     "output_type": "stream",
     "text": [
      "SSIM: mean value = 0.6856340198542188\n",
      "MSE: mean value = 0.001264903461560607\n",
      "PSNR: mean value = 23.515910440105973\n"
     ]
    },
    {
     "name": "stderr",
     "output_type": "stream",
     "text": [
      "\n"
     ]
    }
   ],
   "source": [
    "me = MetricEvaluator(metrics=[\"SSIM\", \"MSE\", \"PSNR\"],\n",
    "                    log_name='VAE3D32AUG',\n",
    "                    version=51)\n",
    "metrics_dict = me.calc_metrics(dataloader=stf_dl)\n",
    "for k, v in metrics_dict.items():\n",
    "    print(f\"{k}: mean value = {np.mean(v)}\")"
   ]
  },
  {
   "cell_type": "code",
   "execution_count": 23,
   "metadata": {},
   "outputs": [
    {
     "name": "stderr",
     "output_type": "stream",
     "text": [
      "100%|██████████| 2/2 [00:01<00:00,  1.25it/s]"
     ]
    },
    {
     "name": "stdout",
     "output_type": "stream",
     "text": [
      "SSIM: mean value = 0.6603144355762463\n",
      "MSE: mean value = 0.0013474700972437859\n",
      "PSNR: mean value = 23.131018548465025\n"
     ]
    },
    {
     "name": "stderr",
     "output_type": "stream",
     "text": [
      "\n"
     ]
    }
   ],
   "source": [
    "me = MetricEvaluator(metrics=[\"SSIM\", \"MSE\", \"PSNR\"],\n",
    "                    log_name='VAE3D32AUG',\n",
    "                    version=53)\n",
    "metrics_dict = me.calc_metrics(dataloader=stf_dl)\n",
    "for k, v in metrics_dict.items():\n",
    "    print(f\"{k}: mean value = {np.mean(v)}\")"
   ]
  },
  {
   "cell_type": "code",
   "execution_count": 28,
   "metadata": {},
   "outputs": [
    {
     "name": "stderr",
     "output_type": "stream",
     "text": [
      "100%|██████████| 2/2 [00:01<00:00,  1.13it/s]"
     ]
    },
    {
     "name": "stdout",
     "output_type": "stream",
     "text": [
      "SSIM: mean value = 0.6041462483046972\n",
      "MSE: mean value = 0.0015003858134150505\n",
      "PSNR: mean value = 22.47318130111007\n"
     ]
    },
    {
     "name": "stderr",
     "output_type": "stream",
     "text": [
      "\n"
     ]
    }
   ],
   "source": [
    "me = MetricEvaluator(metrics=[\"SSIM\", \"MSE\", \"PSNR\"],\n",
    "                    log_name='VAE3D32AUG',\n",
    "                    version=57)\n",
    "metrics_dict = me.calc_metrics(dataloader=stf_dl)\n",
    "for k, v in metrics_dict.items():\n",
    "    print(f\"{k}: mean value = {np.mean(v)}\")"
   ]
  },
  {
   "cell_type": "code",
   "execution_count": 29,
   "metadata": {},
   "outputs": [
    {
     "name": "stderr",
     "output_type": "stream",
     "text": [
      "100%|██████████| 2/2 [00:01<00:00,  1.12it/s]"
     ]
    },
    {
     "name": "stdout",
     "output_type": "stream",
     "text": [
      "SSIM: mean value = 0.6155827613092323\n",
      "MSE: mean value = 0.00145004375372082\n",
      "PSNR: mean value = 22.67444262936854\n"
     ]
    },
    {
     "name": "stderr",
     "output_type": "stream",
     "text": [
      "\n"
     ]
    }
   ],
   "source": [
    "me = MetricEvaluator(metrics=[\"SSIM\", \"MSE\", \"PSNR\"],\n",
    "                    log_name='VAE3D32AUG',\n",
    "                    version=58)\n",
    "metrics_dict = me.calc_metrics(dataloader=stf_dl)\n",
    "for k, v in metrics_dict.items():\n",
    "    print(f\"{k}: mean value = {np.mean(v)}\")"
   ]
  },
  {
   "cell_type": "code",
   "execution_count": 30,
   "metadata": {},
   "outputs": [
    {
     "name": "stderr",
     "output_type": "stream",
     "text": [
      "100%|██████████| 2/2 [00:01<00:00,  1.28it/s]"
     ]
    },
    {
     "name": "stdout",
     "output_type": "stream",
     "text": [
      "SSIM: mean value = 0.6153462028441585\n",
      "MSE: mean value = 0.0014527018647640944\n",
      "PSNR: mean value = 22.60392808669844\n"
     ]
    },
    {
     "name": "stderr",
     "output_type": "stream",
     "text": [
      "\n"
     ]
    }
   ],
   "source": [
    "me = MetricEvaluator(metrics=[\"SSIM\", \"MSE\", \"PSNR\"],\n",
    "                    log_name='VAE3D32AUG',\n",
    "                    version=59)\n",
    "metrics_dict = me.calc_metrics(dataloader=stf_dl)\n",
    "for k, v in metrics_dict.items():\n",
    "    print(f\"{k}: mean value = {np.mean(v)}\")"
   ]
  },
  {
   "cell_type": "code",
   "execution_count": null,
   "metadata": {},
   "outputs": [],
   "source": []
  }
 ],
 "metadata": {
  "interpreter": {
   "hash": "21c857bfaea304fb46543346e36a53a586262518187fe5c78885c0f9b3f70be2"
  },
  "kernelspec": {
   "display_name": "Python 3.6.12 64-bit ('lungvae': conda)",
   "language": "python",
   "name": "python3"
  },
  "language_info": {
   "codemirror_mode": {
    "name": "ipython",
    "version": 3
   },
   "file_extension": ".py",
   "mimetype": "text/x-python",
   "name": "python",
   "nbconvert_exporter": "python",
   "pygments_lexer": "ipython3",
   "version": "3.6.12"
  },
  "orig_nbformat": 4
 },
 "nbformat": 4,
 "nbformat_minor": 2
}
