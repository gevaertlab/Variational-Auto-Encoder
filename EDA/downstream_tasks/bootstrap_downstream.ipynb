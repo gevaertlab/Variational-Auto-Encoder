{
 "cells": [
  {
   "cell_type": "code",
   "execution_count": 1,
   "metadata": {},
   "outputs": [],
   "source": [
    "import os\n",
    "import sys"
   ]
  },
  {
   "cell_type": "code",
   "execution_count": 2,
   "metadata": {},
   "outputs": [
    {
     "name": "stdout",
     "output_type": "stream",
     "text": [
      "/labs/gevaertlab/users/yyhhli/code/vae/EDA\n"
     ]
    }
   ],
   "source": [
    "print(os.getcwd())"
   ]
  },
  {
   "cell_type": "code",
   "execution_count": 6,
   "metadata": {},
   "outputs": [],
   "source": [
    "sys.path.insert(1, \"/labs/gevaertlab/users/yyhhli/code/vae/\")"
   ]
  },
  {
   "cell_type": "code",
   "execution_count": 7,
   "metadata": {},
   "outputs": [
    {
     "name": "stderr",
     "output_type": "stream",
     "text": [
      "[03-03 15:32:56 | utils:_init_num_threads] Note: NumExpr detected 40 cores but \"NUMEXPR_MAX_THREADS\" not set, so enforcing safe limit of 8.\n",
      "[03-03 15:32:56 | utils:_init_num_threads] NumExpr defaulting to 8 threads.\n"
     ]
    }
   ],
   "source": [
    "from torch.utils.data.dataloader import DataLoader\n",
    "from applications.application import Application\n",
    "from datasets.utils import sitk2tensor\n",
    "from datasets import PATCH_DATASETS"
   ]
  },
  {
   "cell_type": "code",
   "execution_count": 8,
   "metadata": {},
   "outputs": [
    {
     "name": "stderr",
     "output_type": "stream",
     "text": [
      "[03-03 15:33:05 | patch_stanfordradiogenomics:StanfordRadiogenomicsPatchAugDataset] patient split: train:100, test:43\n",
      "[03-03 15:33:05 | patch_stanfordradiogenomics:StanfordRadiogenomicsPatchDataset] patient split: train:100, test:43\n"
     ]
    }
   ],
   "source": [
    "\n",
    "stfrg_train_patch = PATCH_DATASETS[\"StanfordRadiogenomicsPatchAugDataset\"](root_dir=None,\n",
    "                                                                            transform=sitk2tensor,\n",
    "                                                                            split='train')\n",
    "stfrg_train_patch_dataloader = DataLoader(dataset=stfrg_train_patch,\n",
    "                                            batch_size=1,\n",
    "                                            shuffle=False,\n",
    "                                            drop_last=False,\n",
    "                                            num_workers=4,\n",
    "                                            pin_memory=True)\n",
    "stfrg_test_patch = PATCH_DATASETS[\"StanfordRadiogenomicsPatchDataset\"](root_dir=None,\n",
    "                                                                        transform=sitk2tensor,\n",
    "                                                                        split='test')\n",
    "stfrg_test_patch_dataloader = DataLoader(dataset=stfrg_test_patch,\n",
    "                                            batch_size=1,\n",
    "                                            shuffle=False,\n",
    "                                            drop_last=False,\n",
    "                                            num_workers=4,\n",
    "                                            pin_memory=True)\n",
    "\n"
   ]
  },
  {
   "cell_type": "code",
   "execution_count": null,
   "metadata": {},
   "outputs": [],
   "source": [
    "\n",
    "for task in [\"StfAJCC\", \"StfHisGrade\", \"StfNStage\", \"StfTStage\", \"StfLymphInvasion\", \"StfEGFRMutation\", \"StfKRASMutation\"]:  # \"StfVolume\", \"StfLymphInvasion\"\n",
    "    for version in [49, 51, 53, 57, 58, 59, 60]:\n",
    "        print(\n",
    "            f\"======= Predicting {task} with model version {version} =======\")\n",
    "        app = Application(log_name='VAE3D32AUG',\n",
    "                            version=version,\n",
    "                            task_name=task,\n",
    "                            task_kwds={\"task_type\": \"classification\"},\n",
    "                            base_model_name='VAE3D',\n",
    "                            dataloaders={'train': stfrg_train_patch_dataloader,\n",
    "                                        'val': stfrg_test_patch_dataloader})\n",
    "\n",
    "        result_dict, pred_dict, pred_stats, hparam_dict = app.task_prediction(tune_hparams=True, models='all')\n"
   ]
  },
  {
   "cell_type": "code",
   "execution_count": 10,
   "metadata": {},
   "outputs": [
    {
     "name": "stdout",
     "output_type": "stream",
     "text": [
      "======= Predicting StfAJCC with model version 49 =======\n"
     ]
    },
    {
     "name": "stderr",
     "output_type": "stream",
     "text": [
      "[03-03 15:33:34 | export:  Exporter] initializing embeddings\n",
      "[03-03 15:33:35 | application:Application] -----prediction for task StfAJCC-----\n",
      "[03-03 15:33:35 | application:Application] Loading best hparams ...\n",
      "[03-03 15:33:35 | models:predict_task] Before transform: X shape = train:(100, 4096), val:(43, 4096); Y shape = train:(100,), val:(43,)\n",
      "[03-03 15:33:35 | models:data_summary] X shape = train:(97, 4096), val:(42, 4096); Y shape = train:(97,), val:(42,)\n",
      "Y classes = train: \n",
      "  value count\n",
      "0     I    58\n",
      "1   II+    39; val: \n",
      "  value count\n",
      "0     I    29\n",
      "1   II+    13\n",
      "[03-03 15:33:35 | models:predict_with_model] ======random_forest======\n"
     ]
    },
    {
     "name": "stdout",
     "output_type": "stream",
     "text": [
      " | 1.0 secs.\n",
      "initializing | 2.0 secs.\n",
      "['random_forest']\n"
     ]
    },
    {
     "ename": "IndexError",
     "evalue": "only integers, slices (`:`), ellipsis (`...`), numpy.newaxis (`None`) and integer or boolean arrays are valid indices",
     "output_type": "error",
     "traceback": [
      "\u001b[0;31m---------------------------------------------------------------------------\u001b[0m",
      "\u001b[0;31mIndexError\u001b[0m                                Traceback (most recent call last)",
      "\u001b[0;32m<ipython-input-10-859d8fbb043d>\u001b[0m in \u001b[0;36m<module>\u001b[0;34m\u001b[0m\n\u001b[1;32m     11\u001b[0m                                 'val': stfrg_test_patch_dataloader})\n\u001b[1;32m     12\u001b[0m \u001b[0;34m\u001b[0m\u001b[0m\n\u001b[0;32m---> 13\u001b[0;31m \u001b[0mresult_dict\u001b[0m\u001b[0;34m,\u001b[0m \u001b[0mhparam_dict\u001b[0m \u001b[0;34m=\u001b[0m \u001b[0mapp\u001b[0m\u001b[0;34m.\u001b[0m\u001b[0mtask_prediction\u001b[0m\u001b[0;34m(\u001b[0m\u001b[0mtune_hparams\u001b[0m\u001b[0;34m=\u001b[0m\u001b[0;32mTrue\u001b[0m\u001b[0;34m,\u001b[0m \u001b[0mmodels\u001b[0m\u001b[0;34m=\u001b[0m\u001b[0;34m'random_forest'\u001b[0m\u001b[0;34m,\u001b[0m \u001b[0mbootstrapping\u001b[0m\u001b[0;34m=\u001b[0m\u001b[0;32mTrue\u001b[0m\u001b[0;34m)\u001b[0m\u001b[0;34m\u001b[0m\u001b[0;34m\u001b[0m\u001b[0m\n\u001b[0m",
      "\u001b[0;32m/labs/gevaertlab/users/yyhhli/code/vae/applications/application.py\u001b[0m in \u001b[0;36mtask_prediction\u001b[0;34m(self, tune_hparams, models, bootstrapping)\u001b[0m\n\u001b[1;32m    147\u001b[0m                                \u001b[0mtune_hparams\u001b[0m\u001b[0;34m=\u001b[0m\u001b[0mtune_hparams\u001b[0m\u001b[0;34m,\u001b[0m\u001b[0;34m\u001b[0m\u001b[0;34m\u001b[0m\u001b[0m\n\u001b[1;32m    148\u001b[0m                                \u001b[0mbootstrapping\u001b[0m\u001b[0;34m=\u001b[0m\u001b[0mbootstrapping\u001b[0m\u001b[0;34m,\u001b[0m\u001b[0;34m\u001b[0m\u001b[0;34m\u001b[0m\u001b[0m\n\u001b[0;32m--> 149\u001b[0;31m                                hparam_dict=self.hparam_dict)\n\u001b[0m\u001b[1;32m    150\u001b[0m         \u001b[0;32mif\u001b[0m \u001b[0mbootstrapping\u001b[0m\u001b[0;34m:\u001b[0m\u001b[0;34m\u001b[0m\u001b[0;34m\u001b[0m\u001b[0m\n\u001b[1;32m    151\u001b[0m             boot_result_dict = JsonDict(save_path=osp.join(self.APP_DIR,\n",
      "\u001b[0;32m/labs/gevaertlab/users/yyhhli/code/vae/applications/models.py\u001b[0m in \u001b[0;36mpredict_task\u001b[0;34m(task, X, Y, models, hparam_dict, results, tune_hparams, bootstrapping, verbose)\u001b[0m\n\u001b[1;32m    401\u001b[0m                                           \u001b[0mtune_hparams\u001b[0m\u001b[0;34m=\u001b[0m\u001b[0mtune_hparams\u001b[0m\u001b[0;34m,\u001b[0m\u001b[0;34m\u001b[0m\u001b[0;34m\u001b[0m\u001b[0m\n\u001b[1;32m    402\u001b[0m                                           \u001b[0mbootstrapping\u001b[0m\u001b[0;34m=\u001b[0m\u001b[0mbootstrapping\u001b[0m\u001b[0;34m,\u001b[0m\u001b[0;34m\u001b[0m\u001b[0;34m\u001b[0m\u001b[0m\n\u001b[0;32m--> 403\u001b[0;31m                                           verbose=verbose)\n\u001b[0m\u001b[1;32m    404\u001b[0m         \u001b[0;32mif\u001b[0m \u001b[0;32mnot\u001b[0m \u001b[0mbootstrapping\u001b[0m\u001b[0;34m:\u001b[0m\u001b[0;34m\u001b[0m\u001b[0;34m\u001b[0m\u001b[0m\n\u001b[1;32m    405\u001b[0m             \u001b[0mresult_dict\u001b[0m\u001b[0;34m[\u001b[0m\u001b[0mmodel_name\u001b[0m\u001b[0;34m]\u001b[0m\u001b[0;34m,\u001b[0m\u001b[0;31m \u001b[0m\u001b[0;31m\\\u001b[0m\u001b[0;34m\u001b[0m\u001b[0;34m\u001b[0m\u001b[0m\n",
      "\u001b[0;32m/labs/gevaertlab/users/yyhhli/code/vae/applications/models.py\u001b[0m in \u001b[0;36mpredict_with_model\u001b[0;34m(task_type, X, Y, inverse_transform, model_name, hparam_dict, tune_hparams, bootstrapping, verbose)\u001b[0m\n\u001b[1;32m    339\u001b[0m                                                   \u001b[0mmodel_param_dict\u001b[0m\u001b[0;34m=\u001b[0m\u001b[0mmodel_meta\u001b[0m\u001b[0;34m[\u001b[0m\u001b[0;34m'params'\u001b[0m\u001b[0;34m]\u001b[0m\u001b[0;34m,\u001b[0m\u001b[0;34m\u001b[0m\u001b[0;34m\u001b[0m\u001b[0m\n\u001b[1;32m    340\u001b[0m                                                   \u001b[0mX\u001b[0m\u001b[0;34m=\u001b[0m\u001b[0mX\u001b[0m\u001b[0;34m[\u001b[0m\u001b[0;34m'train'\u001b[0m\u001b[0;34m]\u001b[0m\u001b[0;34m,\u001b[0m\u001b[0;34m\u001b[0m\u001b[0;34m\u001b[0m\u001b[0m\n\u001b[0;32m--> 341\u001b[0;31m                                                   Y=Y['train'])\n\u001b[0m\u001b[1;32m    342\u001b[0m \u001b[0;34m\u001b[0m\u001b[0m\n\u001b[1;32m    343\u001b[0m     model = model_pipeline(model_base=model_meta['basemodel'],\n",
      "\u001b[0;32m/labs/gevaertlab/users/yyhhli/code/vae/applications/models.py\u001b[0m in \u001b[0;36mcv_tuning_model\u001b[0;34m(model, model_param_dict, X, Y)\u001b[0m\n\u001b[1;32m    197\u001b[0m                         \u001b[0mparams\u001b[0m\u001b[0;34m=\u001b[0m\u001b[0mmodel_param_dict\u001b[0m\u001b[0;34m,\u001b[0m\u001b[0;34m\u001b[0m\u001b[0;34m\u001b[0m\u001b[0m\n\u001b[1;32m    198\u001b[0m                         \u001b[0mX\u001b[0m\u001b[0;34m=\u001b[0m\u001b[0mX\u001b[0m\u001b[0;34m,\u001b[0m\u001b[0;34m\u001b[0m\u001b[0;34m\u001b[0m\u001b[0m\n\u001b[0;32m--> 199\u001b[0;31m                         Y=Y,)\n\u001b[0m\u001b[1;32m    200\u001b[0m \u001b[0;34m\u001b[0m\u001b[0m\n\u001b[1;32m    201\u001b[0m     \u001b[0mbest_params\u001b[0m \u001b[0;34m=\u001b[0m \u001b[0mclf\u001b[0m\u001b[0;34m.\u001b[0m\u001b[0mbest_params_\u001b[0m\u001b[0;34m\u001b[0m\u001b[0;34m\u001b[0m\u001b[0m\n",
      "\u001b[0;32m/labs/gevaertlab/users/yyhhli/code/vae/applications/models.py\u001b[0m in \u001b[0;36mgrid_cv_model\u001b[0;34m(model, params, X, Y, scoring, verbose, cv_params)\u001b[0m\n\u001b[1;32m    159\u001b[0m                        \u001b[0mscoring\u001b[0m\u001b[0;34m=\u001b[0m\u001b[0mscoring\u001b[0m\u001b[0;34m,\u001b[0m\u001b[0;34m\u001b[0m\u001b[0;34m\u001b[0m\u001b[0m\n\u001b[1;32m    160\u001b[0m                        verbose=int(verbose)*2)  # verbose = 2 (a little more information) or 0\n\u001b[0;32m--> 161\u001b[0;31m     \u001b[0mclf\u001b[0m\u001b[0;34m.\u001b[0m\u001b[0mfit\u001b[0m\u001b[0;34m(\u001b[0m\u001b[0mX\u001b[0m\u001b[0;34m[\u001b[0m\u001b[0;34m'train'\u001b[0m\u001b[0;34m]\u001b[0m\u001b[0;34m,\u001b[0m \u001b[0mY\u001b[0m\u001b[0;34m[\u001b[0m\u001b[0;34m'train'\u001b[0m\u001b[0;34m]\u001b[0m\u001b[0;34m)\u001b[0m\u001b[0;34m\u001b[0m\u001b[0;34m\u001b[0m\u001b[0m\n\u001b[0m\u001b[1;32m    162\u001b[0m     \u001b[0mLOGGER\u001b[0m\u001b[0;34m.\u001b[0m\u001b[0minfo\u001b[0m\u001b[0;34m(\u001b[0m\u001b[0;34mf\"best parameters: {clf.best_params_}\"\u001b[0m\u001b[0;34m)\u001b[0m\u001b[0;34m\u001b[0m\u001b[0;34m\u001b[0m\u001b[0m\n\u001b[1;32m    163\u001b[0m     \u001b[0;32mreturn\u001b[0m \u001b[0mclf\u001b[0m\u001b[0;34m\u001b[0m\u001b[0;34m\u001b[0m\u001b[0m\n",
      "\u001b[0;31mIndexError\u001b[0m: only integers, slices (`:`), ellipsis (`...`), numpy.newaxis (`None`) and integer or boolean arrays are valid indices"
     ]
    }
   ],
   "source": [
    "task = \"StfAJCC\"\n",
    "version = 49\n",
    "print(\n",
    "            f\"======= Predicting {task} with model version {version} =======\")\n",
    "app = Application(log_name='VAE3D32AUG',\n",
    "                    version=version,\n",
    "                    task_name=task,\n",
    "                    task_kwds={\"task_type\": \"classification\"},\n",
    "                    base_model_name='VAE3D',\n",
    "                    dataloaders={'train': stfrg_train_patch_dataloader,\n",
    "                                'val': stfrg_test_patch_dataloader})\n",
    "\n",
    "result_dict, hparam_dict = app.task_prediction(tune_hparams=True, models='random_forest', bootstrapping=True)\n"
   ]
  }
 ],
 "metadata": {
  "interpreter": {
   "hash": "21c857bfaea304fb46543346e36a53a586262518187fe5c78885c0f9b3f70be2"
  },
  "kernelspec": {
   "display_name": "Python 3.6.12 ('lungvae')",
   "language": "python",
   "name": "python3"
  },
  "language_info": {
   "codemirror_mode": {
    "name": "ipython",
    "version": 3
   },
   "file_extension": ".py",
   "mimetype": "text/x-python",
   "name": "python",
   "nbconvert_exporter": "python",
   "pygments_lexer": "ipython3",
   "version": "3.6.12"
  },
  "orig_nbformat": 4
 },
 "nbformat": 4,
 "nbformat_minor": 2
}
