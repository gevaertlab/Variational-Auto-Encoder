{
 "cells": [
  {
   "cell_type": "markdown",
   "metadata": {},
   "source": [
    "## evaluation of STF downstream tasks"
   ]
  },
  {
   "cell_type": "code",
   "execution_count": null,
   "metadata": {},
   "outputs": [],
   "source": [
    "## evaluation of STF downstream tasks\n"
   ]
  },
  {
   "cell_type": "code",
   "execution_count": 1,
   "metadata": {},
   "outputs": [],
   "source": [
    "import sys\n",
    "import os\n",
    "import os.path as osp\n",
    "\n",
    "sys.path.insert(1, osp.dirname(os.getcwd()))\n",
    "\n",
    "from datasets import PATCH_DATASETS\n",
    "from datasets.utils import sitk2tensor\n",
    "from applications.application import Application\n",
    "from torch.utils.data.dataloader import DataLoader\n"
   ]
  },
  {
   "cell_type": "code",
   "execution_count": null,
   "metadata": {},
   "outputs": [],
   "source": [
    "\n",
    "stfrg_train_patch = PATCH_DATASETS[\"StanfordRadiogenomicsPatchDataset\"](root_dir=None,\n",
    "                                                                        transform=sitk2tensor,\n",
    "                                                                        split='train')\n",
    "stfrg_train_patch_dataloader = DataLoader(dataset=stfrg_train_patch,\n",
    "                                            batch_size=1,\n",
    "                                            shuffle=False,\n",
    "                                            drop_last=False,\n",
    "                                            num_workers=4,\n",
    "                                            pin_memory=True)\n",
    "stfrg_test_patch = PATCH_DATASETS[\"StanfordRadiogenomicsPatchDataset\"](root_dir=None,\n",
    "                                                                        transform=sitk2tensor,\n",
    "                                                                        split='test')\n",
    "stfrg_test_patch_dataloader = DataLoader(dataset=stfrg_test_patch,\n",
    "                                            batch_size=1,\n",
    "                                            shuffle=False,\n",
    "                                            drop_last=False,\n",
    "                                            num_workers=4,\n",
    "                                            pin_memory=True)\n",
    "\n",
    "app = Application(log_name='VAE3D32AUG',\n",
    "                    version=18,\n",
    "                    task_name='StfRG',\n",
    "                    task_kwds={'name': 'EGFR mutation status',\n",
    "                                \"task_type\": \"classification\"},\n",
    "                    base_model_name='VAE3D',\n",
    "                    dataloaders={'train': stfrg_train_patch_dataloader,\n",
    "                                'val': stfrg_test_patch_dataloader})\n",
    "\n",
    "result_dict, pred_dict, pred_stats, hparam_dict = app.task_prediction(\n",
    "    tune_hparams=True, models='all')"
   ]
  },
  {
   "cell_type": "code",
   "execution_count": 2,
   "metadata": {},
   "outputs": [
    {
     "name": "stderr",
     "output_type": "stream",
     "text": [
      "[02-03 14:17:18 | patch_stanfordradiogenomics:StanfordRadiogenomicsPatchAugDataset] patient split: train:100, test:43\n",
      "[02-03 14:17:18 | patch_stanfordradiogenomics:StanfordRadiogenomicsPatchDataset] patient split: train:100, test:43\n",
      "[02-03 14:17:19 | export:  Exporter] initializing embeddings\n",
      "[02-03 14:17:20 | embedding:EmbeddingPredictor] Predicting embeddings for 600 images\n",
      "100%|██████████| 600/600 [00:25<00:00, 23.77it/s]\n",
      "[02-03 14:17:45 | embedding: Embedding] saving embedding ...\n",
      "[02-03 14:17:46 | embedding: Embedding] 600 embeddings saved to /labs/gevaertlab/users/yyhhli/code/vae/applications/logs/VAE3D32AUG.49/StanfordRadiogenomicsPatchAugDataset_embedding_train.json\n",
      "[02-03 14:17:46 | embedding:EmbeddingPredictor] Predicting embeddings for 43 images\n",
      "100%|██████████| 43/43 [00:02<00:00, 17.92it/s]\n",
      "[02-03 14:17:49 | embedding: Embedding] saving embedding ...\n",
      "[02-03 14:17:49 | embedding: Embedding] 43 embeddings saved to /labs/gevaertlab/users/yyhhli/code/vae/applications/logs/VAE3D32AUG.49/StanfordRadiogenomicsPatchDataset_embedding_val.json\n",
      "[02-03 14:17:49 | embedding: Embedding] saving embedding ...\n",
      "[02-03 14:17:50 | embedding: Embedding] 600 embeddings saved to /labs/gevaertlab/users/yyhhli/code/vae/applications/logs/VAE3D32AUG.49/StanfordRadiogenomicsPatchAugDataset_embedding_train.json\n",
      "[02-03 14:17:50 | embedding: Embedding] saving embedding ...\n",
      "[02-03 14:17:50 | embedding: Embedding] 43 embeddings saved to /labs/gevaertlab/users/yyhhli/code/vae/applications/logs/VAE3D32AUG.49/StanfordRadiogenomicsPatchDataset_embedding_val.json\n",
      "[02-03 14:17:50 | embedding: Embedding] saving embedding ...\n",
      "[02-03 14:17:50 | embedding: Embedding] 43 embeddings saved to /labs/gevaertlab/users/yyhhli/code/vae/applications/logs/VAE3D32AUG.49/StanfordRadiogenomicsPatchDataset_embedding_val.json\n",
      "100%|██████████| 100/100 [00:00<00:00, 125803.96it/s]\n",
      "100%|██████████| 43/43 [00:00<00:00, 66822.92it/s]\n",
      "[02-03 14:17:51 | application:Application] -----prediction for task StfTStage-----\n",
      "[02-03 14:17:51 | application:Application] New task, no hparams file loaded\n"
     ]
    },
    {
     "name": "stdout",
     "output_type": "stream",
     "text": [
      " | 32.0 secs.\n",
      "start matching 100 labels ...\n",
      "matching labels | 0.0 secs.\n",
      "saved to /labs/gevaertlab/users/yyhhli/code/vae/applications/logs/labels/Y_matched_Pathological T stage.npy\n",
      "start matching 43 labels ...\n",
      "matching labels | 0.0 secs.\n",
      "saved to /labs/gevaertlab/users/yyhhli/code/vae/applications/logs/labels/Y_matched_Pathological T stage.npy\n",
      "initializing | 32.0 secs.\n",
      "======logistic_regression======\n"
     ]
    },
    {
     "ename": "TypeError",
     "evalue": "only integer scalar arrays can be converted to a scalar index",
     "output_type": "error",
     "traceback": [
      "\u001b[0;31m---------------------------------------------------------------------------\u001b[0m",
      "\u001b[0;31mTypeError\u001b[0m                                 Traceback (most recent call last)",
      "\u001b[0;32m<ipython-input-2-260967aaaad6>\u001b[0m in \u001b[0;36m<module>\u001b[0;34m\u001b[0m\n\u001b[1;32m     28\u001b[0m \u001b[0;34m\u001b[0m\u001b[0m\n\u001b[1;32m     29\u001b[0m result_dict, pred_dict, pred_stats, hparam_dict = app.task_prediction(\n\u001b[0;32m---> 30\u001b[0;31m     tune_hparams=True, models='all')\n\u001b[0m",
      "\u001b[0;32m/labs/gevaertlab/users/yyhhli/code/vae/applications/application.py\u001b[0m in \u001b[0;36mtask_prediction\u001b[0;34m(self, tune_hparams, models)\u001b[0m\n\u001b[1;32m    146\u001b[0m                                \u001b[0mresults\u001b[0m\u001b[0;34m=\u001b[0m\u001b[0mresults\u001b[0m\u001b[0;34m,\u001b[0m\u001b[0;34m\u001b[0m\u001b[0;34m\u001b[0m\u001b[0m\n\u001b[1;32m    147\u001b[0m                                \u001b[0mtune_hparams\u001b[0m\u001b[0;34m=\u001b[0m\u001b[0mtune_hparams\u001b[0m\u001b[0;34m,\u001b[0m\u001b[0;34m\u001b[0m\u001b[0;34m\u001b[0m\u001b[0m\n\u001b[0;32m--> 148\u001b[0;31m                                hparam_dict=self.hparam_dict)\n\u001b[0m\u001b[1;32m    149\u001b[0m         \u001b[0mresult_dict\u001b[0m\u001b[0;34m,\u001b[0m \u001b[0mpred_dict\u001b[0m\u001b[0;34m,\u001b[0m \u001b[0mpred_stats\u001b[0m\u001b[0;34m,\u001b[0m \u001b[0mhparam_dict\u001b[0m \u001b[0;34m=\u001b[0m \u001b[0mresults\u001b[0m\u001b[0;34m\u001b[0m\u001b[0;34m\u001b[0m\u001b[0m\n\u001b[1;32m    150\u001b[0m         \u001b[0;32mreturn\u001b[0m \u001b[0mresult_dict\u001b[0m\u001b[0;34m,\u001b[0m \u001b[0mpred_dict\u001b[0m\u001b[0;34m,\u001b[0m \u001b[0mpred_stats\u001b[0m\u001b[0;34m,\u001b[0m \u001b[0mhparam_dict\u001b[0m\u001b[0;34m\u001b[0m\u001b[0;34m\u001b[0m\u001b[0m\n",
      "\u001b[0;32m/labs/gevaertlab/users/yyhhli/code/vae/applications/models.py\u001b[0m in \u001b[0;36mpredict_task\u001b[0;34m(task, X, Y, models, hparam_dict, results, tune_hparams, verbose)\u001b[0m\n\u001b[1;32m    311\u001b[0m                                           \u001b[0mhparam_dict\u001b[0m\u001b[0;34m=\u001b[0m\u001b[0mhparam_dict\u001b[0m\u001b[0;34m,\u001b[0m\u001b[0;34m\u001b[0m\u001b[0;34m\u001b[0m\u001b[0m\n\u001b[1;32m    312\u001b[0m                                           \u001b[0mtune_hparams\u001b[0m\u001b[0;34m=\u001b[0m\u001b[0mtune_hparams\u001b[0m\u001b[0;34m,\u001b[0m\u001b[0;34m\u001b[0m\u001b[0;34m\u001b[0m\u001b[0m\n\u001b[0;32m--> 313\u001b[0;31m                                           verbose=verbose)\n\u001b[0m\u001b[1;32m    314\u001b[0m         \u001b[0;32mif\u001b[0m \u001b[0mtask\u001b[0m\u001b[0;34m.\u001b[0m\u001b[0mtask_type\u001b[0m \u001b[0;34m==\u001b[0m \u001b[0;34m\"classification\"\u001b[0m\u001b[0;34m:\u001b[0m\u001b[0;34m\u001b[0m\u001b[0;34m\u001b[0m\u001b[0m\n\u001b[1;32m    315\u001b[0m             \u001b[0mresult_dict\u001b[0m\u001b[0;34m[\u001b[0m\u001b[0mmodel_name\u001b[0m\u001b[0;34m]\u001b[0m\u001b[0;34m,\u001b[0m\u001b[0;31m \u001b[0m\u001b[0;31m\\\u001b[0m\u001b[0;34m\u001b[0m\u001b[0;34m\u001b[0m\u001b[0m\n",
      "\u001b[0;32m/labs/gevaertlab/users/yyhhli/code/vae/applications/models.py\u001b[0m in \u001b[0;36mpredict_with_model\u001b[0;34m(task, X, Y, model_name, hparam_dict, tune_hparams, verbose)\u001b[0m\n\u001b[1;32m    209\u001b[0m     \u001b[0;32massert\u001b[0m \u001b[0mtask\u001b[0m\u001b[0;34m.\u001b[0m\u001b[0mtask_type\u001b[0m \u001b[0;32min\u001b[0m \u001b[0;34m[\u001b[0m\u001b[0;34m'classification'\u001b[0m\u001b[0;34m,\u001b[0m \u001b[0;34m'regression'\u001b[0m\u001b[0;34m]\u001b[0m\u001b[0;34m\u001b[0m\u001b[0;34m\u001b[0m\u001b[0m\n\u001b[1;32m    210\u001b[0m \u001b[0;34m\u001b[0m\u001b[0m\n\u001b[0;32m--> 211\u001b[0;31m     \u001b[0mx_trans\u001b[0m\u001b[0;34m,\u001b[0m \u001b[0my_trans\u001b[0m \u001b[0;34m=\u001b[0m \u001b[0mtask\u001b[0m\u001b[0;34m.\u001b[0m\u001b[0mtransform\u001b[0m\u001b[0;34m(\u001b[0m\u001b[0mX\u001b[0m\u001b[0;34m,\u001b[0m \u001b[0mY\u001b[0m\u001b[0;34m)\u001b[0m\u001b[0;34m\u001b[0m\u001b[0;34m\u001b[0m\u001b[0m\n\u001b[0m\u001b[1;32m    212\u001b[0m \u001b[0;34m\u001b[0m\u001b[0m\n\u001b[1;32m    213\u001b[0m     \u001b[0;31m# 1. hparams, either load or search or skip\u001b[0m\u001b[0;34m\u001b[0m\u001b[0;34m\u001b[0m\u001b[0;34m\u001b[0m\u001b[0m\n",
      "\u001b[0;32m/labs/gevaertlab/users/yyhhli/code/vae/applications/tasks/stanfordradiogenomics_tasks.py\u001b[0m in \u001b[0;36mtransform\u001b[0;34m(self, X, Y)\u001b[0m\n\u001b[1;32m     16\u001b[0m         \u001b[0;31m# do nothing to X, and remove nan values in Y\u001b[0m\u001b[0;34m\u001b[0m\u001b[0;34m\u001b[0m\u001b[0;34m\u001b[0m\u001b[0m\n\u001b[1;32m     17\u001b[0m         \u001b[0mifnan\u001b[0m \u001b[0;34m=\u001b[0m \u001b[0mnp\u001b[0m\u001b[0;34m.\u001b[0m\u001b[0marray\u001b[0m\u001b[0;34m(\u001b[0m\u001b[0;34m[\u001b[0m\u001b[0mself\u001b[0m\u001b[0;34m.\u001b[0m\u001b[0mcheck_nan\u001b[0m\u001b[0;34m(\u001b[0m\u001b[0mi\u001b[0m\u001b[0;34m)\u001b[0m \u001b[0;32mfor\u001b[0m \u001b[0mi\u001b[0m \u001b[0;32min\u001b[0m \u001b[0mY\u001b[0m\u001b[0;34m[\u001b[0m\u001b[0;34m'train'\u001b[0m\u001b[0;34m]\u001b[0m\u001b[0;34m]\u001b[0m\u001b[0;34m)\u001b[0m\u001b[0;34m\u001b[0m\u001b[0;34m\u001b[0m\u001b[0m\n\u001b[0;32m---> 18\u001b[0;31m         \u001b[0mX\u001b[0m\u001b[0;34m[\u001b[0m\u001b[0;34m'train'\u001b[0m\u001b[0;34m]\u001b[0m \u001b[0;34m=\u001b[0m \u001b[0mX\u001b[0m\u001b[0;34m[\u001b[0m\u001b[0;34m'train'\u001b[0m\u001b[0;34m]\u001b[0m\u001b[0;34m[\u001b[0m\u001b[0;34m~\u001b[0m\u001b[0mifnan\u001b[0m\u001b[0;34m]\u001b[0m\u001b[0;34m\u001b[0m\u001b[0;34m\u001b[0m\u001b[0m\n\u001b[0m\u001b[1;32m     19\u001b[0m         \u001b[0mY\u001b[0m\u001b[0;34m[\u001b[0m\u001b[0;34m'train'\u001b[0m\u001b[0;34m]\u001b[0m \u001b[0;34m=\u001b[0m \u001b[0mnp\u001b[0m\u001b[0;34m.\u001b[0m\u001b[0marray\u001b[0m\u001b[0;34m(\u001b[0m\u001b[0mY\u001b[0m\u001b[0;34m[\u001b[0m\u001b[0;34m'train'\u001b[0m\u001b[0;34m]\u001b[0m\u001b[0;34m)\u001b[0m\u001b[0;34m[\u001b[0m\u001b[0;34m~\u001b[0m\u001b[0mifnan\u001b[0m\u001b[0;34m]\u001b[0m\u001b[0;34m\u001b[0m\u001b[0;34m\u001b[0m\u001b[0m\n\u001b[1;32m     20\u001b[0m \u001b[0;34m\u001b[0m\u001b[0m\n",
      "\u001b[0;31mTypeError\u001b[0m: only integer scalar arrays can be converted to a scalar index"
     ]
    }
   ],
   "source": [
    "\n",
    "stfrg_train_patch = PATCH_DATASETS[\"StanfordRadiogenomicsPatchAugDataset\"](root_dir=None,\n",
    "                                                                            transform=sitk2tensor,\n",
    "                                                                            split='train')\n",
    "stfrg_train_patch_dataloader = DataLoader(dataset=stfrg_train_patch,\n",
    "                                            batch_size=1,\n",
    "                                            shuffle=False,\n",
    "                                            drop_last=False,\n",
    "                                            num_workers=4,\n",
    "                                            pin_memory=True)\n",
    "stfrg_test_patch = PATCH_DATASETS[\"StanfordRadiogenomicsPatchDataset\"](root_dir=None,\n",
    "                                                                        transform=sitk2tensor,\n",
    "                                                                        split='test')\n",
    "stfrg_test_patch_dataloader = DataLoader(dataset=stfrg_test_patch,\n",
    "                                            batch_size=1,\n",
    "                                            shuffle=False,\n",
    "                                            drop_last=False,\n",
    "                                            num_workers=4,\n",
    "                                            pin_memory=True)\n",
    "\n",
    "for task in [\"StfNStage\", \"StfAJCC\", \"StfHisGrade\"]:\n",
    "    for version in [51, 58, 49, 53, 57, 59]:\n",
    "        app = Application(log_name='VAE3D32AUG',\n",
    "                            version=version,\n",
    "                            task_name=task,\n",
    "                            task_kwds={\"task_type\": \"classification\"},\n",
    "                            base_model_name='VAE3D',\n",
    "                            dataloaders={'train': stfrg_train_patch_dataloader,\n",
    "                                        'val': stfrg_test_patch_dataloader})\n",
    "\n",
    "        result_dict, pred_dict, pred_stats, hparam_dict = app.task_prediction(\n",
    "            tune_hparams=True, models='all')"
   ]
  }
 ],
 "metadata": {
  "interpreter": {
   "hash": "21c857bfaea304fb46543346e36a53a586262518187fe5c78885c0f9b3f70be2"
  },
  "kernelspec": {
   "display_name": "Python 3.6.12 64-bit ('lungvae': conda)",
   "language": "python",
   "name": "python3"
  },
  "language_info": {
   "codemirror_mode": {
    "name": "ipython",
    "version": 3
   },
   "file_extension": ".py",
   "mimetype": "text/x-python",
   "name": "python",
   "nbconvert_exporter": "python",
   "pygments_lexer": "ipython3",
   "version": "3.6.12"
  },
  "orig_nbformat": 4
 },
 "nbformat": 4,
 "nbformat_minor": 2
}
