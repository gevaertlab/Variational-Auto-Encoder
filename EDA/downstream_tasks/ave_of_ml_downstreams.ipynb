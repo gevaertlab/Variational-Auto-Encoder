{
 "cells": [
  {
   "cell_type": "code",
   "execution_count": 2,
   "metadata": {},
   "outputs": [],
   "source": [
    "import os\n",
    "import os.path as osp\n",
    "import numpy as np\n",
    "import pandas as pd\n",
    "import json"
   ]
  },
  {
   "cell_type": "code",
   "execution_count": 3,
   "metadata": {},
   "outputs": [],
   "source": [
    "result_root = \"/labs/gevaertlab/users/yyhhli/code/vae/applications/results\""
   ]
  },
  {
   "cell_type": "code",
   "execution_count": 3,
   "metadata": {},
   "outputs": [
    {
     "data": {
      "text/plain": [
       "True"
      ]
     },
     "execution_count": 3,
     "metadata": {},
     "output_type": "execute_result"
    }
   ],
   "source": [
    "osp.exists(result_root)"
   ]
  },
  {
   "cell_type": "code",
   "execution_count": 4,
   "metadata": {},
   "outputs": [],
   "source": [
    "version_dir = \"VAE3D32AUG_\""
   ]
  },
  {
   "cell_type": "code",
   "execution_count": 5,
   "metadata": {},
   "outputs": [],
   "source": [
    "label_names = [\"StfAJCC\", \"StfEGFRMutation\", \"StfLymphInvation\", \"StfNStage\", \"StfTStage\"]"
   ]
  },
  {
   "cell_type": "code",
   "execution_count": 6,
   "metadata": {},
   "outputs": [],
   "source": [
    "def load_json(file_path):\n",
    "    with open(file_path) as f:\n",
    "        data = json.load(f)\n",
    "    return data\n"
   ]
  },
  {
   "cell_type": "code",
   "execution_count": 7,
   "metadata": {},
   "outputs": [],
   "source": [
    "data = load_json(osp.join(result_root, version_dir+\"49\", label_names[0]+\".result_dict.json\"))\n"
   ]
  },
  {
   "cell_type": "code",
   "execution_count": 13,
   "metadata": {},
   "outputs": [
    {
     "data": {
      "text/plain": [
       "{'__dict': {},\n",
       " 'logistic_regression': {'Accuracy': 0.6666666666666666,\n",
       "  'F1': 0.6666666666666666,\n",
       "  'Precision': 0.6666666666666666,\n",
       "  'Recall': 0.6666666666666666,\n",
       "  'AUROC': 0.583554376657825},\n",
       " 'k_nearest_neighbors': {'Accuracy': 0.7142857142857143,\n",
       "  'F1': 0.6681096681096681,\n",
       "  'Precision': 0.6895752895752896,\n",
       "  'Recall': 0.7142857142857143,\n",
       "  'AUROC': 0.5596816976127321},\n",
       " 'svc': {'Accuracy': 0.6666666666666666,\n",
       "  'F1': 0.5870098039215685,\n",
       "  'Precision': 0.5811965811965811,\n",
       "  'Recall': 0.6666666666666666,\n",
       "  'AUROC': 0.5676392572944298},\n",
       " 'random_forest': {'Accuracy': 0.6666666666666666,\n",
       "  'F1': 0.6127946127946129,\n",
       "  'Precision': 0.609009009009009,\n",
       "  'Recall': 0.6666666666666666,\n",
       "  'AUROC': 0.6750663129973475},\n",
       " 'mlp': {'Accuracy': 0.6904761904761905,\n",
       "  'F1': 0.6869087974172721,\n",
       "  'Precision': 0.6841269841269841,\n",
       "  'Recall': 0.6904761904761905,\n",
       "  'AUROC': 0.6472148541114058}}"
      ]
     },
     "execution_count": 13,
     "metadata": {},
     "output_type": "execute_result"
    }
   ],
   "source": [
    "data"
   ]
  },
  {
   "cell_type": "code",
   "execution_count": 8,
   "metadata": {},
   "outputs": [],
   "source": [
    "def summarize_metrics(result_dict, metric_list = [\"Accuracy\", \"F1\", \"Precision\", \"Recall\", \"AUROC\"]):\n",
    "    metrics = {m: [] for m in metric_list}\n",
    "    for k, rdict in result_dict.items():\n",
    "        if k != \"__dict\":\n",
    "            for m, v in rdict.items():\n",
    "                metrics[m].append(v)\n",
    "    return metrics\n"
   ]
  },
  {
   "cell_type": "code",
   "execution_count": 9,
   "metadata": {},
   "outputs": [],
   "source": [
    "sdata = summarize_metrics(data)"
   ]
  },
  {
   "cell_type": "code",
   "execution_count": 10,
   "metadata": {},
   "outputs": [
    {
     "data": {
      "text/plain": [
       "{'Accuracy': [0.6666666666666666,\n",
       "  0.7142857142857143,\n",
       "  0.6666666666666666,\n",
       "  0.6666666666666666,\n",
       "  0.6904761904761905],\n",
       " 'F1': [0.6666666666666666,\n",
       "  0.6681096681096681,\n",
       "  0.5870098039215685,\n",
       "  0.6127946127946129,\n",
       "  0.6869087974172721],\n",
       " 'Precision': [0.6666666666666666,\n",
       "  0.6895752895752896,\n",
       "  0.5811965811965811,\n",
       "  0.609009009009009,\n",
       "  0.6841269841269841],\n",
       " 'Recall': [0.6666666666666666,\n",
       "  0.7142857142857143,\n",
       "  0.6666666666666666,\n",
       "  0.6666666666666666,\n",
       "  0.6904761904761905],\n",
       " 'AUROC': [0.583554376657825,\n",
       "  0.5596816976127321,\n",
       "  0.5676392572944298,\n",
       "  0.6750663129973475,\n",
       "  0.6472148541114058]}"
      ]
     },
     "execution_count": 10,
     "metadata": {},
     "output_type": "execute_result"
    }
   ],
   "source": [
    "sdata"
   ]
  },
  {
   "cell_type": "code",
   "execution_count": 11,
   "metadata": {},
   "outputs": [],
   "source": [
    "# make a dataframe of this\n",
    "# model -> average of all metrics make table\n",
    "# diff table for diff tasks\n",
    "label_names = [\"StfAJCC\", \"StfEGFRMutation\", \"StfLymphInvasion\", \"StfNStage\", \"StfTStage\"]\n",
    "model_version_list = [49, 51, 53, 57, 58, 59, 60]\n",
    "metric_list = [\"Accuracy\", \"F1\", \"Precision\", \"Recall\", \"AUROC\"]\n",
    "for label in label_names:\n",
    "    result = {}\n",
    "    for ver in model_version_list:\n",
    "        data = load_json(osp.join(result_root, version_dir+str(ver), label+\".result_dict.json\"))\n",
    "        sdata = summarize_metrics(data)\n",
    "        result[\"version_\"+str(ver)] = [np.mean(sdata[n]) for n in sdata.keys()]\n",
    "    df = pd.DataFrame(result)\n",
    "    df.to_csv(f\"{label}.csv\", index=False)"
   ]
  },
  {
   "cell_type": "code",
   "execution_count": 12,
   "metadata": {},
   "outputs": [
    {
     "data": {
      "text/plain": [
       "',version_49,version_51,version_53,version_57,version_58,version_59,version_60\\n0,0.6048780487804878,0.6195121951219512,0.5302325581395348,0.5,0.6146341463414634,0.5190476190476191,0.4975609756097561\\n1,0.5942918818180143,0.6095990745877302,0.5192095535349783,0.4662200478320629,0.6122149985871472,0.5158504702852811,0.4964341717531555\\n2,0.6174170860756227,0.658317289150121,0.5630266697868943,0.7063888353362038,0.6501614008026912,0.5293534060849985,0.5108306795522684\\n3,0.6048780487804878,0.6195121951219512,0.5302325581395348,0.5,0.6146341463414634,0.5190476190476191,0.4975609756097561\\n4,0.6253588516746411,0.705023923444976,0.49342105263157904,0.6443877551020408,0.6448529411764705,0.5306636155606407,0.5096618357487923\\n'"
      ]
     },
     "execution_count": 12,
     "metadata": {},
     "output_type": "execute_result"
    }
   ],
   "source": [
    "df.to_csv()"
   ]
  },
  {
   "cell_type": "markdown",
   "metadata": {},
   "source": [
    "### VISUALIZATION of downstream task results"
   ]
  },
  {
   "cell_type": "code",
   "execution_count": 13,
   "metadata": {},
   "outputs": [],
   "source": [
    "import os\n",
    "import os.path as osp\n",
    "import numpy as np\n",
    "import pandas as pd\n",
    "import json\n",
    "import matplotlib.pyplot as plt\n",
    "\n",
    "result_root = \"/labs/gevaertlab/users/yyhhli/code/vae/applications/results\"\n",
    "version_dir1 = \"VAE3D32AUG_\"\n",
    "label_names = [\"StfAJCC\", \"StfEGFRMutation\", \"StfLymphInvation\", \"StfNStage\", \"StfTStage\"]"
   ]
  },
  {
   "cell_type": "code",
   "execution_count": 14,
   "metadata": {},
   "outputs": [],
   "source": [
    "def load_json(file_path):\n",
    "    with open(file_path) as f:\n",
    "        data = json.load(f)\n",
    "    return data"
   ]
  },
  {
   "cell_type": "code",
   "execution_count": 15,
   "metadata": {},
   "outputs": [],
   "source": [
    "# graph = models \n",
    "def summarize_metrics(metric = \"AUROC\", task=\"StfAJCC\", model=\"random_forest\",\n",
    "                      versions=[\"VAE3D32AUG_60\", \"VAE3D32AUG_49\", \"VAE3D32AUG_51\", \"VAE3D32AUG_53\"]):\n",
    "    result_root = \"/labs/gevaertlab/users/yyhhli/code/vae/applications/results\"\n",
    "    result_dict = {}\n",
    "    for ver in versions:\n",
    "        data = load_json(osp.join(result_root, ver, task+\".result_dict_bootstrapping.json\"))\n",
    "        result_dict[ver] = data[model][metric]\n",
    "    return result_dict\n",
    "\n"
   ]
  },
  {
   "cell_type": "code",
   "execution_count": 16,
   "metadata": {},
   "outputs": [],
   "source": [
    "result_dict = summarize_metrics()"
   ]
  },
  {
   "cell_type": "code",
   "execution_count": 17,
   "metadata": {},
   "outputs": [
    {
     "data": {
      "text/plain": [
       "{'VAE3D32AUG_60': [0.6100478468899522,\n",
       "  0.5933014354066986,\n",
       "  0.6794258373205742,\n",
       "  0.6531100478468899,\n",
       "  0.6626794258373205,\n",
       "  0.6555023923444977,\n",
       "  0.5956937799043062,\n",
       "  0.7033492822966507,\n",
       "  0.6961722488038278,\n",
       "  0.7272727272727273],\n",
       " 'VAE3D32AUG_49': [0.4827586206896552,\n",
       "  0.596816976127321,\n",
       "  0.5676392572944298,\n",
       "  0.40318302387267907,\n",
       "  0.3687002652519894,\n",
       "  0.5251989389920424,\n",
       "  0.43766578249336874,\n",
       "  0.5278514588859418,\n",
       "  0.559681697612732,\n",
       "  0.596816976127321],\n",
       " 'VAE3D32AUG_51': [0.7025862068965518,\n",
       "  0.7370689655172413,\n",
       "  0.742816091954023,\n",
       "  0.7931034482758621,\n",
       "  0.7198275862068965,\n",
       "  0.6379310344827587,\n",
       "  0.7255747126436782,\n",
       "  0.7916666666666665,\n",
       "  0.5847701149425287,\n",
       "  0.7341954022988506],\n",
       " 'VAE3D32AUG_53': [0.638095238095238,\n",
       "  0.6154761904761905,\n",
       "  0.6547619047619048,\n",
       "  0.5488095238095239,\n",
       "  0.6130952380952381,\n",
       "  0.569047619047619,\n",
       "  0.6297619047619047,\n",
       "  0.611904761904762,\n",
       "  0.6416666666666667,\n",
       "  0.4916666666666667]}"
      ]
     },
     "execution_count": 17,
     "metadata": {},
     "output_type": "execute_result"
    }
   ],
   "source": [
    "result_dict"
   ]
  },
  {
   "cell_type": "code",
   "execution_count": 28,
   "metadata": {},
   "outputs": [],
   "source": [
    "import seaborn as sns\n",
    "def plot_box(data):\n",
    "    plt.figure(figsize=(8, 5))\n",
    "    ##### Set style options here #####\n",
    "    sns.set_style(\"whitegrid\")  # \"white\",\"dark\",\"darkgrid\",\"ticks\"\n",
    "    boxprops = dict(linestyle='-', linewidth=1.5, color='#00145A')\n",
    "    flierprops = dict(marker='o', markersize=1,\n",
    "                    linestyle='none')\n",
    "    whiskerprops = dict(color='#00145A')\n",
    "    capprops = dict(color='#00145A')\n",
    "    medianprops = dict(linewidth=1.5, linestyle='-', color='#01FBEE')\n",
    "    vals, names, xs = [],[],[]\n",
    "    for i, col in enumerate(data.columns):\n",
    "        vals.append(data[col].values)\n",
    "        names.append(col)\n",
    "        xs.append(np.random.normal(i + 1, 0.04, data[col].values.shape[0]))  \n",
    "    # adds jitter to the data points - can be adjusted\n",
    "    plt.boxplot(data, labels=data.columns, notch=False, \n",
    "                boxprops=boxprops, whiskerprops=whiskerprops,\n",
    "                capprops=capprops, flierprops=flierprops, \n",
    "                medianprops=medianprops,showmeans=False) \n",
    "    palette = ['#FF2709', '#09FF10', '#0030D7', '#FA70B5', \"#80ADBC\", \"#CAB08B\", \"#463333\", \"#797a7e\"]\n",
    "    for x, val, c in zip(xs, vals, palette[:len(vals)]):\n",
    "        plt.scatter(x, val, alpha=0.4, color=c)\n",
    "    plt.show()"
   ]
  },
  {
   "cell_type": "code",
   "execution_count": 29,
   "metadata": {},
   "outputs": [
    {
     "data": {
      "image/png": "[encoded data removed]",
      "text/plain": [
       "<Figure size 576x360 with 1 Axes>"
      ]
     },
     "metadata": {},
     "output_type": "display_data"
    }
   ],
   "source": [
    "plot_box(pd.DataFrame(result_dict))"
   ]
  },
  {
   "cell_type": "code",
   "execution_count": null,
   "metadata": {},
   "outputs": [],
   "source": []
  }
 ],
 "metadata": {
  "interpreter": {
   "hash": "21c857bfaea304fb46543346e36a53a586262518187fe5c78885c0f9b3f70be2"
  },
  "kernelspec": {
   "display_name": "Python 3.6.12 ('lungvae')",
   "language": "python",
   "name": "python3"
  },
  "language_info": {
   "codemirror_mode": {
    "name": "ipython",
    "version": 3
   },
   "file_extension": ".py",
   "mimetype": "text/x-python",
   "name": "python",
   "nbconvert_exporter": "python",
   "pygments_lexer": "ipython3",
   "version": "3.6.12"
  },
  "orig_nbformat": 4
 },
 "nbformat": 4,
 "nbformat_minor": 2
}
