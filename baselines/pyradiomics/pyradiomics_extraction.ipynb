{
 "cells": [
  {
   "cell_type": "code",
   "execution_count": 1,
   "metadata": {},
   "outputs": [],
   "source": [
    "# extract pyradiomics features\n"
   ]
  },
  {
   "cell_type": "code",
   "execution_count": 2,
   "metadata": {},
   "outputs": [
    {
     "name": "stderr",
     "output_type": "stream",
     "text": [
      "/labs/gevaertlab/users/yyhhli/miniconda3/envs/lungvae38/lib/python3.8/site-packages/tqdm/auto.py:22: TqdmWarning: IProgress not found. Please update jupyter and ipywidgets. See https://ipywidgets.readthedocs.io/en/stable/user_install.html\n",
      "  from .autonotebook import tqdm as notebook_tqdm\n"
     ]
    }
   ],
   "source": [
    "import os\n",
    "import os.path as osp\n",
    "import sys\n",
    "\n",
    "sys.path.insert(1, \"/labs/gevaertlab/users/yyhhli/code/vae\")\n",
    "\n",
    "from datasets.ct.ct_stanfordradiogenomics import StanfordRadiogenomicsDataset"
   ]
  },
  {
   "cell_type": "code",
   "execution_count": 3,
   "metadata": {},
   "outputs": [],
   "source": [
    "# export the dataset + mask paths to a csv file\n",
    "import pandas as pd\n",
    "import numpy as np\n",
    "srds_train = StanfordRadiogenomicsDataset(split='train')\n",
    "srds_val = StanfordRadiogenomicsDataset(split='val')"
   ]
  },
  {
   "cell_type": "code",
   "execution_count": 4,
   "metadata": {},
   "outputs": [
    {
     "name": "stdout",
     "output_type": "stream",
     "text": [
      "name            value\n",
      "--------------  ---------------------------------------------------\n",
      "name            StanfordRadiogenomics\n",
      "root_dir        /labs/gevaertlab/data/NSCLC_Radiogenomics/Resampled\n",
      "spacing         [1, 1, 1]\n",
      "transpose_axis  [0, 1, 2]\n",
      "data_dict       length = 143\n"
     ]
    }
   ],
   "source": [
    "print(srds_train._ds_info)"
   ]
  },
  {
   "cell_type": "code",
   "execution_count": 5,
   "metadata": {},
   "outputs": [
    {
     "data": {
      "text/plain": [
       "dict_keys(['R01-001', 'R01-002', 'R01-003', 'R01-004', 'R01-005', 'R01-006', 'R01-007', 'R01-008', 'R01-010', 'R01-011', 'R01-012', 'R01-013', 'R01-014', 'R01-015', 'R01-016', 'R01-017', 'R01-018', 'R01-019', 'R01-020', 'R01-021', 'R01-022', 'R01-023', 'R01-024', 'R01-025', 'R01-026', 'R01-027', 'R01-028', 'R01-029', 'R01-030', 'R01-031', 'R01-032', 'R01-033', 'R01-034', 'R01-035', 'R01-036', 'R01-037', 'R01-038', 'R01-039', 'R01-040', 'R01-041', 'R01-042', 'R01-043', 'R01-044', 'R01-045', 'R01-046', 'R01-047', 'R01-048', 'R01-049', 'R01-050', 'R01-051', 'R01-052', 'R01-053', 'R01-054', 'R01-055', 'R01-056', 'R01-057', 'R01-058', 'R01-060', 'R01-061', 'R01-062', 'R01-063', 'R01-064', 'R01-065', 'R01-066', 'R01-067', 'R01-068', 'R01-069', 'R01-070', 'R01-071', 'R01-072', 'R01-073', 'R01-074', 'R01-075', 'R01-076', 'R01-077', 'R01-078', 'R01-079', 'R01-080', 'R01-081', 'R01-082', 'R01-083', 'R01-084', 'R01-085', 'R01-086', 'R01-087', 'R01-088', 'R01-089', 'R01-090', 'R01-091', 'R01-092', 'R01-093', 'R01-094', 'R01-095', 'R01-096', 'R01-097', 'R01-098', 'R01-099', 'R01-100', 'R01-101', 'R01-102', 'R01-103', 'R01-104', 'R01-105', 'R01-106', 'R01-107', 'R01-108', 'R01-109', 'R01-110', 'R01-111', 'R01-112', 'R01-113', 'R01-114', 'R01-115', 'R01-116', 'R01-117', 'R01-118', 'R01-119', 'R01-120', 'R01-121', 'R01-122', 'R01-123', 'R01-124', 'R01-125', 'R01-126', 'R01-127', 'R01-128', 'R01-129', 'R01-130', 'R01-131', 'R01-132', 'R01-133', 'R01-134', 'R01-135', 'R01-136', 'R01-137', 'R01-138', 'R01-139', 'R01-140', 'R01-141', 'R01-142', 'R01-144', 'R01-145', 'R01-146'])"
      ]
     },
     "execution_count": 5,
     "metadata": {},
     "output_type": "execute_result"
    }
   ],
   "source": [
    "srds_train._ds_info.data_dict.keys()"
   ]
  },
  {
   "cell_type": "code",
   "execution_count": 6,
   "metadata": {},
   "outputs": [
    {
     "data": {
      "text/plain": [
       "dict_keys(['pid', 'centroid_dict', 'meta_info', 'path'])"
      ]
     },
     "execution_count": 6,
     "metadata": {},
     "output_type": "execute_result"
    }
   ],
   "source": [
    "srds_train._ds_info.data_dict['R01-001'].keys()"
   ]
  },
  {
   "cell_type": "code",
   "execution_count": 7,
   "metadata": {},
   "outputs": [
    {
     "data": {
      "text/plain": [
       "{'img_path': '/labs/gevaertlab/data/NSCLC_Radiogenomics/Resampled/Images/R01-001_img.nii.gz',\n",
       " 'seg_path': '/labs/gevaertlab/data/NSCLC_Radiogenomics/Resampled/Segmentations/R01-001/1-198.dcm'}"
      ]
     },
     "execution_count": 7,
     "metadata": {},
     "output_type": "execute_result"
    }
   ],
   "source": [
    "srds_train._ds_info.data_dict['R01-001'][\"path\"]"
   ]
  },
  {
   "cell_type": "code",
   "execution_count": 8,
   "metadata": {},
   "outputs": [],
   "source": [
    "img_paths, seg_paths = [], []\n",
    "for k in srds_train._ds_info.data_dict.keys():\n",
    "    img_paths.append(srds_train._ds_info.data_dict[k][\"path\"]['img_path'])\n",
    "    seg_paths.append(srds_train._ds_info.data_dict[k][\"path\"]['seg_path'])\n",
    "df_train = pd.DataFrame({\"Image\": img_paths, \"Mask\": seg_paths})"
   ]
  },
  {
   "cell_type": "code",
   "execution_count": 30,
   "metadata": {},
   "outputs": [
    {
     "name": "stderr",
     "output_type": "stream",
     "text": [
      "  1%|          | 1/143 [00:01<02:23,  1.01s/it]"
     ]
    },
    {
     "name": "stdout",
     "output_type": "stream",
     "text": [
      "save to /labs/gevaertlab/data/lung cancer/StanfordRadiogenomics/segmentations_nrrd/R01-001.nrrd\n"
     ]
    },
    {
     "name": "stderr",
     "output_type": "stream",
     "text": [
      "  1%|▏         | 2/143 [00:01<01:48,  1.30it/s]"
     ]
    },
    {
     "name": "stdout",
     "output_type": "stream",
     "text": [
      "save to /labs/gevaertlab/data/lung cancer/StanfordRadiogenomics/segmentations_nrrd/R01-002.nrrd\n"
     ]
    },
    {
     "name": "stderr",
     "output_type": "stream",
     "text": [
      "  2%|▏         | 3/143 [00:02<01:45,  1.32it/s]"
     ]
    },
    {
     "name": "stdout",
     "output_type": "stream",
     "text": [
      "save to /labs/gevaertlab/data/lung cancer/StanfordRadiogenomics/segmentations_nrrd/R01-003.nrrd\n"
     ]
    },
    {
     "name": "stderr",
     "output_type": "stream",
     "text": [
      "  3%|▎         | 4/143 [00:03<01:43,  1.34it/s]"
     ]
    },
    {
     "name": "stdout",
     "output_type": "stream",
     "text": [
      "save to /labs/gevaertlab/data/lung cancer/StanfordRadiogenomics/segmentations_nrrd/R01-004.nrrd\n"
     ]
    },
    {
     "name": "stderr",
     "output_type": "stream",
     "text": [
      "  3%|▎         | 5/143 [00:04<02:06,  1.09it/s]"
     ]
    },
    {
     "name": "stdout",
     "output_type": "stream",
     "text": [
      "save to /labs/gevaertlab/data/lung cancer/StanfordRadiogenomics/segmentations_nrrd/R01-005.nrrd\n"
     ]
    },
    {
     "name": "stderr",
     "output_type": "stream",
     "text": [
      "  4%|▍         | 6/143 [00:05<02:21,  1.04s/it]"
     ]
    },
    {
     "name": "stdout",
     "output_type": "stream",
     "text": [
      "save to /labs/gevaertlab/data/lung cancer/StanfordRadiogenomics/segmentations_nrrd/R01-006.nrrd\n"
     ]
    },
    {
     "name": "stderr",
     "output_type": "stream",
     "text": [
      "  5%|▍         | 7/143 [00:06<02:06,  1.08it/s]"
     ]
    },
    {
     "name": "stdout",
     "output_type": "stream",
     "text": [
      "save to /labs/gevaertlab/data/lung cancer/StanfordRadiogenomics/segmentations_nrrd/R01-007.nrrd\n",
      "save to /labs/gevaertlab/data/lung cancer/StanfordRadiogenomics/segmentations_nrrd/R01-008.nrrd\n"
     ]
    },
    {
     "name": "stderr",
     "output_type": "stream",
     "text": [
      "  6%|▋         | 9/143 [00:06<01:22,  1.62it/s]"
     ]
    },
    {
     "name": "stdout",
     "output_type": "stream",
     "text": [
      "save to /labs/gevaertlab/data/lung cancer/StanfordRadiogenomics/segmentations_nrrd/R01-010.nrrd\n"
     ]
    },
    {
     "name": "stderr",
     "output_type": "stream",
     "text": [
      "  7%|▋         | 10/143 [00:07<01:19,  1.67it/s]"
     ]
    },
    {
     "name": "stdout",
     "output_type": "stream",
     "text": [
      "save to /labs/gevaertlab/data/lung cancer/StanfordRadiogenomics/segmentations_nrrd/R01-011.nrrd\n"
     ]
    },
    {
     "name": "stderr",
     "output_type": "stream",
     "text": [
      "  8%|▊         | 11/143 [00:08<01:20,  1.63it/s]"
     ]
    },
    {
     "name": "stdout",
     "output_type": "stream",
     "text": [
      "save to /labs/gevaertlab/data/lung cancer/StanfordRadiogenomics/segmentations_nrrd/R01-012.nrrd\n"
     ]
    },
    {
     "name": "stderr",
     "output_type": "stream",
     "text": [
      "  8%|▊         | 12/143 [00:08<01:16,  1.70it/s]"
     ]
    },
    {
     "name": "stdout",
     "output_type": "stream",
     "text": [
      "save to /labs/gevaertlab/data/lung cancer/StanfordRadiogenomics/segmentations_nrrd/R01-013.nrrd\n"
     ]
    },
    {
     "name": "stderr",
     "output_type": "stream",
     "text": [
      "  9%|▉         | 13/143 [00:09<01:12,  1.79it/s]"
     ]
    },
    {
     "name": "stdout",
     "output_type": "stream",
     "text": [
      "save to /labs/gevaertlab/data/lung cancer/StanfordRadiogenomics/segmentations_nrrd/R01-014.nrrd\n"
     ]
    },
    {
     "name": "stderr",
     "output_type": "stream",
     "text": [
      " 10%|▉         | 14/143 [00:10<01:34,  1.37it/s]"
     ]
    },
    {
     "name": "stdout",
     "output_type": "stream",
     "text": [
      "save to /labs/gevaertlab/data/lung cancer/StanfordRadiogenomics/segmentations_nrrd/R01-015.nrrd\n"
     ]
    },
    {
     "name": "stderr",
     "output_type": "stream",
     "text": [
      " 10%|█         | 15/143 [00:10<01:27,  1.46it/s]"
     ]
    },
    {
     "name": "stdout",
     "output_type": "stream",
     "text": [
      "save to /labs/gevaertlab/data/lung cancer/StanfordRadiogenomics/segmentations_nrrd/R01-016.nrrd\n"
     ]
    },
    {
     "name": "stderr",
     "output_type": "stream",
     "text": [
      " 11%|█         | 16/143 [00:11<01:18,  1.61it/s]"
     ]
    },
    {
     "name": "stdout",
     "output_type": "stream",
     "text": [
      "save to /labs/gevaertlab/data/lung cancer/StanfordRadiogenomics/segmentations_nrrd/R01-017.nrrd\n"
     ]
    },
    {
     "name": "stderr",
     "output_type": "stream",
     "text": [
      " 12%|█▏        | 17/143 [00:12<01:36,  1.31it/s]"
     ]
    },
    {
     "name": "stdout",
     "output_type": "stream",
     "text": [
      "save to /labs/gevaertlab/data/lung cancer/StanfordRadiogenomics/segmentations_nrrd/R01-018.nrrd\n"
     ]
    },
    {
     "name": "stderr",
     "output_type": "stream",
     "text": [
      " 13%|█▎        | 18/143 [00:13<01:44,  1.19it/s]"
     ]
    },
    {
     "name": "stdout",
     "output_type": "stream",
     "text": [
      "save to /labs/gevaertlab/data/lung cancer/StanfordRadiogenomics/segmentations_nrrd/R01-019.nrrd\n"
     ]
    },
    {
     "name": "stderr",
     "output_type": "stream",
     "text": [
      " 13%|█▎        | 19/143 [00:13<01:26,  1.43it/s]"
     ]
    },
    {
     "name": "stdout",
     "output_type": "stream",
     "text": [
      "save to /labs/gevaertlab/data/lung cancer/StanfordRadiogenomics/segmentations_nrrd/R01-020.nrrd\n"
     ]
    },
    {
     "name": "stderr",
     "output_type": "stream",
     "text": [
      " 15%|█▌        | 22/143 [00:14<00:52,  2.30it/s]"
     ]
    },
    {
     "name": "stdout",
     "output_type": "stream",
     "text": [
      "save to /labs/gevaertlab/data/lung cancer/StanfordRadiogenomics/segmentations_nrrd/R01-021.nrrd\n",
      "save to /labs/gevaertlab/data/lung cancer/StanfordRadiogenomics/segmentations_nrrd/R01-022.nrrd\n",
      "save to /labs/gevaertlab/data/lung cancer/StanfordRadiogenomics/segmentations_nrrd/R01-023.nrrd\n"
     ]
    },
    {
     "name": "stderr",
     "output_type": "stream",
     "text": [
      " 16%|█▌        | 23/143 [00:15<01:04,  1.87it/s]"
     ]
    },
    {
     "name": "stdout",
     "output_type": "stream",
     "text": [
      "save to /labs/gevaertlab/data/lung cancer/StanfordRadiogenomics/segmentations_nrrd/R01-024.nrrd\n"
     ]
    },
    {
     "name": "stderr",
     "output_type": "stream",
     "text": [
      " 17%|█▋        | 24/143 [00:16<01:19,  1.50it/s]"
     ]
    },
    {
     "name": "stdout",
     "output_type": "stream",
     "text": [
      "save to /labs/gevaertlab/data/lung cancer/StanfordRadiogenomics/segmentations_nrrd/R01-025.nrrd\n",
      "save to /labs/gevaertlab/data/lung cancer/StanfordRadiogenomics/segmentations_nrrd/R01-026.nrrd\n"
     ]
    },
    {
     "name": "stderr",
     "output_type": "stream",
     "text": [
      " 18%|█▊        | 26/143 [00:17<00:56,  2.06it/s]"
     ]
    },
    {
     "name": "stdout",
     "output_type": "stream",
     "text": [
      "save to /labs/gevaertlab/data/lung cancer/StanfordRadiogenomics/segmentations_nrrd/R01-027.nrrd\n"
     ]
    },
    {
     "name": "stderr",
     "output_type": "stream",
     "text": [
      " 19%|█▉        | 27/143 [00:17<00:57,  2.03it/s]"
     ]
    },
    {
     "name": "stdout",
     "output_type": "stream",
     "text": [
      "save to /labs/gevaertlab/data/lung cancer/StanfordRadiogenomics/segmentations_nrrd/R01-028.nrrd\n"
     ]
    },
    {
     "name": "stderr",
     "output_type": "stream",
     "text": [
      " 20%|█▉        | 28/143 [00:18<00:56,  2.03it/s]"
     ]
    },
    {
     "name": "stdout",
     "output_type": "stream",
     "text": [
      "save to /labs/gevaertlab/data/lung cancer/StanfordRadiogenomics/segmentations_nrrd/R01-029.nrrd\n"
     ]
    },
    {
     "name": "stderr",
     "output_type": "stream",
     "text": [
      " 20%|██        | 29/143 [00:18<00:56,  2.01it/s]"
     ]
    },
    {
     "name": "stdout",
     "output_type": "stream",
     "text": [
      "save to /labs/gevaertlab/data/lung cancer/StanfordRadiogenomics/segmentations_nrrd/R01-030.nrrd\n"
     ]
    },
    {
     "name": "stderr",
     "output_type": "stream",
     "text": [
      " 21%|██        | 30/143 [00:19<00:56,  1.99it/s]"
     ]
    },
    {
     "name": "stdout",
     "output_type": "stream",
     "text": [
      "save to /labs/gevaertlab/data/lung cancer/StanfordRadiogenomics/segmentations_nrrd/R01-031.nrrd\n"
     ]
    },
    {
     "name": "stderr",
     "output_type": "stream",
     "text": [
      " 22%|██▏       | 31/143 [00:19<00:58,  1.91it/s]"
     ]
    },
    {
     "name": "stdout",
     "output_type": "stream",
     "text": [
      "save to /labs/gevaertlab/data/lung cancer/StanfordRadiogenomics/segmentations_nrrd/R01-032.nrrd\n"
     ]
    },
    {
     "name": "stderr",
     "output_type": "stream",
     "text": [
      " 22%|██▏       | 32/143 [00:20<01:04,  1.72it/s]"
     ]
    },
    {
     "name": "stdout",
     "output_type": "stream",
     "text": [
      "save to /labs/gevaertlab/data/lung cancer/StanfordRadiogenomics/segmentations_nrrd/R01-033.nrrd\n"
     ]
    },
    {
     "name": "stderr",
     "output_type": "stream",
     "text": [
      " 23%|██▎       | 33/143 [00:20<01:01,  1.78it/s]"
     ]
    },
    {
     "name": "stdout",
     "output_type": "stream",
     "text": [
      "save to /labs/gevaertlab/data/lung cancer/StanfordRadiogenomics/segmentations_nrrd/R01-034.nrrd\n"
     ]
    },
    {
     "name": "stderr",
     "output_type": "stream",
     "text": [
      " 24%|██▍       | 34/143 [00:21<01:02,  1.74it/s]"
     ]
    },
    {
     "name": "stdout",
     "output_type": "stream",
     "text": [
      "save to /labs/gevaertlab/data/lung cancer/StanfordRadiogenomics/segmentations_nrrd/R01-035.nrrd\n"
     ]
    },
    {
     "name": "stderr",
     "output_type": "stream",
     "text": [
      " 24%|██▍       | 35/143 [00:22<01:02,  1.72it/s]"
     ]
    },
    {
     "name": "stdout",
     "output_type": "stream",
     "text": [
      "save to /labs/gevaertlab/data/lung cancer/StanfordRadiogenomics/segmentations_nrrd/R01-036.nrrd\n"
     ]
    },
    {
     "name": "stderr",
     "output_type": "stream",
     "text": [
      " 25%|██▌       | 36/143 [00:22<01:01,  1.75it/s]"
     ]
    },
    {
     "name": "stdout",
     "output_type": "stream",
     "text": [
      "save to /labs/gevaertlab/data/lung cancer/StanfordRadiogenomics/segmentations_nrrd/R01-037.nrrd\n",
      "save to /labs/gevaertlab/data/lung cancer/StanfordRadiogenomics/segmentations_nrrd/R01-038.nrrd\n"
     ]
    },
    {
     "name": "stderr",
     "output_type": "stream",
     "text": [
      " 27%|██▋       | 38/143 [00:22<00:38,  2.76it/s]"
     ]
    },
    {
     "name": "stdout",
     "output_type": "stream",
     "text": [
      "save to /labs/gevaertlab/data/lung cancer/StanfordRadiogenomics/segmentations_nrrd/R01-039.nrrd\n"
     ]
    },
    {
     "name": "stderr",
     "output_type": "stream",
     "text": [
      " 27%|██▋       | 39/143 [00:23<00:43,  2.40it/s]"
     ]
    },
    {
     "name": "stdout",
     "output_type": "stream",
     "text": [
      "save to /labs/gevaertlab/data/lung cancer/StanfordRadiogenomics/segmentations_nrrd/R01-040.nrrd\n"
     ]
    },
    {
     "name": "stderr",
     "output_type": "stream",
     "text": [
      " 28%|██▊       | 40/143 [00:24<00:45,  2.25it/s]"
     ]
    },
    {
     "name": "stdout",
     "output_type": "stream",
     "text": [
      "save to /labs/gevaertlab/data/lung cancer/StanfordRadiogenomics/segmentations_nrrd/R01-041.nrrd\n"
     ]
    },
    {
     "name": "stderr",
     "output_type": "stream",
     "text": [
      " 29%|██▊       | 41/143 [00:24<00:48,  2.10it/s]"
     ]
    },
    {
     "name": "stdout",
     "output_type": "stream",
     "text": [
      "save to /labs/gevaertlab/data/lung cancer/StanfordRadiogenomics/segmentations_nrrd/R01-042.nrrd\n"
     ]
    },
    {
     "name": "stderr",
     "output_type": "stream",
     "text": [
      " 29%|██▉       | 42/143 [00:24<00:43,  2.31it/s]"
     ]
    },
    {
     "name": "stdout",
     "output_type": "stream",
     "text": [
      "save to /labs/gevaertlab/data/lung cancer/StanfordRadiogenomics/segmentations_nrrd/R01-043.nrrd\n"
     ]
    },
    {
     "name": "stderr",
     "output_type": "stream",
     "text": [
      " 30%|███       | 43/143 [00:25<00:41,  2.39it/s]"
     ]
    },
    {
     "name": "stdout",
     "output_type": "stream",
     "text": [
      "save to /labs/gevaertlab/data/lung cancer/StanfordRadiogenomics/segmentations_nrrd/R01-044.nrrd\n"
     ]
    },
    {
     "name": "stderr",
     "output_type": "stream",
     "text": [
      " 31%|███       | 44/143 [00:25<00:48,  2.03it/s]"
     ]
    },
    {
     "name": "stdout",
     "output_type": "stream",
     "text": [
      "save to /labs/gevaertlab/data/lung cancer/StanfordRadiogenomics/segmentations_nrrd/R01-045.nrrd\n"
     ]
    },
    {
     "name": "stderr",
     "output_type": "stream",
     "text": [
      " 31%|███▏      | 45/143 [00:26<01:00,  1.63it/s]"
     ]
    },
    {
     "name": "stdout",
     "output_type": "stream",
     "text": [
      "save to /labs/gevaertlab/data/lung cancer/StanfordRadiogenomics/segmentations_nrrd/R01-046.nrrd\n"
     ]
    },
    {
     "name": "stderr",
     "output_type": "stream",
     "text": [
      " 32%|███▏      | 46/143 [00:27<00:57,  1.69it/s]"
     ]
    },
    {
     "name": "stdout",
     "output_type": "stream",
     "text": [
      "save to /labs/gevaertlab/data/lung cancer/StanfordRadiogenomics/segmentations_nrrd/R01-047.nrrd\n"
     ]
    },
    {
     "name": "stderr",
     "output_type": "stream",
     "text": [
      " 33%|███▎      | 47/143 [00:28<01:20,  1.19it/s]"
     ]
    },
    {
     "name": "stdout",
     "output_type": "stream",
     "text": [
      "save to /labs/gevaertlab/data/lung cancer/StanfordRadiogenomics/segmentations_nrrd/R01-048.nrrd\n"
     ]
    },
    {
     "name": "stderr",
     "output_type": "stream",
     "text": [
      " 34%|███▎      | 48/143 [00:29<01:21,  1.17it/s]"
     ]
    },
    {
     "name": "stdout",
     "output_type": "stream",
     "text": [
      "save to /labs/gevaertlab/data/lung cancer/StanfordRadiogenomics/segmentations_nrrd/R01-049.nrrd\n"
     ]
    },
    {
     "name": "stderr",
     "output_type": "stream",
     "text": [
      " 34%|███▍      | 49/143 [00:30<01:13,  1.28it/s]"
     ]
    },
    {
     "name": "stdout",
     "output_type": "stream",
     "text": [
      "save to /labs/gevaertlab/data/lung cancer/StanfordRadiogenomics/segmentations_nrrd/R01-050.nrrd\n"
     ]
    },
    {
     "name": "stderr",
     "output_type": "stream",
     "text": [
      " 35%|███▍      | 50/143 [00:30<01:06,  1.40it/s]"
     ]
    },
    {
     "name": "stdout",
     "output_type": "stream",
     "text": [
      "save to /labs/gevaertlab/data/lung cancer/StanfordRadiogenomics/segmentations_nrrd/R01-051.nrrd\n"
     ]
    },
    {
     "name": "stderr",
     "output_type": "stream",
     "text": [
      " 36%|███▌      | 51/143 [00:31<01:05,  1.41it/s]"
     ]
    },
    {
     "name": "stdout",
     "output_type": "stream",
     "text": [
      "save to /labs/gevaertlab/data/lung cancer/StanfordRadiogenomics/segmentations_nrrd/R01-052.nrrd\n"
     ]
    },
    {
     "name": "stderr",
     "output_type": "stream",
     "text": [
      " 36%|███▋      | 52/143 [00:32<00:59,  1.53it/s]"
     ]
    },
    {
     "name": "stdout",
     "output_type": "stream",
     "text": [
      "save to /labs/gevaertlab/data/lung cancer/StanfordRadiogenomics/segmentations_nrrd/R01-053.nrrd\n"
     ]
    },
    {
     "name": "stderr",
     "output_type": "stream",
     "text": [
      " 37%|███▋      | 53/143 [00:32<01:04,  1.39it/s]"
     ]
    },
    {
     "name": "stdout",
     "output_type": "stream",
     "text": [
      "save to /labs/gevaertlab/data/lung cancer/StanfordRadiogenomics/segmentations_nrrd/R01-054.nrrd\n"
     ]
    },
    {
     "name": "stderr",
     "output_type": "stream",
     "text": [
      " 38%|███▊      | 54/143 [00:34<01:12,  1.22it/s]"
     ]
    },
    {
     "name": "stdout",
     "output_type": "stream",
     "text": [
      "save to /labs/gevaertlab/data/lung cancer/StanfordRadiogenomics/segmentations_nrrd/R01-055.nrrd\n"
     ]
    },
    {
     "name": "stderr",
     "output_type": "stream",
     "text": [
      " 38%|███▊      | 55/143 [00:35<01:16,  1.15it/s]"
     ]
    },
    {
     "name": "stdout",
     "output_type": "stream",
     "text": [
      "save to /labs/gevaertlab/data/lung cancer/StanfordRadiogenomics/segmentations_nrrd/R01-056.nrrd\n"
     ]
    },
    {
     "name": "stderr",
     "output_type": "stream",
     "text": [
      " 39%|███▉      | 56/143 [00:35<01:17,  1.13it/s]"
     ]
    },
    {
     "name": "stdout",
     "output_type": "stream",
     "text": [
      "save to /labs/gevaertlab/data/lung cancer/StanfordRadiogenomics/segmentations_nrrd/R01-057.nrrd\n"
     ]
    },
    {
     "name": "stderr",
     "output_type": "stream",
     "text": [
      " 40%|███▉      | 57/143 [00:36<01:07,  1.27it/s]"
     ]
    },
    {
     "name": "stdout",
     "output_type": "stream",
     "text": [
      "save to /labs/gevaertlab/data/lung cancer/StanfordRadiogenomics/segmentations_nrrd/R01-058.nrrd\n"
     ]
    },
    {
     "name": "stderr",
     "output_type": "stream",
     "text": [
      " 41%|████      | 58/143 [00:37<01:00,  1.40it/s]"
     ]
    },
    {
     "name": "stdout",
     "output_type": "stream",
     "text": [
      "save to /labs/gevaertlab/data/lung cancer/StanfordRadiogenomics/segmentations_nrrd/R01-060.nrrd\n"
     ]
    },
    {
     "name": "stderr",
     "output_type": "stream",
     "text": [
      " 41%|████▏     | 59/143 [00:37<00:50,  1.66it/s]"
     ]
    },
    {
     "name": "stdout",
     "output_type": "stream",
     "text": [
      "save to /labs/gevaertlab/data/lung cancer/StanfordRadiogenomics/segmentations_nrrd/R01-061.nrrd\n"
     ]
    },
    {
     "name": "stderr",
     "output_type": "stream",
     "text": [
      " 42%|████▏     | 60/143 [00:38<00:53,  1.54it/s]"
     ]
    },
    {
     "name": "stdout",
     "output_type": "stream",
     "text": [
      "save to /labs/gevaertlab/data/lung cancer/StanfordRadiogenomics/segmentations_nrrd/R01-062.nrrd\n"
     ]
    },
    {
     "name": "stderr",
     "output_type": "stream",
     "text": [
      " 43%|████▎     | 61/143 [00:39<01:01,  1.33it/s]"
     ]
    },
    {
     "name": "stdout",
     "output_type": "stream",
     "text": [
      "save to /labs/gevaertlab/data/lung cancer/StanfordRadiogenomics/segmentations_nrrd/R01-063.nrrd\n"
     ]
    },
    {
     "name": "stderr",
     "output_type": "stream",
     "text": [
      " 43%|████▎     | 62/143 [00:40<01:10,  1.14it/s]"
     ]
    },
    {
     "name": "stdout",
     "output_type": "stream",
     "text": [
      "save to /labs/gevaertlab/data/lung cancer/StanfordRadiogenomics/segmentations_nrrd/R01-064.nrrd\n"
     ]
    },
    {
     "name": "stderr",
     "output_type": "stream",
     "text": [
      " 44%|████▍     | 63/143 [00:41<01:06,  1.20it/s]"
     ]
    },
    {
     "name": "stdout",
     "output_type": "stream",
     "text": [
      "save to /labs/gevaertlab/data/lung cancer/StanfordRadiogenomics/segmentations_nrrd/R01-065.nrrd\n"
     ]
    },
    {
     "name": "stderr",
     "output_type": "stream",
     "text": [
      " 45%|████▍     | 64/143 [00:41<00:56,  1.41it/s]"
     ]
    },
    {
     "name": "stdout",
     "output_type": "stream",
     "text": [
      "save to /labs/gevaertlab/data/lung cancer/StanfordRadiogenomics/segmentations_nrrd/R01-066.nrrd\n"
     ]
    },
    {
     "name": "stderr",
     "output_type": "stream",
     "text": [
      " 45%|████▌     | 65/143 [00:42<00:55,  1.41it/s]"
     ]
    },
    {
     "name": "stdout",
     "output_type": "stream",
     "text": [
      "save to /labs/gevaertlab/data/lung cancer/StanfordRadiogenomics/segmentations_nrrd/R01-067.nrrd\n"
     ]
    },
    {
     "name": "stderr",
     "output_type": "stream",
     "text": [
      " 46%|████▌     | 66/143 [00:43<01:00,  1.28it/s]"
     ]
    },
    {
     "name": "stdout",
     "output_type": "stream",
     "text": [
      "save to /labs/gevaertlab/data/lung cancer/StanfordRadiogenomics/segmentations_nrrd/R01-068.nrrd\n"
     ]
    },
    {
     "name": "stderr",
     "output_type": "stream",
     "text": [
      " 47%|████▋     | 67/143 [00:43<00:57,  1.32it/s]"
     ]
    },
    {
     "name": "stdout",
     "output_type": "stream",
     "text": [
      "save to /labs/gevaertlab/data/lung cancer/StanfordRadiogenomics/segmentations_nrrd/R01-069.nrrd\n"
     ]
    },
    {
     "name": "stderr",
     "output_type": "stream",
     "text": [
      " 48%|████▊     | 68/143 [00:44<01:05,  1.14it/s]"
     ]
    },
    {
     "name": "stdout",
     "output_type": "stream",
     "text": [
      "save to /labs/gevaertlab/data/lung cancer/StanfordRadiogenomics/segmentations_nrrd/R01-070.nrrd\n"
     ]
    },
    {
     "name": "stderr",
     "output_type": "stream",
     "text": [
      " 48%|████▊     | 69/143 [00:45<01:01,  1.20it/s]"
     ]
    },
    {
     "name": "stdout",
     "output_type": "stream",
     "text": [
      "save to /labs/gevaertlab/data/lung cancer/StanfordRadiogenomics/segmentations_nrrd/R01-071.nrrd\n"
     ]
    },
    {
     "name": "stderr",
     "output_type": "stream",
     "text": [
      " 49%|████▉     | 70/143 [00:46<01:00,  1.20it/s]"
     ]
    },
    {
     "name": "stdout",
     "output_type": "stream",
     "text": [
      "save to /labs/gevaertlab/data/lung cancer/StanfordRadiogenomics/segmentations_nrrd/R01-072.nrrd\n"
     ]
    },
    {
     "name": "stderr",
     "output_type": "stream",
     "text": [
      " 50%|████▉     | 71/143 [00:47<01:04,  1.12it/s]"
     ]
    },
    {
     "name": "stdout",
     "output_type": "stream",
     "text": [
      "save to /labs/gevaertlab/data/lung cancer/StanfordRadiogenomics/segmentations_nrrd/R01-073.nrrd\n"
     ]
    },
    {
     "name": "stderr",
     "output_type": "stream",
     "text": [
      " 50%|█████     | 72/143 [00:49<01:21,  1.15s/it]"
     ]
    },
    {
     "name": "stdout",
     "output_type": "stream",
     "text": [
      "save to /labs/gevaertlab/data/lung cancer/StanfordRadiogenomics/segmentations_nrrd/R01-074.nrrd\n"
     ]
    },
    {
     "name": "stderr",
     "output_type": "stream",
     "text": [
      " 52%|█████▏    | 74/143 [00:50<00:58,  1.18it/s]"
     ]
    },
    {
     "name": "stdout",
     "output_type": "stream",
     "text": [
      "save to /labs/gevaertlab/data/lung cancer/StanfordRadiogenomics/segmentations_nrrd/R01-075.nrrd\n",
      "save to /labs/gevaertlab/data/lung cancer/StanfordRadiogenomics/segmentations_nrrd/R01-076.nrrd\n"
     ]
    },
    {
     "name": "stderr",
     "output_type": "stream",
     "text": [
      " 52%|█████▏    | 75/143 [00:51<00:54,  1.26it/s]"
     ]
    },
    {
     "name": "stdout",
     "output_type": "stream",
     "text": [
      "save to /labs/gevaertlab/data/lung cancer/StanfordRadiogenomics/segmentations_nrrd/R01-077.nrrd\n"
     ]
    },
    {
     "name": "stderr",
     "output_type": "stream",
     "text": [
      " 53%|█████▎    | 76/143 [00:51<00:42,  1.58it/s]"
     ]
    },
    {
     "name": "stdout",
     "output_type": "stream",
     "text": [
      "save to /labs/gevaertlab/data/lung cancer/StanfordRadiogenomics/segmentations_nrrd/R01-078.nrrd\n"
     ]
    },
    {
     "name": "stderr",
     "output_type": "stream",
     "text": [
      " 54%|█████▍    | 77/143 [00:51<00:36,  1.81it/s]"
     ]
    },
    {
     "name": "stdout",
     "output_type": "stream",
     "text": [
      "save to /labs/gevaertlab/data/lung cancer/StanfordRadiogenomics/segmentations_nrrd/R01-079.nrrd\n"
     ]
    },
    {
     "name": "stderr",
     "output_type": "stream",
     "text": [
      " 55%|█████▍    | 78/143 [00:53<00:56,  1.15it/s]"
     ]
    },
    {
     "name": "stdout",
     "output_type": "stream",
     "text": [
      "save to /labs/gevaertlab/data/lung cancer/StanfordRadiogenomics/segmentations_nrrd/R01-080.nrrd\n"
     ]
    },
    {
     "name": "stderr",
     "output_type": "stream",
     "text": [
      " 55%|█████▌    | 79/143 [00:54<01:03,  1.01it/s]"
     ]
    },
    {
     "name": "stdout",
     "output_type": "stream",
     "text": [
      "save to /labs/gevaertlab/data/lung cancer/StanfordRadiogenomics/segmentations_nrrd/R01-081.nrrd\n"
     ]
    },
    {
     "name": "stderr",
     "output_type": "stream",
     "text": [
      " 56%|█████▌    | 80/143 [00:55<00:58,  1.08it/s]"
     ]
    },
    {
     "name": "stdout",
     "output_type": "stream",
     "text": [
      "save to /labs/gevaertlab/data/lung cancer/StanfordRadiogenomics/segmentations_nrrd/R01-082.nrrd\n"
     ]
    },
    {
     "name": "stderr",
     "output_type": "stream",
     "text": [
      " 57%|█████▋    | 81/143 [00:56<00:53,  1.17it/s]"
     ]
    },
    {
     "name": "stdout",
     "output_type": "stream",
     "text": [
      "save to /labs/gevaertlab/data/lung cancer/StanfordRadiogenomics/segmentations_nrrd/R01-083.nrrd\n"
     ]
    },
    {
     "name": "stderr",
     "output_type": "stream",
     "text": [
      " 57%|█████▋    | 82/143 [00:56<00:48,  1.26it/s]"
     ]
    },
    {
     "name": "stdout",
     "output_type": "stream",
     "text": [
      "save to /labs/gevaertlab/data/lung cancer/StanfordRadiogenomics/segmentations_nrrd/R01-084.nrrd\n"
     ]
    },
    {
     "name": "stderr",
     "output_type": "stream",
     "text": [
      " 58%|█████▊    | 83/143 [00:57<00:43,  1.37it/s]"
     ]
    },
    {
     "name": "stdout",
     "output_type": "stream",
     "text": [
      "save to /labs/gevaertlab/data/lung cancer/StanfordRadiogenomics/segmentations_nrrd/R01-085.nrrd\n"
     ]
    },
    {
     "name": "stderr",
     "output_type": "stream",
     "text": [
      " 59%|█████▊    | 84/143 [00:58<00:49,  1.20it/s]"
     ]
    },
    {
     "name": "stdout",
     "output_type": "stream",
     "text": [
      "save to /labs/gevaertlab/data/lung cancer/StanfordRadiogenomics/segmentations_nrrd/R01-086.nrrd\n"
     ]
    },
    {
     "name": "stderr",
     "output_type": "stream",
     "text": [
      " 59%|█████▉    | 85/143 [00:59<00:44,  1.31it/s]"
     ]
    },
    {
     "name": "stdout",
     "output_type": "stream",
     "text": [
      "save to /labs/gevaertlab/data/lung cancer/StanfordRadiogenomics/segmentations_nrrd/R01-087.nrrd\n"
     ]
    },
    {
     "name": "stderr",
     "output_type": "stream",
     "text": [
      " 60%|██████    | 86/143 [00:59<00:41,  1.37it/s]"
     ]
    },
    {
     "name": "stdout",
     "output_type": "stream",
     "text": [
      "save to /labs/gevaertlab/data/lung cancer/StanfordRadiogenomics/segmentations_nrrd/R01-088.nrrd\n"
     ]
    },
    {
     "name": "stderr",
     "output_type": "stream",
     "text": [
      " 61%|██████    | 87/143 [01:00<00:33,  1.66it/s]"
     ]
    },
    {
     "name": "stdout",
     "output_type": "stream",
     "text": [
      "save to /labs/gevaertlab/data/lung cancer/StanfordRadiogenomics/segmentations_nrrd/R01-089.nrrd\n"
     ]
    },
    {
     "name": "stderr",
     "output_type": "stream",
     "text": [
      " 62%|██████▏   | 88/143 [01:00<00:33,  1.66it/s]"
     ]
    },
    {
     "name": "stdout",
     "output_type": "stream",
     "text": [
      "save to /labs/gevaertlab/data/lung cancer/StanfordRadiogenomics/segmentations_nrrd/R01-090.nrrd\n"
     ]
    },
    {
     "name": "stderr",
     "output_type": "stream",
     "text": [
      " 62%|██████▏   | 89/143 [01:01<00:40,  1.34it/s]"
     ]
    },
    {
     "name": "stdout",
     "output_type": "stream",
     "text": [
      "save to /labs/gevaertlab/data/lung cancer/StanfordRadiogenomics/segmentations_nrrd/R01-091.nrrd\n"
     ]
    },
    {
     "name": "stderr",
     "output_type": "stream",
     "text": [
      " 63%|██████▎   | 90/143 [01:02<00:36,  1.46it/s]"
     ]
    },
    {
     "name": "stdout",
     "output_type": "stream",
     "text": [
      "save to /labs/gevaertlab/data/lung cancer/StanfordRadiogenomics/segmentations_nrrd/R01-092.nrrd\n"
     ]
    },
    {
     "name": "stderr",
     "output_type": "stream",
     "text": [
      " 64%|██████▎   | 91/143 [01:02<00:33,  1.57it/s]"
     ]
    },
    {
     "name": "stdout",
     "output_type": "stream",
     "text": [
      "save to /labs/gevaertlab/data/lung cancer/StanfordRadiogenomics/segmentations_nrrd/R01-093.nrrd\n"
     ]
    },
    {
     "name": "stderr",
     "output_type": "stream",
     "text": [
      " 64%|██████▍   | 92/143 [01:03<00:32,  1.56it/s]"
     ]
    },
    {
     "name": "stdout",
     "output_type": "stream",
     "text": [
      "save to /labs/gevaertlab/data/lung cancer/StanfordRadiogenomics/segmentations_nrrd/R01-094.nrrd\n"
     ]
    },
    {
     "name": "stderr",
     "output_type": "stream",
     "text": [
      " 65%|██████▌   | 93/143 [01:04<00:31,  1.61it/s]"
     ]
    },
    {
     "name": "stdout",
     "output_type": "stream",
     "text": [
      "save to /labs/gevaertlab/data/lung cancer/StanfordRadiogenomics/segmentations_nrrd/R01-095.nrrd\n"
     ]
    },
    {
     "name": "stderr",
     "output_type": "stream",
     "text": [
      " 66%|██████▌   | 94/143 [01:04<00:33,  1.45it/s]"
     ]
    },
    {
     "name": "stdout",
     "output_type": "stream",
     "text": [
      "save to /labs/gevaertlab/data/lung cancer/StanfordRadiogenomics/segmentations_nrrd/R01-096.nrrd\n"
     ]
    },
    {
     "name": "stderr",
     "output_type": "stream",
     "text": [
      " 66%|██████▋   | 95/143 [01:05<00:32,  1.48it/s]"
     ]
    },
    {
     "name": "stdout",
     "output_type": "stream",
     "text": [
      "save to /labs/gevaertlab/data/lung cancer/StanfordRadiogenomics/segmentations_nrrd/R01-097.nrrd\n",
      "save to /labs/gevaertlab/data/lung cancer/StanfordRadiogenomics/segmentations_nrrd/R01-098.nrrd\n"
     ]
    },
    {
     "name": "stderr",
     "output_type": "stream",
     "text": [
      " 69%|██████▊   | 98/143 [01:05<00:15,  2.83it/s]"
     ]
    },
    {
     "name": "stdout",
     "output_type": "stream",
     "text": [
      "save to /labs/gevaertlab/data/lung cancer/StanfordRadiogenomics/segmentations_nrrd/R01-099.nrrd\n",
      "save to /labs/gevaertlab/data/lung cancer/StanfordRadiogenomics/segmentations_nrrd/R01-100.nrrd\n"
     ]
    },
    {
     "name": "stderr",
     "output_type": "stream",
     "text": [
      " 70%|██████▉   | 100/143 [01:06<00:10,  3.93it/s]"
     ]
    },
    {
     "name": "stdout",
     "output_type": "stream",
     "text": [
      "save to /labs/gevaertlab/data/lung cancer/StanfordRadiogenomics/segmentations_nrrd/R01-101.nrrd\n",
      "save to /labs/gevaertlab/data/lung cancer/StanfordRadiogenomics/segmentations_nrrd/R01-102.nrrd\n"
     ]
    },
    {
     "name": "stderr",
     "output_type": "stream",
     "text": [
      " 71%|███████▏  | 102/143 [01:06<00:09,  4.54it/s]"
     ]
    },
    {
     "name": "stdout",
     "output_type": "stream",
     "text": [
      "save to /labs/gevaertlab/data/lung cancer/StanfordRadiogenomics/segmentations_nrrd/R01-103.nrrd\n",
      "save to /labs/gevaertlab/data/lung cancer/StanfordRadiogenomics/segmentations_nrrd/R01-104.nrrd\n"
     ]
    },
    {
     "name": "stderr",
     "output_type": "stream",
     "text": [
      " 73%|███████▎  | 104/143 [01:06<00:05,  6.51it/s]"
     ]
    },
    {
     "name": "stdout",
     "output_type": "stream",
     "text": [
      "save to /labs/gevaertlab/data/lung cancer/StanfordRadiogenomics/segmentations_nrrd/R01-105.nrrd\n",
      "save to /labs/gevaertlab/data/lung cancer/StanfordRadiogenomics/segmentations_nrrd/R01-106.nrrd\n"
     ]
    },
    {
     "name": "stderr",
     "output_type": "stream",
     "text": [
      " 75%|███████▍  | 107/143 [01:07<00:04,  7.69it/s]"
     ]
    },
    {
     "name": "stdout",
     "output_type": "stream",
     "text": [
      "save to /labs/gevaertlab/data/lung cancer/StanfordRadiogenomics/segmentations_nrrd/R01-107.nrrd\n",
      "save to /labs/gevaertlab/data/lung cancer/StanfordRadiogenomics/segmentations_nrrd/R01-108.nrrd\n",
      "save to /labs/gevaertlab/data/lung cancer/StanfordRadiogenomics/segmentations_nrrd/R01-109.nrrd\n"
     ]
    },
    {
     "name": "stderr",
     "output_type": "stream",
     "text": [
      " 76%|███████▌  | 109/143 [01:07<00:03,  9.25it/s]"
     ]
    },
    {
     "name": "stdout",
     "output_type": "stream",
     "text": [
      "save to /labs/gevaertlab/data/lung cancer/StanfordRadiogenomics/segmentations_nrrd/R01-110.nrrd\n",
      "save to /labs/gevaertlab/data/lung cancer/StanfordRadiogenomics/segmentations_nrrd/R01-111.nrrd\n",
      "save to /labs/gevaertlab/data/lung cancer/StanfordRadiogenomics/segmentations_nrrd/R01-112.nrrd\n"
     ]
    },
    {
     "name": "stderr",
     "output_type": "stream",
     "text": [
      " 78%|███████▊  | 112/143 [01:08<00:05,  5.52it/s]"
     ]
    },
    {
     "name": "stdout",
     "output_type": "stream",
     "text": [
      "save to /labs/gevaertlab/data/lung cancer/StanfordRadiogenomics/segmentations_nrrd/R01-113.nrrd\n",
      "save to /labs/gevaertlab/data/lung cancer/StanfordRadiogenomics/segmentations_nrrd/R01-114.nrrd\n",
      "save to /labs/gevaertlab/data/lung cancer/StanfordRadiogenomics/segmentations_nrrd/R01-115.nrrd\n"
     ]
    },
    {
     "name": "stderr",
     "output_type": "stream",
     "text": [
      " 80%|████████  | 115/143 [01:08<00:04,  6.96it/s]"
     ]
    },
    {
     "name": "stdout",
     "output_type": "stream",
     "text": [
      "save to /labs/gevaertlab/data/lung cancer/StanfordRadiogenomics/segmentations_nrrd/R01-116.nrrd\n",
      "save to /labs/gevaertlab/data/lung cancer/StanfordRadiogenomics/segmentations_nrrd/R01-117.nrrd\n"
     ]
    },
    {
     "name": "stderr",
     "output_type": "stream",
     "text": [
      " 82%|████████▏ | 117/143 [01:08<00:03,  7.51it/s]"
     ]
    },
    {
     "name": "stdout",
     "output_type": "stream",
     "text": [
      "save to /labs/gevaertlab/data/lung cancer/StanfordRadiogenomics/segmentations_nrrd/R01-118.nrrd\n",
      "save to /labs/gevaertlab/data/lung cancer/StanfordRadiogenomics/segmentations_nrrd/R01-119.nrrd\n"
     ]
    },
    {
     "name": "stderr",
     "output_type": "stream",
     "text": [
      " 83%|████████▎ | 119/143 [01:08<00:02,  9.15it/s]"
     ]
    },
    {
     "name": "stdout",
     "output_type": "stream",
     "text": [
      "save to /labs/gevaertlab/data/lung cancer/StanfordRadiogenomics/segmentations_nrrd/R01-120.nrrd\n",
      "save to /labs/gevaertlab/data/lung cancer/StanfordRadiogenomics/segmentations_nrrd/R01-121.nrrd\n",
      "save to /labs/gevaertlab/data/lung cancer/StanfordRadiogenomics/segmentations_nrrd/R01-122.nrrd\n"
     ]
    },
    {
     "name": "stderr",
     "output_type": "stream",
     "text": [
      " 86%|████████▌ | 123/143 [01:09<00:01, 11.43it/s]"
     ]
    },
    {
     "name": "stdout",
     "output_type": "stream",
     "text": [
      "save to /labs/gevaertlab/data/lung cancer/StanfordRadiogenomics/segmentations_nrrd/R01-123.nrrd\n",
      "save to /labs/gevaertlab/data/lung cancer/StanfordRadiogenomics/segmentations_nrrd/R01-124.nrrd\n",
      "save to /labs/gevaertlab/data/lung cancer/StanfordRadiogenomics/segmentations_nrrd/R01-125.nrrd\n"
     ]
    },
    {
     "name": "stderr",
     "output_type": "stream",
     "text": [
      " 87%|████████▋ | 125/143 [01:09<00:01, 10.67it/s]"
     ]
    },
    {
     "name": "stdout",
     "output_type": "stream",
     "text": [
      "save to /labs/gevaertlab/data/lung cancer/StanfordRadiogenomics/segmentations_nrrd/R01-126.nrrd\n",
      "save to /labs/gevaertlab/data/lung cancer/StanfordRadiogenomics/segmentations_nrrd/R01-127.nrrd\n",
      "save to /labs/gevaertlab/data/lung cancer/StanfordRadiogenomics/segmentations_nrrd/R01-128.nrrd\n"
     ]
    },
    {
     "name": "stderr",
     "output_type": "stream",
     "text": [
      " 90%|█████████ | 129/143 [01:09<00:01, 10.73it/s]"
     ]
    },
    {
     "name": "stdout",
     "output_type": "stream",
     "text": [
      "save to /labs/gevaertlab/data/lung cancer/StanfordRadiogenomics/segmentations_nrrd/R01-129.nrrd\n",
      "save to /labs/gevaertlab/data/lung cancer/StanfordRadiogenomics/segmentations_nrrd/R01-130.nrrd\n",
      "save to /labs/gevaertlab/data/lung cancer/StanfordRadiogenomics/segmentations_nrrd/R01-131.nrrd\n"
     ]
    },
    {
     "name": "stderr",
     "output_type": "stream",
     "text": [
      " 92%|█████████▏| 131/143 [01:09<00:01, 10.91it/s]"
     ]
    },
    {
     "name": "stdout",
     "output_type": "stream",
     "text": [
      "save to /labs/gevaertlab/data/lung cancer/StanfordRadiogenomics/segmentations_nrrd/R01-132.nrrd\n",
      "save to /labs/gevaertlab/data/lung cancer/StanfordRadiogenomics/segmentations_nrrd/R01-133.nrrd\n"
     ]
    },
    {
     "name": "stderr",
     "output_type": "stream",
     "text": [
      " 93%|█████████▎| 133/143 [01:10<00:00, 10.14it/s]"
     ]
    },
    {
     "name": "stdout",
     "output_type": "stream",
     "text": [
      "save to /labs/gevaertlab/data/lung cancer/StanfordRadiogenomics/segmentations_nrrd/R01-134.nrrd\n",
      "save to /labs/gevaertlab/data/lung cancer/StanfordRadiogenomics/segmentations_nrrd/R01-135.nrrd\n"
     ]
    },
    {
     "name": "stderr",
     "output_type": "stream",
     "text": [
      " 94%|█████████▍| 135/143 [01:10<00:00, 11.07it/s]"
     ]
    },
    {
     "name": "stdout",
     "output_type": "stream",
     "text": [
      "save to /labs/gevaertlab/data/lung cancer/StanfordRadiogenomics/segmentations_nrrd/R01-136.nrrd\n",
      "save to /labs/gevaertlab/data/lung cancer/StanfordRadiogenomics/segmentations_nrrd/R01-137.nrrd\n",
      "save to /labs/gevaertlab/data/lung cancer/StanfordRadiogenomics/segmentations_nrrd/R01-138.nrrd\n"
     ]
    },
    {
     "name": "stderr",
     "output_type": "stream",
     "text": [
      " 96%|█████████▌| 137/143 [01:10<00:00, 10.30it/s]"
     ]
    },
    {
     "name": "stdout",
     "output_type": "stream",
     "text": [
      "save to /labs/gevaertlab/data/lung cancer/StanfordRadiogenomics/segmentations_nrrd/R01-139.nrrd\n",
      "save to /labs/gevaertlab/data/lung cancer/StanfordRadiogenomics/segmentations_nrrd/R01-140.nrrd\n"
     ]
    },
    {
     "name": "stderr",
     "output_type": "stream",
     "text": [
      " 99%|█████████▊| 141/143 [01:11<00:00,  8.25it/s]"
     ]
    },
    {
     "name": "stdout",
     "output_type": "stream",
     "text": [
      "save to /labs/gevaertlab/data/lung cancer/StanfordRadiogenomics/segmentations_nrrd/R01-141.nrrd\n",
      "save to /labs/gevaertlab/data/lung cancer/StanfordRadiogenomics/segmentations_nrrd/R01-142.nrrd\n",
      "save to /labs/gevaertlab/data/lung cancer/StanfordRadiogenomics/segmentations_nrrd/R01-144.nrrd\n",
      "save to /labs/gevaertlab/data/lung cancer/StanfordRadiogenomics/segmentations_nrrd/R01-145.nrrd\n"
     ]
    },
    {
     "name": "stderr",
     "output_type": "stream",
     "text": [
      "100%|██████████| 143/143 [01:11<00:00,  1.99it/s]"
     ]
    },
    {
     "name": "stdout",
     "output_type": "stream",
     "text": [
      "save to /labs/gevaertlab/data/lung cancer/StanfordRadiogenomics/segmentations_nrrd/R01-146.nrrd\n"
     ]
    },
    {
     "name": "stderr",
     "output_type": "stream",
     "text": [
      "\n"
     ]
    }
   ],
   "source": [
    "import SimpleITK as sitk\n",
    "from tqdm import tqdm\n",
    "# load segmentation images and save them as nrrd files for pyradiomics\n",
    "nrrd_seg_paths = []\n",
    "for s in tqdm(seg_paths):\n",
    "    seg = sitk.ReadImage(s)\n",
    "    # get the folder name\n",
    "    folder_name = osp.basename(osp.dirname(s))\n",
    "    # save the segmentation as nrrd file\n",
    "    save_path = osp.join(\"/labs/gevaertlab/data/lung cancer/StanfordRadiogenomics/segmentations_nrrd\", folder_name + \".nrrd\")\n",
    "    sitk.WriteImage(seg, save_path)\n",
    "    print(f\"save to {save_path}\")\n",
    "    nrrd_seg_paths.append(save_path)\n"
   ]
  },
  {
   "cell_type": "code",
   "execution_count": 31,
   "metadata": {},
   "outputs": [
    {
     "data": {
      "text/plain": [
       "['/labs/gevaertlab/data/lung cancer/StanfordRadiogenomics/segmentations_nrrd/R01-001.nrrd',\n",
       " '/labs/gevaertlab/data/lung cancer/StanfordRadiogenomics/segmentations_nrrd/R01-002.nrrd',\n",
       " '/labs/gevaertlab/data/lung cancer/StanfordRadiogenomics/segmentations_nrrd/R01-003.nrrd',\n",
       " '/labs/gevaertlab/data/lung cancer/StanfordRadiogenomics/segmentations_nrrd/R01-004.nrrd',\n",
       " '/labs/gevaertlab/data/lung cancer/StanfordRadiogenomics/segmentations_nrrd/R01-005.nrrd',\n",
       " '/labs/gevaertlab/data/lung cancer/StanfordRadiogenomics/segmentations_nrrd/R01-006.nrrd',\n",
       " '/labs/gevaertlab/data/lung cancer/StanfordRadiogenomics/segmentations_nrrd/R01-007.nrrd',\n",
       " '/labs/gevaertlab/data/lung cancer/StanfordRadiogenomics/segmentations_nrrd/R01-008.nrrd',\n",
       " '/labs/gevaertlab/data/lung cancer/StanfordRadiogenomics/segmentations_nrrd/R01-010.nrrd',\n",
       " '/labs/gevaertlab/data/lung cancer/StanfordRadiogenomics/segmentations_nrrd/R01-011.nrrd',\n",
       " '/labs/gevaertlab/data/lung cancer/StanfordRadiogenomics/segmentations_nrrd/R01-012.nrrd',\n",
       " '/labs/gevaertlab/data/lung cancer/StanfordRadiogenomics/segmentations_nrrd/R01-013.nrrd',\n",
       " '/labs/gevaertlab/data/lung cancer/StanfordRadiogenomics/segmentations_nrrd/R01-014.nrrd',\n",
       " '/labs/gevaertlab/data/lung cancer/StanfordRadiogenomics/segmentations_nrrd/R01-015.nrrd',\n",
       " '/labs/gevaertlab/data/lung cancer/StanfordRadiogenomics/segmentations_nrrd/R01-016.nrrd',\n",
       " '/labs/gevaertlab/data/lung cancer/StanfordRadiogenomics/segmentations_nrrd/R01-017.nrrd',\n",
       " '/labs/gevaertlab/data/lung cancer/StanfordRadiogenomics/segmentations_nrrd/R01-018.nrrd',\n",
       " '/labs/gevaertlab/data/lung cancer/StanfordRadiogenomics/segmentations_nrrd/R01-019.nrrd',\n",
       " '/labs/gevaertlab/data/lung cancer/StanfordRadiogenomics/segmentations_nrrd/R01-020.nrrd',\n",
       " '/labs/gevaertlab/data/lung cancer/StanfordRadiogenomics/segmentations_nrrd/R01-021.nrrd',\n",
       " '/labs/gevaertlab/data/lung cancer/StanfordRadiogenomics/segmentations_nrrd/R01-022.nrrd',\n",
       " '/labs/gevaertlab/data/lung cancer/StanfordRadiogenomics/segmentations_nrrd/R01-023.nrrd',\n",
       " '/labs/gevaertlab/data/lung cancer/StanfordRadiogenomics/segmentations_nrrd/R01-024.nrrd',\n",
       " '/labs/gevaertlab/data/lung cancer/StanfordRadiogenomics/segmentations_nrrd/R01-025.nrrd',\n",
       " '/labs/gevaertlab/data/lung cancer/StanfordRadiogenomics/segmentations_nrrd/R01-026.nrrd',\n",
       " '/labs/gevaertlab/data/lung cancer/StanfordRadiogenomics/segmentations_nrrd/R01-027.nrrd',\n",
       " '/labs/gevaertlab/data/lung cancer/StanfordRadiogenomics/segmentations_nrrd/R01-028.nrrd',\n",
       " '/labs/gevaertlab/data/lung cancer/StanfordRadiogenomics/segmentations_nrrd/R01-029.nrrd',\n",
       " '/labs/gevaertlab/data/lung cancer/StanfordRadiogenomics/segmentations_nrrd/R01-030.nrrd',\n",
       " '/labs/gevaertlab/data/lung cancer/StanfordRadiogenomics/segmentations_nrrd/R01-031.nrrd',\n",
       " '/labs/gevaertlab/data/lung cancer/StanfordRadiogenomics/segmentations_nrrd/R01-032.nrrd',\n",
       " '/labs/gevaertlab/data/lung cancer/StanfordRadiogenomics/segmentations_nrrd/R01-033.nrrd',\n",
       " '/labs/gevaertlab/data/lung cancer/StanfordRadiogenomics/segmentations_nrrd/R01-034.nrrd',\n",
       " '/labs/gevaertlab/data/lung cancer/StanfordRadiogenomics/segmentations_nrrd/R01-035.nrrd',\n",
       " '/labs/gevaertlab/data/lung cancer/StanfordRadiogenomics/segmentations_nrrd/R01-036.nrrd',\n",
       " '/labs/gevaertlab/data/lung cancer/StanfordRadiogenomics/segmentations_nrrd/R01-037.nrrd',\n",
       " '/labs/gevaertlab/data/lung cancer/StanfordRadiogenomics/segmentations_nrrd/R01-038.nrrd',\n",
       " '/labs/gevaertlab/data/lung cancer/StanfordRadiogenomics/segmentations_nrrd/R01-039.nrrd',\n",
       " '/labs/gevaertlab/data/lung cancer/StanfordRadiogenomics/segmentations_nrrd/R01-040.nrrd',\n",
       " '/labs/gevaertlab/data/lung cancer/StanfordRadiogenomics/segmentations_nrrd/R01-041.nrrd',\n",
       " '/labs/gevaertlab/data/lung cancer/StanfordRadiogenomics/segmentations_nrrd/R01-042.nrrd',\n",
       " '/labs/gevaertlab/data/lung cancer/StanfordRadiogenomics/segmentations_nrrd/R01-043.nrrd',\n",
       " '/labs/gevaertlab/data/lung cancer/StanfordRadiogenomics/segmentations_nrrd/R01-044.nrrd',\n",
       " '/labs/gevaertlab/data/lung cancer/StanfordRadiogenomics/segmentations_nrrd/R01-045.nrrd',\n",
       " '/labs/gevaertlab/data/lung cancer/StanfordRadiogenomics/segmentations_nrrd/R01-046.nrrd',\n",
       " '/labs/gevaertlab/data/lung cancer/StanfordRadiogenomics/segmentations_nrrd/R01-047.nrrd',\n",
       " '/labs/gevaertlab/data/lung cancer/StanfordRadiogenomics/segmentations_nrrd/R01-048.nrrd',\n",
       " '/labs/gevaertlab/data/lung cancer/StanfordRadiogenomics/segmentations_nrrd/R01-049.nrrd',\n",
       " '/labs/gevaertlab/data/lung cancer/StanfordRadiogenomics/segmentations_nrrd/R01-050.nrrd',\n",
       " '/labs/gevaertlab/data/lung cancer/StanfordRadiogenomics/segmentations_nrrd/R01-051.nrrd',\n",
       " '/labs/gevaertlab/data/lung cancer/StanfordRadiogenomics/segmentations_nrrd/R01-052.nrrd',\n",
       " '/labs/gevaertlab/data/lung cancer/StanfordRadiogenomics/segmentations_nrrd/R01-053.nrrd',\n",
       " '/labs/gevaertlab/data/lung cancer/StanfordRadiogenomics/segmentations_nrrd/R01-054.nrrd',\n",
       " '/labs/gevaertlab/data/lung cancer/StanfordRadiogenomics/segmentations_nrrd/R01-055.nrrd',\n",
       " '/labs/gevaertlab/data/lung cancer/StanfordRadiogenomics/segmentations_nrrd/R01-056.nrrd',\n",
       " '/labs/gevaertlab/data/lung cancer/StanfordRadiogenomics/segmentations_nrrd/R01-057.nrrd',\n",
       " '/labs/gevaertlab/data/lung cancer/StanfordRadiogenomics/segmentations_nrrd/R01-058.nrrd',\n",
       " '/labs/gevaertlab/data/lung cancer/StanfordRadiogenomics/segmentations_nrrd/R01-060.nrrd',\n",
       " '/labs/gevaertlab/data/lung cancer/StanfordRadiogenomics/segmentations_nrrd/R01-061.nrrd',\n",
       " '/labs/gevaertlab/data/lung cancer/StanfordRadiogenomics/segmentations_nrrd/R01-062.nrrd',\n",
       " '/labs/gevaertlab/data/lung cancer/StanfordRadiogenomics/segmentations_nrrd/R01-063.nrrd',\n",
       " '/labs/gevaertlab/data/lung cancer/StanfordRadiogenomics/segmentations_nrrd/R01-064.nrrd',\n",
       " '/labs/gevaertlab/data/lung cancer/StanfordRadiogenomics/segmentations_nrrd/R01-065.nrrd',\n",
       " '/labs/gevaertlab/data/lung cancer/StanfordRadiogenomics/segmentations_nrrd/R01-066.nrrd',\n",
       " '/labs/gevaertlab/data/lung cancer/StanfordRadiogenomics/segmentations_nrrd/R01-067.nrrd',\n",
       " '/labs/gevaertlab/data/lung cancer/StanfordRadiogenomics/segmentations_nrrd/R01-068.nrrd',\n",
       " '/labs/gevaertlab/data/lung cancer/StanfordRadiogenomics/segmentations_nrrd/R01-069.nrrd',\n",
       " '/labs/gevaertlab/data/lung cancer/StanfordRadiogenomics/segmentations_nrrd/R01-070.nrrd',\n",
       " '/labs/gevaertlab/data/lung cancer/StanfordRadiogenomics/segmentations_nrrd/R01-071.nrrd',\n",
       " '/labs/gevaertlab/data/lung cancer/StanfordRadiogenomics/segmentations_nrrd/R01-072.nrrd',\n",
       " '/labs/gevaertlab/data/lung cancer/StanfordRadiogenomics/segmentations_nrrd/R01-073.nrrd',\n",
       " '/labs/gevaertlab/data/lung cancer/StanfordRadiogenomics/segmentations_nrrd/R01-074.nrrd',\n",
       " '/labs/gevaertlab/data/lung cancer/StanfordRadiogenomics/segmentations_nrrd/R01-075.nrrd',\n",
       " '/labs/gevaertlab/data/lung cancer/StanfordRadiogenomics/segmentations_nrrd/R01-076.nrrd',\n",
       " '/labs/gevaertlab/data/lung cancer/StanfordRadiogenomics/segmentations_nrrd/R01-077.nrrd',\n",
       " '/labs/gevaertlab/data/lung cancer/StanfordRadiogenomics/segmentations_nrrd/R01-078.nrrd',\n",
       " '/labs/gevaertlab/data/lung cancer/StanfordRadiogenomics/segmentations_nrrd/R01-079.nrrd',\n",
       " '/labs/gevaertlab/data/lung cancer/StanfordRadiogenomics/segmentations_nrrd/R01-080.nrrd',\n",
       " '/labs/gevaertlab/data/lung cancer/StanfordRadiogenomics/segmentations_nrrd/R01-081.nrrd',\n",
       " '/labs/gevaertlab/data/lung cancer/StanfordRadiogenomics/segmentations_nrrd/R01-082.nrrd',\n",
       " '/labs/gevaertlab/data/lung cancer/StanfordRadiogenomics/segmentations_nrrd/R01-083.nrrd',\n",
       " '/labs/gevaertlab/data/lung cancer/StanfordRadiogenomics/segmentations_nrrd/R01-084.nrrd',\n",
       " '/labs/gevaertlab/data/lung cancer/StanfordRadiogenomics/segmentations_nrrd/R01-085.nrrd',\n",
       " '/labs/gevaertlab/data/lung cancer/StanfordRadiogenomics/segmentations_nrrd/R01-086.nrrd',\n",
       " '/labs/gevaertlab/data/lung cancer/StanfordRadiogenomics/segmentations_nrrd/R01-087.nrrd',\n",
       " '/labs/gevaertlab/data/lung cancer/StanfordRadiogenomics/segmentations_nrrd/R01-088.nrrd',\n",
       " '/labs/gevaertlab/data/lung cancer/StanfordRadiogenomics/segmentations_nrrd/R01-089.nrrd',\n",
       " '/labs/gevaertlab/data/lung cancer/StanfordRadiogenomics/segmentations_nrrd/R01-090.nrrd',\n",
       " '/labs/gevaertlab/data/lung cancer/StanfordRadiogenomics/segmentations_nrrd/R01-091.nrrd',\n",
       " '/labs/gevaertlab/data/lung cancer/StanfordRadiogenomics/segmentations_nrrd/R01-092.nrrd',\n",
       " '/labs/gevaertlab/data/lung cancer/StanfordRadiogenomics/segmentations_nrrd/R01-093.nrrd',\n",
       " '/labs/gevaertlab/data/lung cancer/StanfordRadiogenomics/segmentations_nrrd/R01-094.nrrd',\n",
       " '/labs/gevaertlab/data/lung cancer/StanfordRadiogenomics/segmentations_nrrd/R01-095.nrrd',\n",
       " '/labs/gevaertlab/data/lung cancer/StanfordRadiogenomics/segmentations_nrrd/R01-096.nrrd',\n",
       " '/labs/gevaertlab/data/lung cancer/StanfordRadiogenomics/segmentations_nrrd/R01-097.nrrd',\n",
       " '/labs/gevaertlab/data/lung cancer/StanfordRadiogenomics/segmentations_nrrd/R01-098.nrrd',\n",
       " '/labs/gevaertlab/data/lung cancer/StanfordRadiogenomics/segmentations_nrrd/R01-099.nrrd',\n",
       " '/labs/gevaertlab/data/lung cancer/StanfordRadiogenomics/segmentations_nrrd/R01-100.nrrd',\n",
       " '/labs/gevaertlab/data/lung cancer/StanfordRadiogenomics/segmentations_nrrd/R01-101.nrrd',\n",
       " '/labs/gevaertlab/data/lung cancer/StanfordRadiogenomics/segmentations_nrrd/R01-102.nrrd',\n",
       " '/labs/gevaertlab/data/lung cancer/StanfordRadiogenomics/segmentations_nrrd/R01-103.nrrd',\n",
       " '/labs/gevaertlab/data/lung cancer/StanfordRadiogenomics/segmentations_nrrd/R01-104.nrrd',\n",
       " '/labs/gevaertlab/data/lung cancer/StanfordRadiogenomics/segmentations_nrrd/R01-105.nrrd',\n",
       " '/labs/gevaertlab/data/lung cancer/StanfordRadiogenomics/segmentations_nrrd/R01-106.nrrd',\n",
       " '/labs/gevaertlab/data/lung cancer/StanfordRadiogenomics/segmentations_nrrd/R01-107.nrrd',\n",
       " '/labs/gevaertlab/data/lung cancer/StanfordRadiogenomics/segmentations_nrrd/R01-108.nrrd',\n",
       " '/labs/gevaertlab/data/lung cancer/StanfordRadiogenomics/segmentations_nrrd/R01-109.nrrd',\n",
       " '/labs/gevaertlab/data/lung cancer/StanfordRadiogenomics/segmentations_nrrd/R01-110.nrrd',\n",
       " '/labs/gevaertlab/data/lung cancer/StanfordRadiogenomics/segmentations_nrrd/R01-111.nrrd',\n",
       " '/labs/gevaertlab/data/lung cancer/StanfordRadiogenomics/segmentations_nrrd/R01-112.nrrd',\n",
       " '/labs/gevaertlab/data/lung cancer/StanfordRadiogenomics/segmentations_nrrd/R01-113.nrrd',\n",
       " '/labs/gevaertlab/data/lung cancer/StanfordRadiogenomics/segmentations_nrrd/R01-114.nrrd',\n",
       " '/labs/gevaertlab/data/lung cancer/StanfordRadiogenomics/segmentations_nrrd/R01-115.nrrd',\n",
       " '/labs/gevaertlab/data/lung cancer/StanfordRadiogenomics/segmentations_nrrd/R01-116.nrrd',\n",
       " '/labs/gevaertlab/data/lung cancer/StanfordRadiogenomics/segmentations_nrrd/R01-117.nrrd',\n",
       " '/labs/gevaertlab/data/lung cancer/StanfordRadiogenomics/segmentations_nrrd/R01-118.nrrd',\n",
       " '/labs/gevaertlab/data/lung cancer/StanfordRadiogenomics/segmentations_nrrd/R01-119.nrrd',\n",
       " '/labs/gevaertlab/data/lung cancer/StanfordRadiogenomics/segmentations_nrrd/R01-120.nrrd',\n",
       " '/labs/gevaertlab/data/lung cancer/StanfordRadiogenomics/segmentations_nrrd/R01-121.nrrd',\n",
       " '/labs/gevaertlab/data/lung cancer/StanfordRadiogenomics/segmentations_nrrd/R01-122.nrrd',\n",
       " '/labs/gevaertlab/data/lung cancer/StanfordRadiogenomics/segmentations_nrrd/R01-123.nrrd',\n",
       " '/labs/gevaertlab/data/lung cancer/StanfordRadiogenomics/segmentations_nrrd/R01-124.nrrd',\n",
       " '/labs/gevaertlab/data/lung cancer/StanfordRadiogenomics/segmentations_nrrd/R01-125.nrrd',\n",
       " '/labs/gevaertlab/data/lung cancer/StanfordRadiogenomics/segmentations_nrrd/R01-126.nrrd',\n",
       " '/labs/gevaertlab/data/lung cancer/StanfordRadiogenomics/segmentations_nrrd/R01-127.nrrd',\n",
       " '/labs/gevaertlab/data/lung cancer/StanfordRadiogenomics/segmentations_nrrd/R01-128.nrrd',\n",
       " '/labs/gevaertlab/data/lung cancer/StanfordRadiogenomics/segmentations_nrrd/R01-129.nrrd',\n",
       " '/labs/gevaertlab/data/lung cancer/StanfordRadiogenomics/segmentations_nrrd/R01-130.nrrd',\n",
       " '/labs/gevaertlab/data/lung cancer/StanfordRadiogenomics/segmentations_nrrd/R01-131.nrrd',\n",
       " '/labs/gevaertlab/data/lung cancer/StanfordRadiogenomics/segmentations_nrrd/R01-132.nrrd',\n",
       " '/labs/gevaertlab/data/lung cancer/StanfordRadiogenomics/segmentations_nrrd/R01-133.nrrd',\n",
       " '/labs/gevaertlab/data/lung cancer/StanfordRadiogenomics/segmentations_nrrd/R01-134.nrrd',\n",
       " '/labs/gevaertlab/data/lung cancer/StanfordRadiogenomics/segmentations_nrrd/R01-135.nrrd',\n",
       " '/labs/gevaertlab/data/lung cancer/StanfordRadiogenomics/segmentations_nrrd/R01-136.nrrd',\n",
       " '/labs/gevaertlab/data/lung cancer/StanfordRadiogenomics/segmentations_nrrd/R01-137.nrrd',\n",
       " '/labs/gevaertlab/data/lung cancer/StanfordRadiogenomics/segmentations_nrrd/R01-138.nrrd',\n",
       " '/labs/gevaertlab/data/lung cancer/StanfordRadiogenomics/segmentations_nrrd/R01-139.nrrd',\n",
       " '/labs/gevaertlab/data/lung cancer/StanfordRadiogenomics/segmentations_nrrd/R01-140.nrrd',\n",
       " '/labs/gevaertlab/data/lung cancer/StanfordRadiogenomics/segmentations_nrrd/R01-141.nrrd',\n",
       " '/labs/gevaertlab/data/lung cancer/StanfordRadiogenomics/segmentations_nrrd/R01-142.nrrd',\n",
       " '/labs/gevaertlab/data/lung cancer/StanfordRadiogenomics/segmentations_nrrd/R01-144.nrrd',\n",
       " '/labs/gevaertlab/data/lung cancer/StanfordRadiogenomics/segmentations_nrrd/R01-145.nrrd',\n",
       " '/labs/gevaertlab/data/lung cancer/StanfordRadiogenomics/segmentations_nrrd/R01-146.nrrd']"
      ]
     },
     "execution_count": 31,
     "metadata": {},
     "output_type": "execute_result"
    }
   ],
   "source": [
    "# match the segmentation files with the image files\n",
    "df_train[\"Segmentation\"] = nrrd_seg_paths"
   ]
  },
  {
   "cell_type": "code",
   "execution_count": 34,
   "metadata": {},
   "outputs": [],
   "source": [
    "df_train.to_csv(\"/labs/gevaertlab/users/yyhhli/code/vae/baselines/pyradiomics/image_mask_nrrd_segmentations.csv\", index=False)"
   ]
  },
  {
   "cell_type": "code",
   "execution_count": 26,
   "metadata": {},
   "outputs": [
    {
     "ename": "TypeError",
     "evalue": "'list' object cannot be interpreted as an integer",
     "output_type": "error",
     "traceback": [
      "\u001b[0;31m---------------------------------------------------------------------------\u001b[0m",
      "\u001b[0;31mTypeError\u001b[0m                                 Traceback (most recent call last)",
      "\u001b[1;32m/labs/gevaertlab/users/yyhhli/code/vae/baselines/pyradiomics/pyradiomics_extraction.ipynb Cell 13'\u001b[0m in \u001b[0;36m<cell line: 3>\u001b[0;34m()\u001b[0m\n\u001b[1;32m      <a href='vscode-notebook-cell://ssh-remote%2Bbmir-gpu/labs/gevaertlab/users/yyhhli/code/vae/baselines/pyradiomics/pyradiomics_extraction.ipynb#ch0000021vscode-remote?line=0'>1</a>\u001b[0m \u001b[39m# show a slice where there is a tumor\u001b[39;00m\n\u001b[1;32m      <a href='vscode-notebook-cell://ssh-remote%2Bbmir-gpu/labs/gevaertlab/users/yyhhli/code/vae/baselines/pyradiomics/pyradiomics_extraction.ipynb#ch0000021vscode-remote?line=1'>2</a>\u001b[0m \u001b[39mimport\u001b[39;00m \u001b[39mmatplotlib\u001b[39;00m\u001b[39m.\u001b[39;00m\u001b[39mpyplot\u001b[39;00m \u001b[39mas\u001b[39;00m \u001b[39mplt\u001b[39;00m\n\u001b[0;32m----> <a href='vscode-notebook-cell://ssh-remote%2Bbmir-gpu/labs/gevaertlab/users/yyhhli/code/vae/baselines/pyradiomics/pyradiomics_extraction.ipynb#ch0000021vscode-remote?line=2'>3</a>\u001b[0m tumor_slices \u001b[39m=\u001b[39m np\u001b[39m.\u001b[39;49msum(seg_np \u001b[39m==\u001b[39;49m \u001b[39m255\u001b[39;49m, axis\u001b[39m=\u001b[39;49m[\u001b[39m0\u001b[39;49m, \u001b[39m1\u001b[39;49m])\n\u001b[1;32m      <a href='vscode-notebook-cell://ssh-remote%2Bbmir-gpu/labs/gevaertlab/users/yyhhli/code/vae/baselines/pyradiomics/pyradiomics_extraction.ipynb#ch0000021vscode-remote?line=3'>4</a>\u001b[0m plt\u001b[39m.\u001b[39mimshow(seg_np[:, :, \u001b[39m10\u001b[39m])\n",
      "File \u001b[0;32m<__array_function__ internals>:5\u001b[0m, in \u001b[0;36msum\u001b[0;34m(*args, **kwargs)\u001b[0m\n",
      "File \u001b[0;32m/labs/gevaertlab/users/yyhhli/miniconda3/envs/lungvae38/lib/python3.8/site-packages/numpy/core/fromnumeric.py:2259\u001b[0m, in \u001b[0;36msum\u001b[0;34m(a, axis, dtype, out, keepdims, initial, where)\u001b[0m\n\u001b[1;32m   <a href='file:///labs/gevaertlab/users/yyhhli/miniconda3/envs/lungvae38/lib/python3.8/site-packages/numpy/core/fromnumeric.py?line=2255'>2256</a>\u001b[0m         \u001b[39mreturn\u001b[39;00m out\n\u001b[1;32m   <a href='file:///labs/gevaertlab/users/yyhhli/miniconda3/envs/lungvae38/lib/python3.8/site-packages/numpy/core/fromnumeric.py?line=2256'>2257</a>\u001b[0m     \u001b[39mreturn\u001b[39;00m res\n\u001b[0;32m-> <a href='file:///labs/gevaertlab/users/yyhhli/miniconda3/envs/lungvae38/lib/python3.8/site-packages/numpy/core/fromnumeric.py?line=2258'>2259</a>\u001b[0m \u001b[39mreturn\u001b[39;00m _wrapreduction(a, np\u001b[39m.\u001b[39;49madd, \u001b[39m'\u001b[39;49m\u001b[39msum\u001b[39;49m\u001b[39m'\u001b[39;49m, axis, dtype, out, keepdims\u001b[39m=\u001b[39;49mkeepdims,\n\u001b[1;32m   <a href='file:///labs/gevaertlab/users/yyhhli/miniconda3/envs/lungvae38/lib/python3.8/site-packages/numpy/core/fromnumeric.py?line=2259'>2260</a>\u001b[0m                       initial\u001b[39m=\u001b[39;49minitial, where\u001b[39m=\u001b[39;49mwhere)\n",
      "File \u001b[0;32m/labs/gevaertlab/users/yyhhli/miniconda3/envs/lungvae38/lib/python3.8/site-packages/numpy/core/fromnumeric.py:86\u001b[0m, in \u001b[0;36m_wrapreduction\u001b[0;34m(obj, ufunc, method, axis, dtype, out, **kwargs)\u001b[0m\n\u001b[1;32m     <a href='file:///labs/gevaertlab/users/yyhhli/miniconda3/envs/lungvae38/lib/python3.8/site-packages/numpy/core/fromnumeric.py?line=82'>83</a>\u001b[0m         \u001b[39melse\u001b[39;00m:\n\u001b[1;32m     <a href='file:///labs/gevaertlab/users/yyhhli/miniconda3/envs/lungvae38/lib/python3.8/site-packages/numpy/core/fromnumeric.py?line=83'>84</a>\u001b[0m             \u001b[39mreturn\u001b[39;00m reduction(axis\u001b[39m=\u001b[39maxis, out\u001b[39m=\u001b[39mout, \u001b[39m*\u001b[39m\u001b[39m*\u001b[39mpasskwargs)\n\u001b[0;32m---> <a href='file:///labs/gevaertlab/users/yyhhli/miniconda3/envs/lungvae38/lib/python3.8/site-packages/numpy/core/fromnumeric.py?line=85'>86</a>\u001b[0m \u001b[39mreturn\u001b[39;00m ufunc\u001b[39m.\u001b[39;49mreduce(obj, axis, dtype, out, \u001b[39m*\u001b[39;49m\u001b[39m*\u001b[39;49mpasskwargs)\n",
      "\u001b[0;31mTypeError\u001b[0m: 'list' object cannot be interpreted as an integer"
     ]
    }
   ],
   "source": [
    "# convert segmentation to nrrd files\n"
   ]
  },
  {
   "cell_type": "code",
   "execution_count": 27,
   "metadata": {},
   "outputs": [
    {
     "data": {
      "text/plain": [
       "array([[0, 0, 0, ..., 0, 0, 0],\n",
       "       [0, 0, 0, ..., 0, 0, 0],\n",
       "       [0, 0, 0, ..., 0, 0, 0],\n",
       "       ...,\n",
       "       [0, 0, 0, ..., 0, 0, 0],\n",
       "       [0, 0, 0, ..., 0, 0, 0],\n",
       "       [0, 0, 0, ..., 0, 0, 0]])"
      ]
     },
     "execution_count": 27,
     "metadata": {},
     "output_type": "execute_result"
    }
   ],
   "source": [
    "tumor_slices"
   ]
  },
  {
   "cell_type": "code",
   "execution_count": 16,
   "metadata": {},
   "outputs": [
    {
     "data": {
      "text/html": [
       "<div>\n",
       "<style scoped>\n",
       "    .dataframe tbody tr th:only-of-type {\n",
       "        vertical-align: middle;\n",
       "    }\n",
       "\n",
       "    .dataframe tbody tr th {\n",
       "        vertical-align: top;\n",
       "    }\n",
       "\n",
       "    .dataframe thead th {\n",
       "        text-align: right;\n",
       "    }\n",
       "</style>\n",
       "<table border=\"1\" class=\"dataframe\">\n",
       "  <thead>\n",
       "    <tr style=\"text-align: right;\">\n",
       "      <th></th>\n",
       "      <th>Image</th>\n",
       "      <th>Mask</th>\n",
       "    </tr>\n",
       "  </thead>\n",
       "  <tbody>\n",
       "    <tr>\n",
       "      <th>0</th>\n",
       "      <td>/labs/gevaertlab/data/NSCLC_Radiogenomics/Resa...</td>\n",
       "      <td>/labs/gevaertlab/data/NSCLC_Radiogenomics/Resa...</td>\n",
       "    </tr>\n",
       "    <tr>\n",
       "      <th>1</th>\n",
       "      <td>/labs/gevaertlab/data/NSCLC_Radiogenomics/Resa...</td>\n",
       "      <td>/labs/gevaertlab/data/NSCLC_Radiogenomics/Resa...</td>\n",
       "    </tr>\n",
       "    <tr>\n",
       "      <th>2</th>\n",
       "      <td>/labs/gevaertlab/data/NSCLC_Radiogenomics/Resa...</td>\n",
       "      <td>/labs/gevaertlab/data/NSCLC_Radiogenomics/Resa...</td>\n",
       "    </tr>\n",
       "    <tr>\n",
       "      <th>3</th>\n",
       "      <td>/labs/gevaertlab/data/NSCLC_Radiogenomics/Resa...</td>\n",
       "      <td>/labs/gevaertlab/data/NSCLC_Radiogenomics/Resa...</td>\n",
       "    </tr>\n",
       "    <tr>\n",
       "      <th>4</th>\n",
       "      <td>/labs/gevaertlab/data/NSCLC_Radiogenomics/Resa...</td>\n",
       "      <td>/labs/gevaertlab/data/NSCLC_Radiogenomics/Resa...</td>\n",
       "    </tr>\n",
       "    <tr>\n",
       "      <th>...</th>\n",
       "      <td>...</td>\n",
       "      <td>...</td>\n",
       "    </tr>\n",
       "    <tr>\n",
       "      <th>138</th>\n",
       "      <td>/labs/gevaertlab/data/NSCLC_Radiogenomics/Resa...</td>\n",
       "      <td>/labs/gevaertlab/data/NSCLC_Radiogenomics/Resa...</td>\n",
       "    </tr>\n",
       "    <tr>\n",
       "      <th>139</th>\n",
       "      <td>/labs/gevaertlab/data/NSCLC_Radiogenomics/Resa...</td>\n",
       "      <td>/labs/gevaertlab/data/NSCLC_Radiogenomics/Resa...</td>\n",
       "    </tr>\n",
       "    <tr>\n",
       "      <th>140</th>\n",
       "      <td>/labs/gevaertlab/data/NSCLC_Radiogenomics/Resa...</td>\n",
       "      <td>/labs/gevaertlab/data/NSCLC_Radiogenomics/Resa...</td>\n",
       "    </tr>\n",
       "    <tr>\n",
       "      <th>141</th>\n",
       "      <td>/labs/gevaertlab/data/NSCLC_Radiogenomics/Resa...</td>\n",
       "      <td>/labs/gevaertlab/data/NSCLC_Radiogenomics/Resa...</td>\n",
       "    </tr>\n",
       "    <tr>\n",
       "      <th>142</th>\n",
       "      <td>/labs/gevaertlab/data/NSCLC_Radiogenomics/Resa...</td>\n",
       "      <td>/labs/gevaertlab/data/NSCLC_Radiogenomics/Resa...</td>\n",
       "    </tr>\n",
       "  </tbody>\n",
       "</table>\n",
       "<p>143 rows × 2 columns</p>\n",
       "</div>"
      ],
      "text/plain": [
       "                                                 Image  \\\n",
       "0    /labs/gevaertlab/data/NSCLC_Radiogenomics/Resa...   \n",
       "1    /labs/gevaertlab/data/NSCLC_Radiogenomics/Resa...   \n",
       "2    /labs/gevaertlab/data/NSCLC_Radiogenomics/Resa...   \n",
       "3    /labs/gevaertlab/data/NSCLC_Radiogenomics/Resa...   \n",
       "4    /labs/gevaertlab/data/NSCLC_Radiogenomics/Resa...   \n",
       "..                                                 ...   \n",
       "138  /labs/gevaertlab/data/NSCLC_Radiogenomics/Resa...   \n",
       "139  /labs/gevaertlab/data/NSCLC_Radiogenomics/Resa...   \n",
       "140  /labs/gevaertlab/data/NSCLC_Radiogenomics/Resa...   \n",
       "141  /labs/gevaertlab/data/NSCLC_Radiogenomics/Resa...   \n",
       "142  /labs/gevaertlab/data/NSCLC_Radiogenomics/Resa...   \n",
       "\n",
       "                                                  Mask  \n",
       "0    /labs/gevaertlab/data/NSCLC_Radiogenomics/Resa...  \n",
       "1    /labs/gevaertlab/data/NSCLC_Radiogenomics/Resa...  \n",
       "2    /labs/gevaertlab/data/NSCLC_Radiogenomics/Resa...  \n",
       "3    /labs/gevaertlab/data/NSCLC_Radiogenomics/Resa...  \n",
       "4    /labs/gevaertlab/data/NSCLC_Radiogenomics/Resa...  \n",
       "..                                                 ...  \n",
       "138  /labs/gevaertlab/data/NSCLC_Radiogenomics/Resa...  \n",
       "139  /labs/gevaertlab/data/NSCLC_Radiogenomics/Resa...  \n",
       "140  /labs/gevaertlab/data/NSCLC_Radiogenomics/Resa...  \n",
       "141  /labs/gevaertlab/data/NSCLC_Radiogenomics/Resa...  \n",
       "142  /labs/gevaertlab/data/NSCLC_Radiogenomics/Resa...  \n",
       "\n",
       "[143 rows x 2 columns]"
      ]
     },
     "execution_count": 16,
     "metadata": {},
     "output_type": "execute_result"
    }
   ],
   "source": [
    "df_train"
   ]
  },
  {
   "cell_type": "code",
   "execution_count": 18,
   "metadata": {},
   "outputs": [],
   "source": [
    "# save to csv \n",
    "df_train.to_csv(osp.join(os.getcwd(), \"pyradiomics_features_train.csv\"), index=False)"
   ]
  },
  {
   "cell_type": "code",
   "execution_count": 1,
   "metadata": {},
   "outputs": [],
   "source": [
    "import os\n",
    "import os.path as osp\n",
    "import sys"
   ]
  },
  {
   "cell_type": "code",
   "execution_count": 7,
   "metadata": {},
   "outputs": [],
   "source": [
    "# extract pyradiomics features using default setting + batch mode command\n",
    "conda_string = \"source /home/yyhhli/miniconda3/bin/activate; conda activate lungvae38\"\n",
    "path_to_file = osp.join(os.getcwd(), \"pyradiomics_list.csv\")\n",
    "path_to_save = osp.join(os.getcwd(), \"pyradiomics_features.csv\")\n",
    "path_to_save_default = osp.join(os.getcwd(), \"pyradiomics_features_default.csv\")\n",
    "command_string = f\"pyradiomics '{path_to_file}'\" \\\n",
    "    \" --param '/labs/gevaertlab/users/yyhhli/code/vae/baselines/pyradiomics/stanford_config_from_njjz.yaml'\" \\\n",
    "    f\" -o '{path_to_save}'\" \\\n",
    "    \" -f csv\"\n",
    "default_command = f\"pyradiomics '{path_to_file}'\" \\\n",
    "    \" --param '/labs/gevaertlab/users/yyhhli/code/vae/baselines/pyradiomics/stanford_default.yaml'\" \\\n",
    "    f\" -o '{path_to_save_default}'\" \\\n",
    "    \" -f csv\""
   ]
  },
  {
   "cell_type": "code",
   "execution_count": 8,
   "metadata": {},
   "outputs": [
    {
     "data": {
      "text/plain": [
       "\"pyradiomics '/labs/gevaertlab/users/yyhhli/code/vae/baselines/pyradiomics/pyradiomics_list.csv' --param '/labs/gevaertlab/users/yyhhli/code/vae/baselines/pyradiomics/stanford_default.yaml' -o '/labs/gevaertlab/users/yyhhli/code/vae/baselines/pyradiomics/pyradiomics_features_default.csv' -f csv\""
      ]
     },
     "execution_count": 8,
     "metadata": {},
     "output_type": "execute_result"
    }
   ],
   "source": [
    "default_command"
   ]
  },
  {
   "cell_type": "code",
   "execution_count": 17,
   "metadata": {},
   "outputs": [
    {
     "name": "stdout",
     "output_type": "stream",
     "text": [
      "pyradiomics '/labs/gevaertlab/users/yyhhli/code/vae/baselines/pyradiomics/pyradiomics_list.csv' --param '/labs/gevaertlab/users/yyhhli/code/vae/baselines/pyradiomics/stanford_config_from_njjz.yaml' -o '/labs/gevaertlab/users/yyhhli/code/vae/baselines/pyradiomics/pyradiomics_features.csv' -f csv\n"
     ]
    },
    {
     "ename": "",
     "evalue": "",
     "output_type": "error",
     "traceback": [
      "\u001b[1;31mThe Kernel crashed while executing code in the the current cell or a previous cell. Please review the code in the cell(s) to identify a possible cause of the failure. Click <a href='https://aka.ms/vscodeJupyterKernelCrash'>here</a> for more info. View Jupyter <a href='command:jupyter.viewOutput'>log</a> for further details."
     ]
    }
   ],
   "source": [
    "print(command_string)"
   ]
  },
  {
   "cell_type": "code",
   "execution_count": 9,
   "metadata": {},
   "outputs": [
    {
     "name": "stderr",
     "output_type": "stream",
     "text": [
      "/labs/gevaertlab/users/yyhhli/miniconda3/envs/lungvae38/lib/python3.8/site-packages/tqdm/auto.py:22: TqdmWarning: IProgress not found. Please update jupyter and ipywidgets. See https://ipywidgets.readthedocs.io/en/stable/user_install.html\n",
      "  from .autonotebook import tqdm as notebook_tqdm\n"
     ]
    }
   ],
   "source": [
    "# ERROR: ValueError: Label (1) not present in mask. Choose from [255]\n",
    "# TODO: try to load the segmentations\n",
    "sys.path.insert(1, \"/labs/gevaertlab/users/yyhhli/code/vae\")\n",
    "from datasets.ct.ct_stanfordradiogenomics import StanfordRadiogenomicsDataset\n",
    "\n",
    "ds = StanfordRadiogenomicsDataset(split='train')"
   ]
  },
  {
   "cell_type": "code",
   "execution_count": 13,
   "metadata": {},
   "outputs": [],
   "source": [
    "seg = ds.load_seg_np(\"/labs/gevaertlab/data/NSCLC_Radiogenomics/Segmentations/R01-005/1-132.dcm\")"
   ]
  },
  {
   "cell_type": "code",
   "execution_count": 15,
   "metadata": {},
   "outputs": [
    {
     "data": {
      "text/plain": [
       "array([  0, 255], dtype=uint8)"
      ]
     },
     "execution_count": 15,
     "metadata": {},
     "output_type": "execute_result"
    }
   ],
   "source": [
    "import numpy as np\n",
    "np.unique(seg)"
   ]
  },
  {
   "cell_type": "code",
   "execution_count": 7,
   "metadata": {},
   "outputs": [
    {
     "name": "stderr",
     "output_type": "stream",
     "text": [
      "Could not find conda environment: lungvae38\n",
      "You can list all discoverable environments with `conda info --envs`.\n",
      "\n",
      "[2022-05-12 14:52:58] E: radiomics.script: Feature extraction failed!\n",
      "Traceback (most recent call last):\n",
      "  File \"/labs/gevaertlab/users/yyhhli/miniconda3/envs/lungvae38/lib/python3.8/site-packages/radiomics/scripts/segment.py\", line 70, in _extractFeatures\n",
      "    feature_vector.update(extractor.execute(imageFilepath, maskFilepath, label, label_channel))\n",
      "  File \"/labs/gevaertlab/users/yyhhli/miniconda3/envs/lungvae38/lib/python3.8/site-packages/radiomics/featureextractor.py\", line 272, in execute\n",
      "    image, mask = self.loadImage(imageFilepath, maskFilepath, generalInfo, **_settings)\n",
      "  File \"/labs/gevaertlab/users/yyhhli/miniconda3/envs/lungvae38/lib/python3.8/site-packages/radiomics/featureextractor.py\", line 385, in loadImage\n",
      "    mask = imageoperations.getMask(mask, **kwargs)\n",
      "  File \"/labs/gevaertlab/users/yyhhli/miniconda3/envs/lungvae38/lib/python3.8/site-packages/radiomics/imageoperations.py\", line 51, in getMask\n",
      "    raise ValueError('Label (%g) not present in mask. Choose from %s' % (label, labels[labels != 0]))\n",
      "ValueError: Label (1) not present in mask. Choose from [255]\n",
      "[2022-05-12 14:53:02] E: radiomics.script: Feature extraction failed!\n",
      "Traceback (most recent call last):\n",
      "  File \"/labs/gevaertlab/users/yyhhli/miniconda3/envs/lungvae38/lib/python3.8/site-packages/radiomics/scripts/segment.py\", line 70, in _extractFeatures\n",
      "    feature_vector.update(extractor.execute(imageFilepath, maskFilepath, label, label_channel))\n",
      "  File \"/labs/gevaertlab/users/yyhhli/miniconda3/envs/lungvae38/lib/python3.8/site-packages/radiomics/featureextractor.py\", line 272, in execute\n",
      "    image, mask = self.loadImage(imageFilepath, maskFilepath, generalInfo, **_settings)\n",
      "  File \"/labs/gevaertlab/users/yyhhli/miniconda3/envs/lungvae38/lib/python3.8/site-packages/radiomics/featureextractor.py\", line 385, in loadImage\n",
      "    mask = imageoperations.getMask(mask, **kwargs)\n",
      "  File \"/labs/gevaertlab/users/yyhhli/miniconda3/envs/lungvae38/lib/python3.8/site-packages/radiomics/imageoperations.py\", line 51, in getMask\n",
      "    raise ValueError('Label (%g) not present in mask. Choose from %s' % (label, labels[labels != 0]))\n",
      "ValueError: Label (1) not present in mask. Choose from [255]\n",
      "[2022-05-12 14:53:06] E: radiomics.script: Feature extraction failed!\n",
      "Traceback (most recent call last):\n",
      "  File \"/labs/gevaertlab/users/yyhhli/miniconda3/envs/lungvae38/lib/python3.8/site-packages/radiomics/scripts/segment.py\", line 70, in _extractFeatures\n",
      "    feature_vector.update(extractor.execute(imageFilepath, maskFilepath, label, label_channel))\n",
      "  File \"/labs/gevaertlab/users/yyhhli/miniconda3/envs/lungvae38/lib/python3.8/site-packages/radiomics/featureextractor.py\", line 272, in execute\n",
      "    image, mask = self.loadImage(imageFilepath, maskFilepath, generalInfo, **_settings)\n",
      "  File \"/labs/gevaertlab/users/yyhhli/miniconda3/envs/lungvae38/lib/python3.8/site-packages/radiomics/featureextractor.py\", line 385, in loadImage\n",
      "    mask = imageoperations.getMask(mask, **kwargs)\n",
      "  File \"/labs/gevaertlab/users/yyhhli/miniconda3/envs/lungvae38/lib/python3.8/site-packages/radiomics/imageoperations.py\", line 51, in getMask\n",
      "    raise ValueError('Label (%g) not present in mask. Choose from %s' % (label, labels[labels != 0]))\n",
      "ValueError: Label (1) not present in mask. Choose from [255]\n"
     ]
    },
    {
     "data": {
      "text/plain": [
       "65280"
      ]
     },
     "execution_count": 7,
     "metadata": {},
     "output_type": "execute_result"
    }
   ],
   "source": [
    "os.system(\";\".join([conda_string, command_string]))"
   ]
  }
 ],
 "metadata": {
  "interpreter": {
   "hash": "69a9686b88574cea3f3be86d1b85294c5e5eb295dbbf26619c72ae656e929b42"
  },
  "kernelspec": {
   "display_name": "Python 3.8.13 ('lungvae38')",
   "language": "python",
   "name": "python3"
  },
  "language_info": {
   "codemirror_mode": {
    "name": "ipython",
    "version": 3
   },
   "file_extension": ".py",
   "mimetype": "text/x-python",
   "name": "python",
   "nbconvert_exporter": "python",
   "pygments_lexer": "ipython3",
   "version": "3.8.13"
  },
  "orig_nbformat": 4
 },
 "nbformat": 4,
 "nbformat_minor": 2
}
